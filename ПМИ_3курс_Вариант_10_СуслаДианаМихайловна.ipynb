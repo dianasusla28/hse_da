{
  "nbformat": 4,
  "nbformat_minor": 0,
  "metadata": {
    "colab": {
      "name": "ПМИ_3курс_Вариант_10_СуслаДианаМихайловна.ipynb",
      "provenance": [],
      "collapsed_sections": []
    },
    "kernelspec": {
      "name": "python3",
      "display_name": "Python 3"
    },
    "language_info": {
      "name": "python"
    }
  },
  "cells": [
    {
      "cell_type": "markdown",
      "metadata": {
        "id": "JgWxz8Wi-EI0"
      },
      "source": [
        "ОТВЕТЫ:\n",
        "1. Доля 1 в выборке accept = 0.021410579345088162\n",
        "2. Для одобренных заявок:\n",
        "\n",
        "|                               |        income |   CNT_MNTH_FROM_LAST_PMNT |      age |   count_mnth_act_passport |   experience |\n",
        "|:------------------------------|--------------:|--------------------------:|---------:|--------------------------:|-------------:|\n",
        "| Доля пропушенных значений     |     0.0213799 |                  0.31182  |  0       |                   0       |   0.00125945 |\n",
        "| Медиана                       | 41582         |                  0.926008 | 34.8374  |                   7.77596 |   3.25583    |\n",
        "| Среднее значение              | 61129.1       |                 19.165    | 36.5075  |                   7.2256  |   4.89618    |\n",
        "| Среднеквадратичное отклонение | 81982.1       |                135.376    |  8.20403 |                   3.34852 |   5.27834    |\n",
        "\n",
        "|    |     income |   CNT_MNTH_FROM_LAST_PMNT |        age |   count_mnth_act_passport |   experience |\n",
        "|:---|-----------:|--------------------------:|-----------:|--------------------------:|-------------:|\n",
        "| IV | -0.0492463 |               -0.00272269 | -0.0448163 |                -0.0783537 |    -0.162315 |\n",
        "\n",
        "Для отклоненных заявок:\n",
        "\n",
        "|                               |        income |   CNT_MNTH_FROM_LAST_PMNT |       age |   count_mnth_act_passport |   experience |\n",
        "|:------------------------------|--------------:|--------------------------:|----------:|--------------------------:|-------------:|\n",
        "| Доля пропушенных значений     |     0.0510614 |                  0.511269 |  0        |                   0       |  0.000748153 |\n",
        "| Медиана                       | 29115         |                  0.864539 | 24.1093   |                   3.71311 |  1.22574     |\n",
        "| Среднее значение              | 33651.2       |                 42.4782   | 24.0371   |                   3.50927 |  1.66008     |\n",
        "| Среднеквадратичное отклонение | 21820.8       |                228.81     |  0.738227 |                   1.15433 |  1.39407     |\n",
        "\n",
        "IV для объединенных данных:\n",
        "\n",
        "|    |     income |   CNT_MNTH_FROM_LAST_PMNT |       age |   count_mnth_act_passport |   experience |\n",
        "|:---|-----------:|--------------------------:|----------:|--------------------------:|-------------:|\n",
        "| IV | -0.0698674 |               -0.00607779 | 0.0184554 |                 -0.246041 |    -0.243327 |\n",
        "\n",
        "Аномальные значения найдены в признаках  CNT_MNTH_FROM_LAST_PMNT и count_mnth_act_passport и скорректированы.\n",
        "\n",
        "3. Для одобренных заявок:\n",
        "\n",
        "|                           | INCOME_TYPE   | EDUCATION_   | CUSTOMER_CATEGORY_   |   DEPENDANT_NUMBER |   IS_EMPL |   COUNT_ACTIVE_CREDIT_NO_CC |   inquiry_14_day |   inquiry_21_day |\n",
        "|:--------------------------|:--------------|:-------------|:---------------------|-------------------:|----------:|----------------------------:|-----------------:|-----------------:|\n",
        "| Доля пропушенных значений | 0.0           | 0.0          | 0.5965472752964306   |         0.00113657 |         0 |                     0.25834 |         0.282822 |         0.282822 |\n",
        "| Мода                      | OTHER         | elementary   | Corporate            |         0          |         0 |                     0       |         0        |         0        |\n",
        "\n",
        "|    |   INCOME_TYPE |   EDUCATION_ |   CUSTOMER_CATEGORY_ |   DEPENDANT_NUMBER |   IS_EMPL |   COUNT_ACTIVE_CREDIT_NO_CC |   inquiry_14_day |   inquiry_21_day |\n",
        "|:---|--------------:|-------------:|---------------------:|-------------------:|----------:|----------------------------:|-----------------:|-----------------:|\n",
        "| IV |    -0.0229507 |    -0.132365 |          -0.00177986 |        -0.00966854 | -0.759091 |                   -0.218812 |        -0.451898 |         -0.48275 |\n",
        "\n",
        "Для отклоненных заявок:\n",
        "\n",
        "|                           | INCOME_TYPE   | EDUCATION_   | CUSTOMER_CATEGORY_   |   DEPENDANT_NUMBER |   IS_EMPL |   COUNT_ACTIVE_CREDIT_NO_CC |   inquiry_14_day |   inquiry_21_day |\n",
        "|:--------------------------|:--------------|:-------------|:---------------------|-------------------:|----------:|----------------------------:|-----------------:|-----------------:|\n",
        "| Доля пропушенных значений | 0.0           | 0.0          | 0.4820936639118457   |        0.000590319 |         0 |                           0 |        0.0230224 |        0.0230224 |\n",
        "| Мода                      | OTHER         | elementary   | Corporate            |        0           |         1 |                           0 |        0         |        0         |\n",
        "\n",
        "IV для объединенных данных:\n",
        "\n",
        "|    |   INCOME_TYPE |   EDUCATION_ |   CUSTOMER_CATEGORY_ |   DEPENDANT_NUMBER |   IS_EMPL |   COUNT_ACTIVE_CREDIT_NO_CC |   inquiry_14_day |   inquiry_21_day |\n",
        "|:---|--------------:|-------------:|---------------------:|-------------------:|----------:|----------------------------:|-----------------:|-----------------:|\n",
        "| IV |    -0.0585968 |    -0.059291 |            -0.004762 |        -0.00645561 |   1.14323 |                   0.0397387 |         0.169064 |         0.165502 |\n",
        "\n",
        "Аномальные значения не обнаружены.\n",
        "\n",
        "4. \n",
        "Значение коэффициента Gini для регрессии на одобренных заявках =  0.6667604791026458.\n",
        "Значение F1-меры для регрессии на одобренных заявках =  0.04115410422724222\n",
        "\n",
        "5. Доля отказанных заявок =  0.24725414479617083\n",
        "\n",
        "6. Значение коэффициента Gini для регрессии на всех заявках =  0.7869848423441677.\n",
        "Значение F1-меры для регрессии на всех заявках =  0.21505376344086022\n",
        "\n",
        "7. Как мы знаем, че больше значение коэффициента Gini и F1 меры, тем выше качество классификации. В нашем случае значения данных метрик вышли выше для модели на объедененной выборке, то есть содержащей в себе как одобренные заявки, так и отклоненные. Вывод отсюда можно сделать такой, что очевидно, что отклоненные заявки также несут в себе информацию о клиентах банка, поэтому полезны при построении скоринговой модели. Ведь при использовании моедли в дальнейшем нам придется обрабатывать как потенциально \"хорошие\" заявки, так и потенциально \"плохие\" (которым нужно отказать), поэтому важно понимать особенности отклоненных ранее заявок при построении скоринговой модели.Единственная проблема, которая тут возникает - на моменте Reject Inference при восстановлении меток таргета у отклоненных заявок. Как мне кажется, тот метод, который использовали мы не очень корректен на наших данных, так как среди отклоненных заявок есть такие значения признаков, которые вообще не встречаются среди одобренных (например, возраст), таким образом бинаризация происходит не полностью корректно, из-за чего качество будущей модели (в нашем случае логистической регресси) хуже, чем могло быть. Мне кажется, что при более граммотном выполнении Reject Inference модель на объедененной выборке дала бы еще более хорошее часество (все-таки значение F1 меры 0.22 - это довольно посредственно).\n",
        "\n",
        "Так что, как мне кажется, логичнее внедрить в продуктивную среду было бы модель, построенную на всех заявках, а не только на принятых."
      ]
    },
    {
      "cell_type": "code",
      "metadata": {
        "id": "NeozjVhn_PW0"
      },
      "source": [
        "import numpy as np\n",
        "import scipy\n",
        "import matplotlib.pyplot as plt\n",
        "import pandas as pd\n",
        "import time\n",
        "from sklearn.model_selection import train_test_split\n",
        "from sklearn.model_selection import RandomizedSearchCV\n",
        "from sklearn.preprocessing import OneHotEncoder\n",
        "from sklearn.pipeline import make_pipeline\n",
        "from sklearn.linear_model import LogisticRegression\n",
        "from sklearn.compose import ColumnTransformer\n",
        "from sklearn.preprocessing import StandardScaler\n",
        "from sklearn.pipeline import Pipeline\n",
        "from sklearn.model_selection import GridSearchCV\n",
        "from google.colab import files\n",
        "from sklearn.metrics import roc_curve\n",
        "from sklearn.metrics import f1_score\n",
        "from sklearn.metrics import roc_auc_score"
      ],
      "execution_count": 864,
      "outputs": []
    },
    {
      "cell_type": "code",
      "metadata": {
        "id": "PRgYMNX1_wvt"
      },
      "source": [
        "import warnings\n",
        "warnings.filterwarnings(\"ignore\")"
      ],
      "execution_count": 865,
      "outputs": []
    },
    {
      "cell_type": "code",
      "metadata": {
        "colab": {
          "base_uri": "https://localhost:8080/"
        },
        "id": "0csXoN-I_wz7",
        "outputId": "fa023871-4f4a-4a09-d8f1-b942d2c81a85"
      },
      "source": [
        "from google.colab import drive\n",
        "drive.mount('/content/gdrive')"
      ],
      "execution_count": 866,
      "outputs": [
        {
          "output_type": "stream",
          "text": [
            "Drive already mounted at /content/gdrive; to attempt to forcibly remount, call drive.mount(\"/content/gdrive\", force_remount=True).\n"
          ],
          "name": "stdout"
        }
      ]
    },
    {
      "cell_type": "code",
      "metadata": {
        "id": "krEFLjya_w2q"
      },
      "source": [
        "accept = pd.read_csv('/content/gdrive/My Drive/10_accept.csv')\n",
        "reject = pd.read_csv('/content/gdrive/My Drive/10_reject.csv')"
      ],
      "execution_count": 867,
      "outputs": []
    },
    {
      "cell_type": "code",
      "metadata": {
        "colab": {
          "base_uri": "https://localhost:8080/",
          "height": 204
        },
        "id": "ktbhnMfB_w6W",
        "outputId": "ebcccff2-b06c-49c6-ab2f-9814257e85bf"
      },
      "source": [
        "accept.head()"
      ],
      "execution_count": 868,
      "outputs": [
        {
          "output_type": "execute_result",
          "data": {
            "text/html": [
              "<div>\n",
              "<style scoped>\n",
              "    .dataframe tbody tr th:only-of-type {\n",
              "        vertical-align: middle;\n",
              "    }\n",
              "\n",
              "    .dataframe tbody tr th {\n",
              "        vertical-align: top;\n",
              "    }\n",
              "\n",
              "    .dataframe thead th {\n",
              "        text-align: right;\n",
              "    }\n",
              "</style>\n",
              "<table border=\"1\" class=\"dataframe\">\n",
              "  <thead>\n",
              "    <tr style=\"text-align: right;\">\n",
              "      <th></th>\n",
              "      <th>target</th>\n",
              "      <th>INCOME_TYPE</th>\n",
              "      <th>EDUCATION_</th>\n",
              "      <th>CUSTOMER_CATEGORY_</th>\n",
              "      <th>income</th>\n",
              "      <th>DEPENDANT_NUMBER</th>\n",
              "      <th>IS_EMPL</th>\n",
              "      <th>COUNT_ACTIVE_CREDIT_NO_CC</th>\n",
              "      <th>CNT_MNTH_FROM_LAST_PMNT</th>\n",
              "      <th>age</th>\n",
              "      <th>experience</th>\n",
              "      <th>inquiry_14_day</th>\n",
              "      <th>inquiry_21_day</th>\n",
              "      <th>count_mnth_act_passport</th>\n",
              "      <th>UID</th>\n",
              "    </tr>\n",
              "  </thead>\n",
              "  <tbody>\n",
              "    <tr>\n",
              "      <th>0</th>\n",
              "      <td>0</td>\n",
              "      <td>OTHER</td>\n",
              "      <td>elementary</td>\n",
              "      <td>NaN</td>\n",
              "      <td>60000.0</td>\n",
              "      <td>0.0</td>\n",
              "      <td>0</td>\n",
              "      <td>NaN</td>\n",
              "      <td>NaN</td>\n",
              "      <td>33.347032</td>\n",
              "      <td>3.265753</td>\n",
              "      <td>NaN</td>\n",
              "      <td>NaN</td>\n",
              "      <td>10.671233</td>\n",
              "      <td>4</td>\n",
              "    </tr>\n",
              "    <tr>\n",
              "      <th>1</th>\n",
              "      <td>0</td>\n",
              "      <td>OTHER</td>\n",
              "      <td>elementary</td>\n",
              "      <td>NaN</td>\n",
              "      <td>140000.0</td>\n",
              "      <td>0.0</td>\n",
              "      <td>0</td>\n",
              "      <td>0.0</td>\n",
              "      <td>34.218548</td>\n",
              "      <td>38.497103</td>\n",
              "      <td>4.060109</td>\n",
              "      <td>NaN</td>\n",
              "      <td>NaN</td>\n",
              "      <td>10.056007</td>\n",
              "      <td>7</td>\n",
              "    </tr>\n",
              "    <tr>\n",
              "      <th>2</th>\n",
              "      <td>0</td>\n",
              "      <td>OTHER</td>\n",
              "      <td>elementary</td>\n",
              "      <td>Corporate</td>\n",
              "      <td>119510.0</td>\n",
              "      <td>0.0</td>\n",
              "      <td>1</td>\n",
              "      <td>1.0</td>\n",
              "      <td>1.115569</td>\n",
              "      <td>28.191781</td>\n",
              "      <td>2.032877</td>\n",
              "      <td>1.0</td>\n",
              "      <td>1.0</td>\n",
              "      <td>8.109589</td>\n",
              "      <td>11</td>\n",
              "    </tr>\n",
              "    <tr>\n",
              "      <th>3</th>\n",
              "      <td>0</td>\n",
              "      <td>OTHER</td>\n",
              "      <td>elementary</td>\n",
              "      <td>NaN</td>\n",
              "      <td>50000.0</td>\n",
              "      <td>0.0</td>\n",
              "      <td>0</td>\n",
              "      <td>NaN</td>\n",
              "      <td>NaN</td>\n",
              "      <td>32.120548</td>\n",
              "      <td>4.743604</td>\n",
              "      <td>NaN</td>\n",
              "      <td>NaN</td>\n",
              "      <td>1.553425</td>\n",
              "      <td>18</td>\n",
              "    </tr>\n",
              "    <tr>\n",
              "      <th>4</th>\n",
              "      <td>0</td>\n",
              "      <td>OTHER</td>\n",
              "      <td>elementary</td>\n",
              "      <td>Corporate</td>\n",
              "      <td>102915.0</td>\n",
              "      <td>0.0</td>\n",
              "      <td>1</td>\n",
              "      <td>2.0</td>\n",
              "      <td>1.174485</td>\n",
              "      <td>54.064219</td>\n",
              "      <td>1.458739</td>\n",
              "      <td>0.0</td>\n",
              "      <td>0.0</td>\n",
              "      <td>8.888876</td>\n",
              "      <td>21</td>\n",
              "    </tr>\n",
              "  </tbody>\n",
              "</table>\n",
              "</div>"
            ],
            "text/plain": [
              "   target INCOME_TYPE  EDUCATION_  ... inquiry_21_day  count_mnth_act_passport  UID\n",
              "0       0       OTHER  elementary  ...            NaN                10.671233    4\n",
              "1       0       OTHER  elementary  ...            NaN                10.056007    7\n",
              "2       0       OTHER  elementary  ...            1.0                 8.109589   11\n",
              "3       0       OTHER  elementary  ...            NaN                 1.553425   18\n",
              "4       0       OTHER  elementary  ...            0.0                 8.888876   21\n",
              "\n",
              "[5 rows x 15 columns]"
            ]
          },
          "metadata": {
            "tags": []
          },
          "execution_count": 868
        }
      ]
    },
    {
      "cell_type": "markdown",
      "metadata": {
        "id": "tZn3fD7ZJyrk"
      },
      "source": [
        "Сразу уберем из наших данных признак UID так как никакой пользы при прогнозировании он нести не будет"
      ]
    },
    {
      "cell_type": "code",
      "metadata": {
        "id": "zwsOIDA0JyJ_"
      },
      "source": [
        "accept = accept.drop(columns='UID')\n",
        "reject = reject.drop(columns='UID')"
      ],
      "execution_count": 869,
      "outputs": []
    },
    {
      "cell_type": "code",
      "metadata": {
        "id": "H8c9hlCNoysR"
      },
      "source": [
        "num_features = ['income', 'CNT_MNTH_FROM_LAST_PMNT', 'age', 'count_mnth_act_passport', 'experience']\n",
        "cat_features = ['INCOME_TYPE', 'EDUCATION_', 'CUSTOMER_CATEGORY_', 'DEPENDANT_NUMBER', 'IS_EMPL',\n",
        "                'COUNT_ACTIVE_CREDIT_NO_CC', 'inquiry_14_day', 'inquiry_21_day']"
      ],
      "execution_count": 870,
      "outputs": []
    },
    {
      "cell_type": "markdown",
      "metadata": {
        "id": "9Vu7FQl2rtbj"
      },
      "source": [
        "1. Посчитаем долю 1 в выборке accept."
      ]
    },
    {
      "cell_type": "code",
      "metadata": {
        "colab": {
          "base_uri": "https://localhost:8080/"
        },
        "id": "bgk5GxE3ryNL",
        "outputId": "e4d55aff-db5a-4fa2-898a-948b5c054027"
      },
      "source": [
        "ones = accept.loc[accept['target'] == 1, 'target'].count() / accept.shape[0]\n",
        "print('Доля 1 в выборке accept =', ones)"
      ],
      "execution_count": 871,
      "outputs": [
        {
          "output_type": "stream",
          "text": [
            "Доля 1 в выборке accept = 0.021410579345088162\n"
          ],
          "name": "stdout"
        }
      ]
    },
    {
      "cell_type": "markdown",
      "metadata": {
        "id": "IUioTRwysgkS"
      },
      "source": [
        "2. Рассчитаем долю пропущенных значений, медиану, среднее, среднеквадратичное отклонение, information value для всех числовых значений, а также посмотрим, есть ли в данных аномальные значения и выбросы. "
      ]
    },
    {
      "cell_type": "code",
      "metadata": {
        "id": "9-LuwXEpBt6J"
      },
      "source": [
        "res_num = pd.DataFrame(index=['Доля пропушенных значений', 'Медиана', \n",
        "                              'Среднее значение', 'Среднеквадратичное отклонение'], columns=num_features)\n",
        "\n",
        "res_num_r = pd.DataFrame(index=['Доля пропушенных значений', 'Медиана', \n",
        "                              'Среднее значение', 'Среднеквадратичное отклонение'], columns=num_features)"
      ],
      "execution_count": 872,
      "outputs": []
    },
    {
      "cell_type": "code",
      "metadata": {
        "id": "gtrSgbDrpxb4"
      },
      "source": [
        "for cat in num_features:\n",
        "    res_num.loc['Доля пропушенных значений', cat] = accept[cat].isnull().sum() / accept.shape[0]\n",
        "    res_num.loc['Медиана', cat] = accept[cat].median()\n",
        "    res_num.loc['Среднее значение', cat] = accept[cat].mean()\n",
        "    res_num.loc['Среднеквадратичное отклонение', cat] = np.std(accept[cat])"
      ],
      "execution_count": 873,
      "outputs": []
    },
    {
      "cell_type": "code",
      "metadata": {
        "id": "F02QAz79px3D",
        "colab": {
          "base_uri": "https://localhost:8080/"
        },
        "outputId": "bf0e2fa2-a11d-4a7c-a3c8-bd083960bb1f"
      },
      "source": [
        "print(res_num.to_markdown())"
      ],
      "execution_count": 874,
      "outputs": [
        {
          "output_type": "stream",
          "text": [
            "|                               |        income |   CNT_MNTH_FROM_LAST_PMNT |      age |   count_mnth_act_passport |   experience |\n",
            "|:------------------------------|--------------:|--------------------------:|---------:|--------------------------:|-------------:|\n",
            "| Доля пропушенных значений     |     0.0213799 |                  0.31182  |  0       |                   0       |   0.00125945 |\n",
            "| Медиана                       | 41582         |                  0.926008 | 34.8374  |                   7.77596 |   3.25583    |\n",
            "| Среднее значение              | 61129.1       |                 19.165    | 36.5075  |                   7.2256  |   4.89618    |\n",
            "| Среднеквадратичное отклонение | 81982.1       |                135.376    |  8.20403 |                   3.34852 |   5.27834    |\n"
          ],
          "name": "stdout"
        }
      ]
    },
    {
      "cell_type": "code",
      "metadata": {
        "id": "zQh_wJ6S0P4N"
      },
      "source": [
        "for cat in num_features:\n",
        "    res_num_r.loc['Доля пропушенных значений', cat] = reject[cat].isnull().sum() / reject.shape[0]\n",
        "    res_num_r.loc['Медиана', cat] = reject[cat].median()\n",
        "    res_num_r.loc['Среднее значение', cat] = reject[cat].mean()\n",
        "    res_num_r.loc['Среднеквадратичное отклонение', cat] = np.std(reject[cat])"
      ],
      "execution_count": 875,
      "outputs": []
    },
    {
      "cell_type": "code",
      "metadata": {
        "colab": {
          "base_uri": "https://localhost:8080/"
        },
        "id": "L5ZbdEkR0hcf",
        "outputId": "c875c884-2a07-4e89-ce63-aebb2184d421"
      },
      "source": [
        "print(res_num_r.to_markdown())"
      ],
      "execution_count": 876,
      "outputs": [
        {
          "output_type": "stream",
          "text": [
            "|                               |        income |   CNT_MNTH_FROM_LAST_PMNT |       age |   count_mnth_act_passport |   experience |\n",
            "|:------------------------------|--------------:|--------------------------:|----------:|--------------------------:|-------------:|\n",
            "| Доля пропушенных значений     |     0.0510614 |                  0.511269 |  0        |                   0       |  0.000748153 |\n",
            "| Медиана                       | 29115         |                  0.864539 | 24.1093   |                   3.71311 |  1.22574     |\n",
            "| Среднее значение              | 33651.2       |                 42.4782   | 24.0371   |                   3.50927 |  1.66008     |\n",
            "| Среднеквадратичное отклонение | 21820.8       |                228.81     |  0.738227 |                   1.15433 |  1.39407     |\n"
          ],
          "name": "stdout"
        }
      ]
    },
    {
      "cell_type": "markdown",
      "metadata": {
        "id": "NB68Pohknbwr"
      },
      "source": [
        "Посмотрим, есть ли в данных аномальные значения и выбросы. "
      ]
    },
    {
      "cell_type": "code",
      "metadata": {
        "colab": {
          "base_uri": "https://localhost:8080/",
          "height": 217
        },
        "id": "ArGeFURenbRv",
        "outputId": "921aa696-8c9b-4e70-d665-7c84057d5ca5"
      },
      "source": [
        "total_axes = len(num_features)\n",
        "plt.figure(figsize=(25, 15))\n",
        "\n",
        "sp = 1  \n",
        "for cat in num_features:\n",
        "    plt.subplot(total_axes, 5, sp, title=cat)\n",
        "    plt.hist(accept[cat], color='deepskyblue', bins=30)\n",
        "    plt.grid()\n",
        "    sp += 1\n"
      ],
      "execution_count": 877,
      "outputs": [
        {
          "output_type": "display_data",
          "data": {
            "image/png": "[encoded data removed]",
            "text/plain": [
              "<Figure size 1800x1080 with 5 Axes>"
            ]
          },
          "metadata": {
            "tags": [],
            "needs_background": "light"
          }
        }
      ]
    },
    {
      "cell_type": "code",
      "metadata": {
        "colab": {
          "base_uri": "https://localhost:8080/"
        },
        "id": "r0CNUZz9TvAx",
        "outputId": "272b6454-44e0-4364-e8e2-492bee0001d7"
      },
      "source": [
        "for cat in num_features:\n",
        "    print('Уникальные значения признака', cat)\n",
        "    print(np.sort(accept[cat].unique()))"
      ],
      "execution_count": 878,
      "outputs": [
        {
          "output_type": "stream",
          "text": [
            "Уникальные значения признака income\n",
            "[0.000000e+00 7.282000e+03 7.393000e+03 ... 2.000095e+06 8.000000e+06\n",
            "          nan]\n",
            "Уникальные значения признака CNT_MNTH_FROM_LAST_PMNT\n",
            "[ -66.55902778  -66.13514785  -46.88004032 ... 1363.6999104  1364.3479391\n",
            "           nan]\n",
            "Уникальные значения признака age\n",
            "[25.00018714 25.00078599 25.00086084 ... 58.75430047 58.89881728\n",
            " 58.93780223]\n",
            "Уникальные значения признака count_mnth_act_passport\n",
            "[-1.91256830e-02 -2.73224000e-03  0.00000000e+00 ...  1.54438356e+01\n",
            "  1.54931507e+01  1.54958904e+01]\n",
            "Уникальные значения признака experience\n",
            "[-4.60000000e+00  0.00000000e+00  4.09836066e-02 ...  4.34465753e+01\n",
            "  1.01192365e+02             nan]\n"
          ],
          "name": "stdout"
        }
      ]
    },
    {
      "cell_type": "code",
      "metadata": {
        "colab": {
          "base_uri": "https://localhost:8080/"
        },
        "id": "Mnibjy7AB1wS",
        "outputId": "53b03d96-75e3-4839-90c8-f35e19ca64bb"
      },
      "source": [
        "for cat in num_features:\n",
        "    print('Уникальные значения признака', cat)\n",
        "    print(np.sort(reject[cat].unique()))"
      ],
      "execution_count": 879,
      "outputs": [
        {
          "output_type": "stream",
          "text": [
            "Уникальные значения признака income\n",
            "[     0.   8280.   8294. ... 400000. 434136.     nan]\n",
            "Уникальные значения признака CNT_MNTH_FROM_LAST_PMNT\n",
            "[ -31.07284946   -4.40544355   -4.26966846 ... 1364.3170699  1364.6334005\n",
            "           nan]\n",
            "Уникальные значения признака age\n",
            "[2.73224040e-03 5.43561644e+00 6.30958904e+00 ... 2.49997754e+01\n",
            " 2.49997979e+01 2.49998727e+01]\n",
            "Уникальные значения признака count_mnth_act_passport\n",
            "[2.73972600e-03 5.46448090e-03 8.19672130e-03 ... 1.03041096e+01\n",
            " 1.05534247e+01 4.30986301e+01]\n",
            "Уникальные значения признака experience\n",
            "[ 0.02459016  0.04098361  0.07671233 ... 13.1954263  15.27123288\n",
            "         nan]\n"
          ],
          "name": "stdout"
        }
      ]
    },
    {
      "cell_type": "markdown",
      "metadata": {
        "id": "Wt92XWJpT_1V"
      },
      "source": [
        "Заметим, что у нас имеются отрицательные значения в яейках, отвечающих за количество, чего быть не может. Исправим это."
      ]
    },
    {
      "cell_type": "code",
      "metadata": {
        "colab": {
          "base_uri": "https://localhost:8080/"
        },
        "id": "IYVQ6rXsUNRI",
        "outputId": "b0f4a644-882f-4e3e-ebcf-769faab99b1e"
      },
      "source": [
        "accept.loc[accept['CNT_MNTH_FROM_LAST_PMNT'] < 0].shape[0]"
      ],
      "execution_count": 880,
      "outputs": [
        {
          "output_type": "execute_result",
          "data": {
            "text/plain": [
              "511"
            ]
          },
          "metadata": {
            "tags": []
          },
          "execution_count": 880
        }
      ]
    },
    {
      "cell_type": "code",
      "metadata": {
        "colab": {
          "base_uri": "https://localhost:8080/"
        },
        "id": "KPg8_B57CATk",
        "outputId": "5715088b-209b-4bf1-bf6c-b2e16d58158b"
      },
      "source": [
        "reject.loc[reject['CNT_MNTH_FROM_LAST_PMNT'] < 0].shape[0]"
      ],
      "execution_count": 881,
      "outputs": [
        {
          "output_type": "execute_result",
          "data": {
            "text/plain": [
              "144"
            ]
          },
          "metadata": {
            "tags": []
          },
          "execution_count": 881
        }
      ]
    },
    {
      "cell_type": "markdown",
      "metadata": {
        "id": "QoNfkgEdUayD"
      },
      "source": [
        "Как видим, таких значений немного, так что просто удалим их"
      ]
    },
    {
      "cell_type": "code",
      "metadata": {
        "id": "EGxpRUKgT_QT"
      },
      "source": [
        "accept = accept.loc[accept['CNT_MNTH_FROM_LAST_PMNT'] >= 0]\n",
        "reject = reject.loc[reject['CNT_MNTH_FROM_LAST_PMNT'] >= 0]"
      ],
      "execution_count": 882,
      "outputs": []
    },
    {
      "cell_type": "code",
      "metadata": {
        "colab": {
          "base_uri": "https://localhost:8080/"
        },
        "id": "bt0cfEFcUtoO",
        "outputId": "e9416951-e43f-4171-bb87-562761fa2e2d"
      },
      "source": [
        "accept.loc[accept['count_mnth_act_passport'] < 0].shape[0]"
      ],
      "execution_count": 883,
      "outputs": [
        {
          "output_type": "execute_result",
          "data": {
            "text/plain": [
              "1"
            ]
          },
          "metadata": {
            "tags": []
          },
          "execution_count": 883
        }
      ]
    },
    {
      "cell_type": "code",
      "metadata": {
        "id": "2injTPYyU3p5"
      },
      "source": [
        "accept.loc[accept['count_mnth_act_passport'] < 0, 'count_mnth_act_passport'] = 0"
      ],
      "execution_count": 884,
      "outputs": []
    },
    {
      "cell_type": "code",
      "metadata": {
        "colab": {
          "base_uri": "https://localhost:8080/"
        },
        "id": "gE_1Q7ZfsFvN",
        "outputId": "23a4c98c-3316-4dce-cb02-d33567dde4dd"
      },
      "source": [
        "accept.loc[accept['experience'] < 0].shape[0]"
      ],
      "execution_count": 885,
      "outputs": [
        {
          "output_type": "execute_result",
          "data": {
            "text/plain": [
              "0"
            ]
          },
          "metadata": {
            "tags": []
          },
          "execution_count": 885
        }
      ]
    },
    {
      "cell_type": "code",
      "metadata": {
        "id": "Gf9NOPFhsKCJ"
      },
      "source": [
        "accept.loc[accept['experience'] < 0, 'experience'] = 0"
      ],
      "execution_count": 886,
      "outputs": []
    },
    {
      "cell_type": "markdown",
      "metadata": {
        "id": "UmimnbFBLbIT"
      },
      "source": [
        "Для корректного подсчета WoE заполним пропуски в данных. Для числовых признаков заполним средним."
      ]
    },
    {
      "cell_type": "code",
      "metadata": {
        "id": "FjJd_VW5Lgc_"
      },
      "source": [
        "for cat in num_features:\n",
        "    accept[cat] = accept[cat].fillna(value=accept[cat].mean())\n",
        "\n",
        "for cat in num_features:\n",
        "    reject[cat] = reject[cat].fillna(value=reject[cat].mean())"
      ],
      "execution_count": 887,
      "outputs": []
    },
    {
      "cell_type": "markdown",
      "metadata": {
        "id": "0pfQ_RAwQZxX"
      },
      "source": [
        "И также бинаризуем числовые признаки, разбив их на интервалы."
      ]
    },
    {
      "cell_type": "code",
      "metadata": {
        "colab": {
          "base_uri": "https://localhost:8080/"
        },
        "id": "ESsY0gudQgCQ",
        "outputId": "478be7a5-d9d5-43b6-feb0-c8c595989928"
      },
      "source": [
        "accept['income'].max()"
      ],
      "execution_count": 888,
      "outputs": [
        {
          "output_type": "execute_result",
          "data": {
            "text/plain": [
              "2000095.0"
            ]
          },
          "metadata": {
            "tags": []
          },
          "execution_count": 888
        }
      ]
    },
    {
      "cell_type": "code",
      "metadata": {
        "id": "a3AltNCDQhBJ"
      },
      "source": [
        "count = 0\n",
        "step = accept['income'].max() / 20\n",
        "for i in range(20):\n",
        "    accept.loc[(accept['income'] > count) & (accept['income'] <= count + step), 'income'] = i\n",
        "    reject.loc[(reject['income'] > count) & (reject['income'] <= count + step), 'income'] = i\n",
        "    count += step"
      ],
      "execution_count": 889,
      "outputs": []
    },
    {
      "cell_type": "code",
      "metadata": {
        "colab": {
          "base_uri": "https://localhost:8080/"
        },
        "id": "l-wleAtQTWzx",
        "outputId": "4d563187-5210-4cc5-a436-9f5148199b52"
      },
      "source": [
        "accept['income'].unique()"
      ],
      "execution_count": 890,
      "outputs": [
        {
          "output_type": "execute_result",
          "data": {
            "text/plain": [
              "array([ 1.,  0.,  2.,  8.,  9.,  3.,  5.,  4.,  6.,  7., 12., 19., 13.,\n",
              "       15.])"
            ]
          },
          "metadata": {
            "tags": []
          },
          "execution_count": 890
        }
      ]
    },
    {
      "cell_type": "code",
      "metadata": {
        "colab": {
          "base_uri": "https://localhost:8080/"
        },
        "id": "nfkJfrOiQhKO",
        "outputId": "bd470087-3a50-4f06-b4af-104fab7826cc"
      },
      "source": [
        "accept['CNT_MNTH_FROM_LAST_PMNT'].max()"
      ],
      "execution_count": 891,
      "outputs": [
        {
          "output_type": "execute_result",
          "data": {
            "text/plain": [
              "1364.3479390999998"
            ]
          },
          "metadata": {
            "tags": []
          },
          "execution_count": 891
        }
      ]
    },
    {
      "cell_type": "code",
      "metadata": {
        "id": "I2xVmUiXTWmX"
      },
      "source": [
        "count = 0\n",
        "step = accept['CNT_MNTH_FROM_LAST_PMNT'].max() / 20\n",
        "for i in range(20):\n",
        "    accept.loc[(accept['CNT_MNTH_FROM_LAST_PMNT'] > count) & (accept['CNT_MNTH_FROM_LAST_PMNT'] <= count + step), 'CNT_MNTH_FROM_LAST_PMNT'] = i\n",
        "    reject.loc[(reject['CNT_MNTH_FROM_LAST_PMNT'] > count) & (reject['CNT_MNTH_FROM_LAST_PMNT'] <= count + step), 'CNT_MNTH_FROM_LAST_PMNT'] = i\n",
        "    count += step"
      ],
      "execution_count": 892,
      "outputs": []
    },
    {
      "cell_type": "code",
      "metadata": {
        "id": "sa2jsAkwDRVo"
      },
      "source": [
        "reject.loc[reject['CNT_MNTH_FROM_LAST_PMNT'] == 1364.6334005, 'CNT_MNTH_FROM_LAST_PMNT'] = 19"
      ],
      "execution_count": 893,
      "outputs": []
    },
    {
      "cell_type": "code",
      "metadata": {
        "colab": {
          "base_uri": "https://localhost:8080/"
        },
        "id": "1nCJcHDOTW4j",
        "outputId": "0e477449-119f-4253-fa6e-b96182392912"
      },
      "source": [
        "accept['CNT_MNTH_FROM_LAST_PMNT'].unique()"
      ],
      "execution_count": 894,
      "outputs": [
        {
          "output_type": "execute_result",
          "data": {
            "text/plain": [
              "array([ 0., 19.,  1.])"
            ]
          },
          "metadata": {
            "tags": []
          },
          "execution_count": 894
        }
      ]
    },
    {
      "cell_type": "code",
      "metadata": {
        "colab": {
          "base_uri": "https://localhost:8080/"
        },
        "id": "_vDpOYlBTW8R",
        "outputId": "0cdc1fd1-eda8-4419-e7ad-a660bb309f0e"
      },
      "source": [
        "accept['age'].max()"
      ],
      "execution_count": 895,
      "outputs": [
        {
          "output_type": "execute_result",
          "data": {
            "text/plain": [
              "58.937802231000006"
            ]
          },
          "metadata": {
            "tags": []
          },
          "execution_count": 895
        }
      ]
    },
    {
      "cell_type": "code",
      "metadata": {
        "id": "8VqoChiZXsHD"
      },
      "source": [
        "count = 0\n",
        "step = accept['age'].max() / 20\n",
        "for i in range(20):\n",
        "    accept.loc[(accept['age'] > count) & (accept['age'] <= count + step), 'age'] = i\n",
        "    reject.loc[(reject['age'] > count) & (reject['age'] <= count + step), 'age'] = i\n",
        "    count += step"
      ],
      "execution_count": 896,
      "outputs": []
    },
    {
      "cell_type": "code",
      "metadata": {
        "id": "6gTSn68dACYy"
      },
      "source": [
        "accept.loc[accept['age'] == 58.937802231000006, 'age'] = 19"
      ],
      "execution_count": 897,
      "outputs": []
    },
    {
      "cell_type": "code",
      "metadata": {
        "colab": {
          "base_uri": "https://localhost:8080/"
        },
        "id": "xmF31aj3AL4y",
        "outputId": "245e4dc4-3e8e-4ec0-e834-9673ef1c2544"
      },
      "source": [
        "accept['age'].unique()"
      ],
      "execution_count": 898,
      "outputs": [
        {
          "output_type": "execute_result",
          "data": {
            "text/plain": [
              "array([13.,  9., 18.,  8., 11., 17., 10., 12., 15., 14., 16., 19.])"
            ]
          },
          "metadata": {
            "tags": []
          },
          "execution_count": 898
        }
      ]
    },
    {
      "cell_type": "code",
      "metadata": {
        "colab": {
          "base_uri": "https://localhost:8080/"
        },
        "id": "tR2enu96TXMb",
        "outputId": "cd629eab-e537-4f25-ea4a-bfc985e5f5a8"
      },
      "source": [
        "accept['count_mnth_act_passport'].max()"
      ],
      "execution_count": 899,
      "outputs": [
        {
          "output_type": "execute_result",
          "data": {
            "text/plain": [
              "15.4"
            ]
          },
          "metadata": {
            "tags": []
          },
          "execution_count": 899
        }
      ]
    },
    {
      "cell_type": "code",
      "metadata": {
        "id": "HyrxDfJ-X17Q"
      },
      "source": [
        "count = 0\n",
        "step = accept['count_mnth_act_passport'].max() / 15\n",
        "for i in range(15):\n",
        "    accept.loc[(accept['count_mnth_act_passport'] > count) & (accept['count_mnth_act_passport'] <= count + step), 'count_mnth_act_passport'] = i\n",
        "    reject.loc[(reject['count_mnth_act_passport'] > count) & (reject['count_mnth_act_passport'] <= count + step), 'count_mnth_act_passport'] = i\n",
        "    count += step"
      ],
      "execution_count": 900,
      "outputs": []
    },
    {
      "cell_type": "code",
      "metadata": {
        "id": "vzMEJXjeDt5n"
      },
      "source": [
        "reject.loc[reject['count_mnth_act_passport'] == 43.098630137, 'count_mnth_act_passport'] = 10"
      ],
      "execution_count": 901,
      "outputs": []
    },
    {
      "cell_type": "code",
      "metadata": {
        "colab": {
          "base_uri": "https://localhost:8080/"
        },
        "id": "8vlTvrg1X2Ar",
        "outputId": "524733b8-a5d4-495a-e09f-71694c53ea4c"
      },
      "source": [
        "accept['count_mnth_act_passport'].unique()"
      ],
      "execution_count": 902,
      "outputs": [
        {
          "output_type": "execute_result",
          "data": {
            "text/plain": [
              "array([ 9.,  7.,  8.,  5., 11., 10.,  4.,  6.,  3.,  2., 13.,  0.,  1.,\n",
              "       12., 14.])"
            ]
          },
          "metadata": {
            "tags": []
          },
          "execution_count": 902
        }
      ]
    },
    {
      "cell_type": "code",
      "metadata": {
        "colab": {
          "base_uri": "https://localhost:8080/"
        },
        "id": "DKuOjYdPuUaQ",
        "outputId": "4b405546-73a7-404e-c424-9731b14b72e6"
      },
      "source": [
        "accept['experience'].max()"
      ],
      "execution_count": 903,
      "outputs": [
        {
          "output_type": "execute_result",
          "data": {
            "text/plain": [
              "38.547945205"
            ]
          },
          "metadata": {
            "tags": []
          },
          "execution_count": 903
        }
      ]
    },
    {
      "cell_type": "code",
      "metadata": {
        "id": "thuYCMq6uUfd"
      },
      "source": [
        "count = 0\n",
        "step = accept['experience'].max() / 15\n",
        "for i in range(15):\n",
        "    accept.loc[(accept['experience'] > count) & (accept['experience'] <= count + step), 'experience'] = i\n",
        "    reject.loc[(reject['experience'] > count) & (reject['experience'] <= count + step), 'experience'] = i\n",
        "    count += step"
      ],
      "execution_count": 904,
      "outputs": []
    },
    {
      "cell_type": "code",
      "metadata": {
        "colab": {
          "base_uri": "https://localhost:8080/"
        },
        "id": "9CcIOwGIuUoQ",
        "outputId": "ef9089b9-4f6f-4833-a9e9-a94c43a0f042"
      },
      "source": [
        "accept['experience'].unique()"
      ],
      "execution_count": 905,
      "outputs": [
        {
          "output_type": "execute_result",
          "data": {
            "text/plain": [
              "array([ 1.,  0.,  3.,  5.,  2.,  6.,  4.,  7.,  9., 10., 11.,  8., 13.,\n",
              "       12., 14.])"
            ]
          },
          "metadata": {
            "tags": []
          },
          "execution_count": 905
        }
      ]
    },
    {
      "cell_type": "markdown",
      "metadata": {
        "id": "kM_po5AIKlwy"
      },
      "source": [
        "Для удобства создадим отдельные таблички для каждого признака с расчетом IV и WoE."
      ]
    },
    {
      "cell_type": "code",
      "metadata": {
        "id": "NKdMNpQwPUQP"
      },
      "source": [
        "iv_num = pd.DataFrame(index=['IV'])"
      ],
      "execution_count": 906,
      "outputs": []
    },
    {
      "cell_type": "code",
      "metadata": {
        "colab": {
          "base_uri": "https://localhost:8080/",
          "height": 514
        },
        "id": "ObmIdtQbKutG",
        "outputId": "6c0afa47-376c-4c90-e752-bc177ee3604e"
      },
      "source": [
        "d_income = pd.DataFrame(index=accept['income'].unique(), columns=['количество объектов', 'количество 1', 'f(x|y=1)', 'количество 0', 'f(x|y=0)', 'WoE'])\n",
        "d_income.index.names = ['income']\n",
        "\n",
        "for el in accept['income'].unique():\n",
        "    d_income.loc[el, 'количество объектов'] = accept.loc[accept['income'] == el].shape[0]\n",
        "    d_income.loc[el, 'количество 1'] = accept.loc[(accept['income'] == el) & (accept['target'] == 1)].shape[0]\n",
        "    d_income.loc[el, 'f(x|y=1)'] =  d_income.loc[el, 'количество 1']  / accept.loc[accept['target'] == 1].shape[0]\n",
        "    d_income.loc[el, 'количество 0'] = accept.loc[(accept['income'] == el) & (accept['target'] == 0)].shape[0]\n",
        "    d_income.loc[el, 'f(x|y=0)'] = d_income.loc[el, 'количество 0']  / accept.loc[accept['target'] == 0].shape[0]\n",
        "    d_income.loc[el, 'WoE'] = np.log(d_income.loc[el, 'f(x|y=0)'] / (d_income.loc[el, 'f(x|y=1)'] + 1e-6))\n",
        "\n",
        "d_income"
      ],
      "execution_count": 907,
      "outputs": [
        {
          "output_type": "execute_result",
          "data": {
            "text/html": [
              "<div>\n",
              "<style scoped>\n",
              "    .dataframe tbody tr th:only-of-type {\n",
              "        vertical-align: middle;\n",
              "    }\n",
              "\n",
              "    .dataframe tbody tr th {\n",
              "        vertical-align: top;\n",
              "    }\n",
              "\n",
              "    .dataframe thead th {\n",
              "        text-align: right;\n",
              "    }\n",
              "</style>\n",
              "<table border=\"1\" class=\"dataframe\">\n",
              "  <thead>\n",
              "    <tr style=\"text-align: right;\">\n",
              "      <th></th>\n",
              "      <th>количество объектов</th>\n",
              "      <th>количество 1</th>\n",
              "      <th>f(x|y=1)</th>\n",
              "      <th>количество 0</th>\n",
              "      <th>f(x|y=0)</th>\n",
              "      <th>WoE</th>\n",
              "    </tr>\n",
              "    <tr>\n",
              "      <th>income</th>\n",
              "      <th></th>\n",
              "      <th></th>\n",
              "      <th></th>\n",
              "      <th></th>\n",
              "      <th></th>\n",
              "      <th></th>\n",
              "    </tr>\n",
              "  </thead>\n",
              "  <tbody>\n",
              "    <tr>\n",
              "      <th>1.0</th>\n",
              "      <td>2362</td>\n",
              "      <td>31</td>\n",
              "      <td>0.0776942</td>\n",
              "      <td>2331</td>\n",
              "      <td>0.108454</td>\n",
              "      <td>0.333531</td>\n",
              "    </tr>\n",
              "    <tr>\n",
              "      <th>0.0</th>\n",
              "      <td>18789</td>\n",
              "      <td>360</td>\n",
              "      <td>0.902256</td>\n",
              "      <td>18429</td>\n",
              "      <td>0.857442</td>\n",
              "      <td>-0.0509455</td>\n",
              "    </tr>\n",
              "    <tr>\n",
              "      <th>2.0</th>\n",
              "      <td>462</td>\n",
              "      <td>5</td>\n",
              "      <td>0.0125313</td>\n",
              "      <td>457</td>\n",
              "      <td>0.0212627</td>\n",
              "      <td>0.528645</td>\n",
              "    </tr>\n",
              "    <tr>\n",
              "      <th>8.0</th>\n",
              "      <td>8</td>\n",
              "      <td>0</td>\n",
              "      <td>0</td>\n",
              "      <td>8</td>\n",
              "      <td>0.000372214</td>\n",
              "      <td>5.91947</td>\n",
              "    </tr>\n",
              "    <tr>\n",
              "      <th>9.0</th>\n",
              "      <td>4</td>\n",
              "      <td>0</td>\n",
              "      <td>0</td>\n",
              "      <td>4</td>\n",
              "      <td>0.000186107</td>\n",
              "      <td>5.22632</td>\n",
              "    </tr>\n",
              "    <tr>\n",
              "      <th>3.0</th>\n",
              "      <td>130</td>\n",
              "      <td>1</td>\n",
              "      <td>0.00250627</td>\n",
              "      <td>129</td>\n",
              "      <td>0.00600195</td>\n",
              "      <td>0.872892</td>\n",
              "    </tr>\n",
              "    <tr>\n",
              "      <th>5.0</th>\n",
              "      <td>29</td>\n",
              "      <td>0</td>\n",
              "      <td>0</td>\n",
              "      <td>29</td>\n",
              "      <td>0.00134928</td>\n",
              "      <td>7.20732</td>\n",
              "    </tr>\n",
              "    <tr>\n",
              "      <th>4.0</th>\n",
              "      <td>65</td>\n",
              "      <td>2</td>\n",
              "      <td>0.00501253</td>\n",
              "      <td>63</td>\n",
              "      <td>0.00293119</td>\n",
              "      <td>-0.536733</td>\n",
              "    </tr>\n",
              "    <tr>\n",
              "      <th>6.0</th>\n",
              "      <td>20</td>\n",
              "      <td>0</td>\n",
              "      <td>0</td>\n",
              "      <td>20</td>\n",
              "      <td>0.000930536</td>\n",
              "      <td>6.83576</td>\n",
              "    </tr>\n",
              "    <tr>\n",
              "      <th>7.0</th>\n",
              "      <td>14</td>\n",
              "      <td>0</td>\n",
              "      <td>0</td>\n",
              "      <td>14</td>\n",
              "      <td>0.000651375</td>\n",
              "      <td>6.47909</td>\n",
              "    </tr>\n",
              "    <tr>\n",
              "      <th>12.0</th>\n",
              "      <td>4</td>\n",
              "      <td>0</td>\n",
              "      <td>0</td>\n",
              "      <td>4</td>\n",
              "      <td>0.000186107</td>\n",
              "      <td>5.22632</td>\n",
              "    </tr>\n",
              "    <tr>\n",
              "      <th>19.0</th>\n",
              "      <td>2</td>\n",
              "      <td>0</td>\n",
              "      <td>0</td>\n",
              "      <td>2</td>\n",
              "      <td>9.30536e-05</td>\n",
              "      <td>4.53318</td>\n",
              "    </tr>\n",
              "    <tr>\n",
              "      <th>13.0</th>\n",
              "      <td>1</td>\n",
              "      <td>0</td>\n",
              "      <td>0</td>\n",
              "      <td>1</td>\n",
              "      <td>4.65268e-05</td>\n",
              "      <td>3.84003</td>\n",
              "    </tr>\n",
              "    <tr>\n",
              "      <th>15.0</th>\n",
              "      <td>2</td>\n",
              "      <td>0</td>\n",
              "      <td>0</td>\n",
              "      <td>2</td>\n",
              "      <td>9.30536e-05</td>\n",
              "      <td>4.53318</td>\n",
              "    </tr>\n",
              "  </tbody>\n",
              "</table>\n",
              "</div>"
            ],
            "text/plain": [
              "       количество объектов количество 1  ...     f(x|y=0)        WoE\n",
              "income                                   ...                        \n",
              "1.0                   2362           31  ...     0.108454   0.333531\n",
              "0.0                  18789          360  ...     0.857442 -0.0509455\n",
              "2.0                    462            5  ...    0.0212627   0.528645\n",
              "8.0                      8            0  ...  0.000372214    5.91947\n",
              "9.0                      4            0  ...  0.000186107    5.22632\n",
              "3.0                    130            1  ...   0.00600195   0.872892\n",
              "5.0                     29            0  ...   0.00134928    7.20732\n",
              "4.0                     65            2  ...   0.00293119  -0.536733\n",
              "6.0                     20            0  ...  0.000930536    6.83576\n",
              "7.0                     14            0  ...  0.000651375    6.47909\n",
              "12.0                     4            0  ...  0.000186107    5.22632\n",
              "19.0                     2            0  ...  9.30536e-05    4.53318\n",
              "13.0                     1            0  ...  4.65268e-05    3.84003\n",
              "15.0                     2            0  ...  9.30536e-05    4.53318\n",
              "\n",
              "[14 rows x 6 columns]"
            ]
          },
          "metadata": {
            "tags": []
          },
          "execution_count": 907
        }
      ]
    },
    {
      "cell_type": "markdown",
      "metadata": {
        "id": "-UyFEZcIj_w5"
      },
      "source": [
        "Объеденим бины с похожим WoE и пересчитаем WoE."
      ]
    },
    {
      "cell_type": "code",
      "metadata": {
        "colab": {
          "base_uri": "https://localhost:8080/",
          "height": 514
        },
        "id": "Ii-NnZ2okHWM",
        "outputId": "f07a72ee-a72a-4374-dbdf-84ddcce3d370"
      },
      "source": [
        "d_income = pd.DataFrame(index=accept['income'].unique(), columns=['количество объектов', 'количество 1', 'f(x|y=1)', 'количество 0', 'f(x|y=0)', 'WoE'])\n",
        "d_income.index.names = ['income']\n",
        "\n",
        "accept.loc[accept['income'] == 2, 'income'] = 1\n",
        "accept.loc[accept['income'] == 3, 'income'] = 1\n",
        "accept.loc[accept['income'] == 19, 'income'] = 15\n",
        "accept.loc[accept['income'] == 12, 'income'] = 9\n",
        "accept.loc[accept['income'] == 8, 'income'] = 9\n",
        "accept.loc[accept['income'] == 7, 'income'] = 6\n",
        "accept.loc[accept['income'] == 5, 'income'] = 6\n",
        "\n",
        "reject.loc[reject['income'] == 2, 'income'] = 1\n",
        "reject.loc[reject['income'] == 3, 'income'] = 1\n",
        "reject.loc[reject['income'] == 19, 'income'] = 15\n",
        "reject.loc[reject['income'] == 12, 'income'] = 9\n",
        "reject.loc[reject['income'] == 8, 'income'] = 9\n",
        "reject.loc[reject['income'] == 7, 'income'] = 6\n",
        "reject.loc[reject['income'] == 5, 'income'] = 6\n",
        "\n",
        "for el in accept['income'].unique():\n",
        "    d_income.loc[el, 'количество объектов'] = accept.loc[accept['income'] == el].shape[0]\n",
        "    d_income.loc[el, 'количество 1'] = accept.loc[(accept['income'] == el) & (accept['target'] == 1)].shape[0]\n",
        "    d_income.loc[el, 'f(x|y=1)'] =  d_income.loc[el, 'количество 1']  / accept.loc[accept['target'] == 1].shape[0]\n",
        "    d_income.loc[el, 'количество 0'] = accept.loc[(accept['income'] == el) & (accept['target'] == 0)].shape[0]\n",
        "    d_income.loc[el, 'f(x|y=0)'] = d_income.loc[el, 'количество 0']  / accept.loc[accept['target'] == 0].shape[0]\n",
        "    d_income.loc[el, 'WoE'] = np.log(d_income.loc[el, 'f(x|y=0)'] / (d_income.loc[el, 'f(x|y=1)'] + 1e-6))\n",
        "\n",
        "d_income"
      ],
      "execution_count": 908,
      "outputs": [
        {
          "output_type": "execute_result",
          "data": {
            "text/html": [
              "<div>\n",
              "<style scoped>\n",
              "    .dataframe tbody tr th:only-of-type {\n",
              "        vertical-align: middle;\n",
              "    }\n",
              "\n",
              "    .dataframe tbody tr th {\n",
              "        vertical-align: top;\n",
              "    }\n",
              "\n",
              "    .dataframe thead th {\n",
              "        text-align: right;\n",
              "    }\n",
              "</style>\n",
              "<table border=\"1\" class=\"dataframe\">\n",
              "  <thead>\n",
              "    <tr style=\"text-align: right;\">\n",
              "      <th></th>\n",
              "      <th>количество объектов</th>\n",
              "      <th>количество 1</th>\n",
              "      <th>f(x|y=1)</th>\n",
              "      <th>количество 0</th>\n",
              "      <th>f(x|y=0)</th>\n",
              "      <th>WoE</th>\n",
              "    </tr>\n",
              "    <tr>\n",
              "      <th>income</th>\n",
              "      <th></th>\n",
              "      <th></th>\n",
              "      <th></th>\n",
              "      <th></th>\n",
              "      <th></th>\n",
              "      <th></th>\n",
              "    </tr>\n",
              "  </thead>\n",
              "  <tbody>\n",
              "    <tr>\n",
              "      <th>1.0</th>\n",
              "      <td>2954</td>\n",
              "      <td>37</td>\n",
              "      <td>0.0927318</td>\n",
              "      <td>2917</td>\n",
              "      <td>0.135719</td>\n",
              "      <td>0.380861</td>\n",
              "    </tr>\n",
              "    <tr>\n",
              "      <th>0.0</th>\n",
              "      <td>18789</td>\n",
              "      <td>360</td>\n",
              "      <td>0.902256</td>\n",
              "      <td>18429</td>\n",
              "      <td>0.857442</td>\n",
              "      <td>-0.0509455</td>\n",
              "    </tr>\n",
              "    <tr>\n",
              "      <th>2.0</th>\n",
              "      <td>NaN</td>\n",
              "      <td>NaN</td>\n",
              "      <td>NaN</td>\n",
              "      <td>NaN</td>\n",
              "      <td>NaN</td>\n",
              "      <td>NaN</td>\n",
              "    </tr>\n",
              "    <tr>\n",
              "      <th>8.0</th>\n",
              "      <td>NaN</td>\n",
              "      <td>NaN</td>\n",
              "      <td>NaN</td>\n",
              "      <td>NaN</td>\n",
              "      <td>NaN</td>\n",
              "      <td>NaN</td>\n",
              "    </tr>\n",
              "    <tr>\n",
              "      <th>9.0</th>\n",
              "      <td>16</td>\n",
              "      <td>0</td>\n",
              "      <td>0</td>\n",
              "      <td>16</td>\n",
              "      <td>0.000744428</td>\n",
              "      <td>6.61262</td>\n",
              "    </tr>\n",
              "    <tr>\n",
              "      <th>3.0</th>\n",
              "      <td>NaN</td>\n",
              "      <td>NaN</td>\n",
              "      <td>NaN</td>\n",
              "      <td>NaN</td>\n",
              "      <td>NaN</td>\n",
              "      <td>NaN</td>\n",
              "    </tr>\n",
              "    <tr>\n",
              "      <th>5.0</th>\n",
              "      <td>NaN</td>\n",
              "      <td>NaN</td>\n",
              "      <td>NaN</td>\n",
              "      <td>NaN</td>\n",
              "      <td>NaN</td>\n",
              "      <td>NaN</td>\n",
              "    </tr>\n",
              "    <tr>\n",
              "      <th>4.0</th>\n",
              "      <td>65</td>\n",
              "      <td>2</td>\n",
              "      <td>0.00501253</td>\n",
              "      <td>63</td>\n",
              "      <td>0.00293119</td>\n",
              "      <td>-0.536733</td>\n",
              "    </tr>\n",
              "    <tr>\n",
              "      <th>6.0</th>\n",
              "      <td>63</td>\n",
              "      <td>0</td>\n",
              "      <td>0</td>\n",
              "      <td>63</td>\n",
              "      <td>0.00293119</td>\n",
              "      <td>7.98316</td>\n",
              "    </tr>\n",
              "    <tr>\n",
              "      <th>7.0</th>\n",
              "      <td>NaN</td>\n",
              "      <td>NaN</td>\n",
              "      <td>NaN</td>\n",
              "      <td>NaN</td>\n",
              "      <td>NaN</td>\n",
              "      <td>NaN</td>\n",
              "    </tr>\n",
              "    <tr>\n",
              "      <th>12.0</th>\n",
              "      <td>NaN</td>\n",
              "      <td>NaN</td>\n",
              "      <td>NaN</td>\n",
              "      <td>NaN</td>\n",
              "      <td>NaN</td>\n",
              "      <td>NaN</td>\n",
              "    </tr>\n",
              "    <tr>\n",
              "      <th>19.0</th>\n",
              "      <td>NaN</td>\n",
              "      <td>NaN</td>\n",
              "      <td>NaN</td>\n",
              "      <td>NaN</td>\n",
              "      <td>NaN</td>\n",
              "      <td>NaN</td>\n",
              "    </tr>\n",
              "    <tr>\n",
              "      <th>13.0</th>\n",
              "      <td>1</td>\n",
              "      <td>0</td>\n",
              "      <td>0</td>\n",
              "      <td>1</td>\n",
              "      <td>4.65268e-05</td>\n",
              "      <td>3.84003</td>\n",
              "    </tr>\n",
              "    <tr>\n",
              "      <th>15.0</th>\n",
              "      <td>4</td>\n",
              "      <td>0</td>\n",
              "      <td>0</td>\n",
              "      <td>4</td>\n",
              "      <td>0.000186107</td>\n",
              "      <td>5.22632</td>\n",
              "    </tr>\n",
              "  </tbody>\n",
              "</table>\n",
              "</div>"
            ],
            "text/plain": [
              "       количество объектов количество 1  ...     f(x|y=0)        WoE\n",
              "income                                   ...                        \n",
              "1.0                   2954           37  ...     0.135719   0.380861\n",
              "0.0                  18789          360  ...     0.857442 -0.0509455\n",
              "2.0                    NaN          NaN  ...          NaN        NaN\n",
              "8.0                    NaN          NaN  ...          NaN        NaN\n",
              "9.0                     16            0  ...  0.000744428    6.61262\n",
              "3.0                    NaN          NaN  ...          NaN        NaN\n",
              "5.0                    NaN          NaN  ...          NaN        NaN\n",
              "4.0                     65            2  ...   0.00293119  -0.536733\n",
              "6.0                     63            0  ...   0.00293119    7.98316\n",
              "7.0                    NaN          NaN  ...          NaN        NaN\n",
              "12.0                   NaN          NaN  ...          NaN        NaN\n",
              "19.0                   NaN          NaN  ...          NaN        NaN\n",
              "13.0                     1            0  ...  4.65268e-05    3.84003\n",
              "15.0                     4            0  ...  0.000186107    5.22632\n",
              "\n",
              "[14 rows x 6 columns]"
            ]
          },
          "metadata": {
            "tags": []
          },
          "execution_count": 908
        }
      ]
    },
    {
      "cell_type": "markdown",
      "metadata": {
        "id": "2ytj-x8Ho8OK"
      },
      "source": [
        "Зполним нашу исходную таблику значениями WoE. Также по таблице accept сразу заполним reject"
      ]
    },
    {
      "cell_type": "code",
      "metadata": {
        "id": "0rCZ8J40pAq-"
      },
      "source": [
        "for el in accept['income'].unique():\n",
        "    accept.loc[accept['income'] == el, 'income'] = d_income.loc[el, 'WoE'] \n",
        "    reject.loc[reject['income'] == el, 'income'] = d_income.loc[el, 'WoE'] "
      ],
      "execution_count": 909,
      "outputs": []
    },
    {
      "cell_type": "code",
      "metadata": {
        "colab": {
          "base_uri": "https://localhost:8080/"
        },
        "id": "VmsB9lb1AaDp",
        "outputId": "ea7ed0c6-1741-4bba-8be4-3e141b8a4ea6"
      },
      "source": [
        "iv_income = np.sum((d_income['f(x|y=1)'] - d_income['f(x|y=0)']) * d_income['WoE'])\n",
        "iv_num['income'] = iv_income\n",
        "iv_income"
      ],
      "execution_count": 910,
      "outputs": [
        {
          "output_type": "execute_result",
          "data": {
            "text/plain": [
              "-0.049246255407225985"
            ]
          },
          "metadata": {
            "tags": []
          },
          "execution_count": 910
        }
      ]
    },
    {
      "cell_type": "code",
      "metadata": {
        "colab": {
          "base_uri": "https://localhost:8080/",
          "height": 173
        },
        "id": "gdqS8UhuGVd6",
        "outputId": "c5137e1d-3cc1-466a-a3f2-acd7dc042494"
      },
      "source": [
        "d_CNT_MNTH_FROM_LAST_PMNT = pd.DataFrame(index=accept['CNT_MNTH_FROM_LAST_PMNT'].unique(), columns=['количество объектов', 'количество 1', 'f(x|y=1)', 'количество 0', 'f(x|y=0)', 'WoE'])\n",
        "d_CNT_MNTH_FROM_LAST_PMNT.index.names = ['CNT_MNTH_FROM_LAST_PMNT']\n",
        "\n",
        "for el in accept['CNT_MNTH_FROM_LAST_PMNT'].unique():\n",
        "    d_CNT_MNTH_FROM_LAST_PMNT.loc[el, 'количество объектов'] = accept.loc[accept['CNT_MNTH_FROM_LAST_PMNT'] == el].shape[0]\n",
        "    d_CNT_MNTH_FROM_LAST_PMNT.loc[el, 'количество 1'] = accept.loc[(accept['CNT_MNTH_FROM_LAST_PMNT'] == el) & (accept['target'] == 1)].shape[0]\n",
        "    d_CNT_MNTH_FROM_LAST_PMNT.loc[el, 'f(x|y=1)'] =  d_CNT_MNTH_FROM_LAST_PMNT.loc[el, 'количество 1']  / accept.loc[accept['target'] == 1].shape[0]\n",
        "    d_CNT_MNTH_FROM_LAST_PMNT.loc[el, 'количество 0'] = accept.loc[(accept['CNT_MNTH_FROM_LAST_PMNT'] == el) & (accept['target'] == 0)].shape[0]\n",
        "    d_CNT_MNTH_FROM_LAST_PMNT.loc[el, 'f(x|y=0)'] = d_CNT_MNTH_FROM_LAST_PMNT.loc[el, 'количество 0']  /accept.loc[accept['target'] == 0].shape[0]\n",
        "    d_CNT_MNTH_FROM_LAST_PMNT.loc[el, 'WoE'] = np.log(d_CNT_MNTH_FROM_LAST_PMNT.loc[el, 'f(x|y=0)'] / (d_CNT_MNTH_FROM_LAST_PMNT.loc[el, 'f(x|y=1)'] + 1e-6))\n",
        "\n",
        "d_CNT_MNTH_FROM_LAST_PMNT"
      ],
      "execution_count": 911,
      "outputs": [
        {
          "output_type": "execute_result",
          "data": {
            "text/html": [
              "<div>\n",
              "<style scoped>\n",
              "    .dataframe tbody tr th:only-of-type {\n",
              "        vertical-align: middle;\n",
              "    }\n",
              "\n",
              "    .dataframe tbody tr th {\n",
              "        vertical-align: top;\n",
              "    }\n",
              "\n",
              "    .dataframe thead th {\n",
              "        text-align: right;\n",
              "    }\n",
              "</style>\n",
              "<table border=\"1\" class=\"dataframe\">\n",
              "  <thead>\n",
              "    <tr style=\"text-align: right;\">\n",
              "      <th></th>\n",
              "      <th>количество объектов</th>\n",
              "      <th>количество 1</th>\n",
              "      <th>f(x|y=1)</th>\n",
              "      <th>количество 0</th>\n",
              "      <th>f(x|y=0)</th>\n",
              "      <th>WoE</th>\n",
              "    </tr>\n",
              "    <tr>\n",
              "      <th>CNT_MNTH_FROM_LAST_PMNT</th>\n",
              "      <th></th>\n",
              "      <th></th>\n",
              "      <th></th>\n",
              "      <th></th>\n",
              "      <th></th>\n",
              "      <th></th>\n",
              "    </tr>\n",
              "  </thead>\n",
              "  <tbody>\n",
              "    <tr>\n",
              "      <th>0.0</th>\n",
              "      <td>21548</td>\n",
              "      <td>393</td>\n",
              "      <td>0.984962</td>\n",
              "      <td>21155</td>\n",
              "      <td>0.984274</td>\n",
              "      <td>-0.000700227</td>\n",
              "    </tr>\n",
              "    <tr>\n",
              "      <th>19.0</th>\n",
              "      <td>226</td>\n",
              "      <td>5</td>\n",
              "      <td>0.0125313</td>\n",
              "      <td>221</td>\n",
              "      <td>0.0102824</td>\n",
              "      <td>-0.197876</td>\n",
              "    </tr>\n",
              "    <tr>\n",
              "      <th>1.0</th>\n",
              "      <td>118</td>\n",
              "      <td>1</td>\n",
              "      <td>0.00250627</td>\n",
              "      <td>117</td>\n",
              "      <td>0.00544363</td>\n",
              "      <td>0.775254</td>\n",
              "    </tr>\n",
              "  </tbody>\n",
              "</table>\n",
              "</div>"
            ],
            "text/plain": [
              "                        количество объектов  ...          WoE\n",
              "CNT_MNTH_FROM_LAST_PMNT                      ...             \n",
              "0.0                                   21548  ... -0.000700227\n",
              "19.0                                    226  ...    -0.197876\n",
              "1.0                                     118  ...     0.775254\n",
              "\n",
              "[3 rows x 6 columns]"
            ]
          },
          "metadata": {
            "tags": []
          },
          "execution_count": 911
        }
      ]
    },
    {
      "cell_type": "code",
      "metadata": {
        "id": "8PbajUL6pZPZ"
      },
      "source": [
        "for el in accept['CNT_MNTH_FROM_LAST_PMNT'].unique():\n",
        "    accept.loc[accept['CNT_MNTH_FROM_LAST_PMNT'] == el, 'CNT_MNTH_FROM_LAST_PMNT'] = d_CNT_MNTH_FROM_LAST_PMNT.loc[el, 'WoE'] \n",
        "    reject.loc[reject['CNT_MNTH_FROM_LAST_PMNT'] == el, 'CNT_MNTH_FROM_LAST_PMNT'] = d_CNT_MNTH_FROM_LAST_PMNT.loc[el, 'WoE']"
      ],
      "execution_count": 912,
      "outputs": []
    },
    {
      "cell_type": "code",
      "metadata": {
        "colab": {
          "base_uri": "https://localhost:8080/"
        },
        "id": "CehulA_RGVmT",
        "outputId": "1a5e0aba-0536-4a97-b50b-120d503e2f74"
      },
      "source": [
        "iv_CNT_MNTH_FROM_LAST_PMNT = np.sum((d_CNT_MNTH_FROM_LAST_PMNT['f(x|y=1)'] -  d_CNT_MNTH_FROM_LAST_PMNT['f(x|y=0)']) *  d_CNT_MNTH_FROM_LAST_PMNT['WoE'])\n",
        "iv_num['CNT_MNTH_FROM_LAST_PMNT'] = iv_CNT_MNTH_FROM_LAST_PMNT\n",
        "iv_CNT_MNTH_FROM_LAST_PMNT"
      ],
      "execution_count": 913,
      "outputs": [
        {
          "output_type": "execute_result",
          "data": {
            "text/plain": [
              "-0.0027226931243145396"
            ]
          },
          "metadata": {
            "tags": []
          },
          "execution_count": 913
        }
      ]
    },
    {
      "cell_type": "code",
      "metadata": {
        "colab": {
          "base_uri": "https://localhost:8080/",
          "height": 452
        },
        "id": "1DFoqFJCHSmr",
        "outputId": "609e2ef7-4eec-4aa7-82a8-2caf8fae922c"
      },
      "source": [
        "d_age = pd.DataFrame(index=accept['age'].unique(), columns=['количество объектов', 'количество 1', 'f(x|y=1)', 'количество 0', 'f(x|y=0)', 'WoE'])\n",
        "d_age.index.names = ['age']\n",
        "\n",
        "for el in accept['age'].unique():\n",
        "    d_age.loc[el, 'количество объектов'] = accept.loc[accept['age'] == el].shape[0]\n",
        "    d_age.loc[el, 'количество 1'] = accept.loc[(accept['age'] == el) & (accept['target'] == 1)].shape[0]\n",
        "    d_age.loc[el, 'f(x|y=1)'] =  d_age.loc[el, 'количество 1']  / accept.loc[accept['target'] == 1].shape[0]\n",
        "    d_age.loc[el, 'количество 0'] = accept.loc[(accept['age'] == el) & (accept['target'] == 0)].shape[0]\n",
        "    d_age.loc[el, 'f(x|y=0)'] = d_age.loc[el, 'количество 0']  / accept.loc[accept['target'] == 0].shape[0]\n",
        "    d_age.loc[el, 'WoE'] = np.log(d_age.loc[el, 'f(x|y=0)'] / (d_age.loc[el, 'f(x|y=1)'] + 1e-6))\n",
        "\n",
        "d_age"
      ],
      "execution_count": 914,
      "outputs": [
        {
          "output_type": "execute_result",
          "data": {
            "text/html": [
              "<div>\n",
              "<style scoped>\n",
              "    .dataframe tbody tr th:only-of-type {\n",
              "        vertical-align: middle;\n",
              "    }\n",
              "\n",
              "    .dataframe tbody tr th {\n",
              "        vertical-align: top;\n",
              "    }\n",
              "\n",
              "    .dataframe thead th {\n",
              "        text-align: right;\n",
              "    }\n",
              "</style>\n",
              "<table border=\"1\" class=\"dataframe\">\n",
              "  <thead>\n",
              "    <tr style=\"text-align: right;\">\n",
              "      <th></th>\n",
              "      <th>количество объектов</th>\n",
              "      <th>количество 1</th>\n",
              "      <th>f(x|y=1)</th>\n",
              "      <th>количество 0</th>\n",
              "      <th>f(x|y=0)</th>\n",
              "      <th>WoE</th>\n",
              "    </tr>\n",
              "    <tr>\n",
              "      <th>age</th>\n",
              "      <th></th>\n",
              "      <th></th>\n",
              "      <th></th>\n",
              "      <th></th>\n",
              "      <th></th>\n",
              "      <th></th>\n",
              "    </tr>\n",
              "  </thead>\n",
              "  <tbody>\n",
              "    <tr>\n",
              "      <th>13.0</th>\n",
              "      <td>2134</td>\n",
              "      <td>45</td>\n",
              "      <td>0.112782</td>\n",
              "      <td>2089</td>\n",
              "      <td>0.0971944</td>\n",
              "      <td>-0.148752</td>\n",
              "    </tr>\n",
              "    <tr>\n",
              "      <th>9.0</th>\n",
              "      <td>3300</td>\n",
              "      <td>58</td>\n",
              "      <td>0.145363</td>\n",
              "      <td>3242</td>\n",
              "      <td>0.15084</td>\n",
              "      <td>0.0369746</td>\n",
              "    </tr>\n",
              "    <tr>\n",
              "      <th>18.0</th>\n",
              "      <td>486</td>\n",
              "      <td>8</td>\n",
              "      <td>0.0200501</td>\n",
              "      <td>478</td>\n",
              "      <td>0.0222398</td>\n",
              "      <td>0.103598</td>\n",
              "    </tr>\n",
              "    <tr>\n",
              "      <th>8.0</th>\n",
              "      <td>1614</td>\n",
              "      <td>27</td>\n",
              "      <td>0.0676692</td>\n",
              "      <td>1587</td>\n",
              "      <td>0.073838</td>\n",
              "      <td>0.0872279</td>\n",
              "    </tr>\n",
              "    <tr>\n",
              "      <th>11.0</th>\n",
              "      <td>2868</td>\n",
              "      <td>47</td>\n",
              "      <td>0.117794</td>\n",
              "      <td>2821</td>\n",
              "      <td>0.131252</td>\n",
              "      <td>0.108169</td>\n",
              "    </tr>\n",
              "    <tr>\n",
              "      <th>17.0</th>\n",
              "      <td>1097</td>\n",
              "      <td>26</td>\n",
              "      <td>0.0651629</td>\n",
              "      <td>1071</td>\n",
              "      <td>0.0498302</td>\n",
              "      <td>-0.268285</td>\n",
              "    </tr>\n",
              "    <tr>\n",
              "      <th>10.0</th>\n",
              "      <td>3287</td>\n",
              "      <td>45</td>\n",
              "      <td>0.112782</td>\n",
              "      <td>3242</td>\n",
              "      <td>0.15084</td>\n",
              "      <td>0.290753</td>\n",
              "    </tr>\n",
              "    <tr>\n",
              "      <th>12.0</th>\n",
              "      <td>2370</td>\n",
              "      <td>56</td>\n",
              "      <td>0.140351</td>\n",
              "      <td>2314</td>\n",
              "      <td>0.107663</td>\n",
              "      <td>-0.265147</td>\n",
              "    </tr>\n",
              "    <tr>\n",
              "      <th>15.0</th>\n",
              "      <td>1486</td>\n",
              "      <td>33</td>\n",
              "      <td>0.0827068</td>\n",
              "      <td>1453</td>\n",
              "      <td>0.0676034</td>\n",
              "      <td>-0.201655</td>\n",
              "    </tr>\n",
              "    <tr>\n",
              "      <th>14.0</th>\n",
              "      <td>1734</td>\n",
              "      <td>23</td>\n",
              "      <td>0.0576441</td>\n",
              "      <td>1711</td>\n",
              "      <td>0.0796073</td>\n",
              "      <td>0.322801</td>\n",
              "    </tr>\n",
              "    <tr>\n",
              "      <th>16.0</th>\n",
              "      <td>1299</td>\n",
              "      <td>29</td>\n",
              "      <td>0.0726817</td>\n",
              "      <td>1270</td>\n",
              "      <td>0.059089</td>\n",
              "      <td>-0.207059</td>\n",
              "    </tr>\n",
              "    <tr>\n",
              "      <th>19.0</th>\n",
              "      <td>217</td>\n",
              "      <td>2</td>\n",
              "      <td>0.00501253</td>\n",
              "      <td>215</td>\n",
              "      <td>0.0100033</td>\n",
              "      <td>0.69077</td>\n",
              "    </tr>\n",
              "  </tbody>\n",
              "</table>\n",
              "</div>"
            ],
            "text/plain": [
              "     количество объектов количество 1  ...   f(x|y=0)        WoE\n",
              "age                                    ...                      \n",
              "13.0                2134           45  ...  0.0971944  -0.148752\n",
              "9.0                 3300           58  ...    0.15084  0.0369746\n",
              "18.0                 486            8  ...  0.0222398   0.103598\n",
              "8.0                 1614           27  ...   0.073838  0.0872279\n",
              "11.0                2868           47  ...   0.131252   0.108169\n",
              "17.0                1097           26  ...  0.0498302  -0.268285\n",
              "10.0                3287           45  ...    0.15084   0.290753\n",
              "12.0                2370           56  ...   0.107663  -0.265147\n",
              "15.0                1486           33  ...  0.0676034  -0.201655\n",
              "14.0                1734           23  ...  0.0796073   0.322801\n",
              "16.0                1299           29  ...   0.059089  -0.207059\n",
              "19.0                 217            2  ...  0.0100033    0.69077\n",
              "\n",
              "[12 rows x 6 columns]"
            ]
          },
          "metadata": {
            "tags": []
          },
          "execution_count": 914
        }
      ]
    },
    {
      "cell_type": "code",
      "metadata": {
        "colab": {
          "base_uri": "https://localhost:8080/",
          "height": 452
        },
        "id": "-Ie9hyD0mLEp",
        "outputId": "486381ef-60e8-45db-f850-55362aac1307"
      },
      "source": [
        "d_age = pd.DataFrame(index=accept['age'].unique(), columns=['количество объектов', 'количество 1', 'f(x|y=1)', 'количество 0', 'f(x|y=0)', 'WoE'])\n",
        "d_age.index.names = ['age']\n",
        "\n",
        "accept.loc[accept['age'] == 17, 'age'] = 12\n",
        "accept.loc[accept['age'] == 16, 'age'] = 15\n",
        "accept.loc[accept['age'] == 18, 'age'] = 11\n",
        "accept.loc[accept['age'] == 9, 'age'] = 8\n",
        "accept.loc[accept['age'] == 14, 'age'] = 10\n",
        "\n",
        "reject.loc[reject['age'] == 17, 'age'] = 12\n",
        "reject.loc[reject['age'] == 16, 'age'] = 15\n",
        "reject.loc[reject['age'] == 18, 'age'] = 11\n",
        "reject.loc[reject['age'] == 9, 'age'] = 8\n",
        "reject.loc[reject['age'] == 14, 'age'] = 10\n",
        "\n",
        "for el in accept['age'].unique():\n",
        "    d_age.loc[el, 'количество объектов'] = accept.loc[accept['age'] == el].shape[0]\n",
        "    d_age.loc[el, 'количество 1'] = accept.loc[(accept['age'] == el) & (accept['target'] == 1)].shape[0]\n",
        "    d_age.loc[el, 'f(x|y=1)'] =  d_age.loc[el, 'количество 1']  / accept.loc[accept['target'] == 1].shape[0]\n",
        "    d_age.loc[el, 'количество 0'] = accept.loc[(accept['age'] == el) & (accept['target'] == 0)].shape[0]\n",
        "    d_age.loc[el, 'f(x|y=0)'] = d_age.loc[el, 'количество 0']  / accept.loc[accept['target'] == 0].shape[0]\n",
        "    d_age.loc[el, 'WoE'] = np.log(d_age.loc[el, 'f(x|y=0)'] / (d_age.loc[el, 'f(x|y=1)'] + 1e-6))\n",
        "\n",
        "d_age"
      ],
      "execution_count": 915,
      "outputs": [
        {
          "output_type": "execute_result",
          "data": {
            "text/html": [
              "<div>\n",
              "<style scoped>\n",
              "    .dataframe tbody tr th:only-of-type {\n",
              "        vertical-align: middle;\n",
              "    }\n",
              "\n",
              "    .dataframe tbody tr th {\n",
              "        vertical-align: top;\n",
              "    }\n",
              "\n",
              "    .dataframe thead th {\n",
              "        text-align: right;\n",
              "    }\n",
              "</style>\n",
              "<table border=\"1\" class=\"dataframe\">\n",
              "  <thead>\n",
              "    <tr style=\"text-align: right;\">\n",
              "      <th></th>\n",
              "      <th>количество объектов</th>\n",
              "      <th>количество 1</th>\n",
              "      <th>f(x|y=1)</th>\n",
              "      <th>количество 0</th>\n",
              "      <th>f(x|y=0)</th>\n",
              "      <th>WoE</th>\n",
              "    </tr>\n",
              "    <tr>\n",
              "      <th>age</th>\n",
              "      <th></th>\n",
              "      <th></th>\n",
              "      <th></th>\n",
              "      <th></th>\n",
              "      <th></th>\n",
              "      <th></th>\n",
              "    </tr>\n",
              "  </thead>\n",
              "  <tbody>\n",
              "    <tr>\n",
              "      <th>13.0</th>\n",
              "      <td>2134</td>\n",
              "      <td>45</td>\n",
              "      <td>0.112782</td>\n",
              "      <td>2089</td>\n",
              "      <td>0.0971944</td>\n",
              "      <td>-0.148752</td>\n",
              "    </tr>\n",
              "    <tr>\n",
              "      <th>9.0</th>\n",
              "      <td>NaN</td>\n",
              "      <td>NaN</td>\n",
              "      <td>NaN</td>\n",
              "      <td>NaN</td>\n",
              "      <td>NaN</td>\n",
              "      <td>NaN</td>\n",
              "    </tr>\n",
              "    <tr>\n",
              "      <th>18.0</th>\n",
              "      <td>NaN</td>\n",
              "      <td>NaN</td>\n",
              "      <td>NaN</td>\n",
              "      <td>NaN</td>\n",
              "      <td>NaN</td>\n",
              "      <td>NaN</td>\n",
              "    </tr>\n",
              "    <tr>\n",
              "      <th>8.0</th>\n",
              "      <td>4914</td>\n",
              "      <td>85</td>\n",
              "      <td>0.213033</td>\n",
              "      <td>4829</td>\n",
              "      <td>0.224678</td>\n",
              "      <td>0.0532176</td>\n",
              "    </tr>\n",
              "    <tr>\n",
              "      <th>11.0</th>\n",
              "      <td>3354</td>\n",
              "      <td>55</td>\n",
              "      <td>0.137845</td>\n",
              "      <td>3299</td>\n",
              "      <td>0.153492</td>\n",
              "      <td>0.107513</td>\n",
              "    </tr>\n",
              "    <tr>\n",
              "      <th>17.0</th>\n",
              "      <td>NaN</td>\n",
              "      <td>NaN</td>\n",
              "      <td>NaN</td>\n",
              "      <td>NaN</td>\n",
              "      <td>NaN</td>\n",
              "      <td>NaN</td>\n",
              "    </tr>\n",
              "    <tr>\n",
              "      <th>10.0</th>\n",
              "      <td>5021</td>\n",
              "      <td>68</td>\n",
              "      <td>0.170426</td>\n",
              "      <td>4953</td>\n",
              "      <td>0.230447</td>\n",
              "      <td>0.301714</td>\n",
              "    </tr>\n",
              "    <tr>\n",
              "      <th>12.0</th>\n",
              "      <td>3467</td>\n",
              "      <td>82</td>\n",
              "      <td>0.205514</td>\n",
              "      <td>3385</td>\n",
              "      <td>0.157493</td>\n",
              "      <td>-0.266136</td>\n",
              "    </tr>\n",
              "    <tr>\n",
              "      <th>15.0</th>\n",
              "      <td>2785</td>\n",
              "      <td>62</td>\n",
              "      <td>0.155388</td>\n",
              "      <td>2723</td>\n",
              "      <td>0.126692</td>\n",
              "      <td>-0.204172</td>\n",
              "    </tr>\n",
              "    <tr>\n",
              "      <th>14.0</th>\n",
              "      <td>NaN</td>\n",
              "      <td>NaN</td>\n",
              "      <td>NaN</td>\n",
              "      <td>NaN</td>\n",
              "      <td>NaN</td>\n",
              "      <td>NaN</td>\n",
              "    </tr>\n",
              "    <tr>\n",
              "      <th>16.0</th>\n",
              "      <td>NaN</td>\n",
              "      <td>NaN</td>\n",
              "      <td>NaN</td>\n",
              "      <td>NaN</td>\n",
              "      <td>NaN</td>\n",
              "      <td>NaN</td>\n",
              "    </tr>\n",
              "    <tr>\n",
              "      <th>19.0</th>\n",
              "      <td>217</td>\n",
              "      <td>2</td>\n",
              "      <td>0.00501253</td>\n",
              "      <td>215</td>\n",
              "      <td>0.0100033</td>\n",
              "      <td>0.69077</td>\n",
              "    </tr>\n",
              "  </tbody>\n",
              "</table>\n",
              "</div>"
            ],
            "text/plain": [
              "     количество объектов количество 1  ...   f(x|y=0)        WoE\n",
              "age                                    ...                      \n",
              "13.0                2134           45  ...  0.0971944  -0.148752\n",
              "9.0                  NaN          NaN  ...        NaN        NaN\n",
              "18.0                 NaN          NaN  ...        NaN        NaN\n",
              "8.0                 4914           85  ...   0.224678  0.0532176\n",
              "11.0                3354           55  ...   0.153492   0.107513\n",
              "17.0                 NaN          NaN  ...        NaN        NaN\n",
              "10.0                5021           68  ...   0.230447   0.301714\n",
              "12.0                3467           82  ...   0.157493  -0.266136\n",
              "15.0                2785           62  ...   0.126692  -0.204172\n",
              "14.0                 NaN          NaN  ...        NaN        NaN\n",
              "16.0                 NaN          NaN  ...        NaN        NaN\n",
              "19.0                 217            2  ...  0.0100033    0.69077\n",
              "\n",
              "[12 rows x 6 columns]"
            ]
          },
          "metadata": {
            "tags": []
          },
          "execution_count": 915
        }
      ]
    },
    {
      "cell_type": "code",
      "metadata": {
        "id": "glgg9OGUplrE"
      },
      "source": [
        "for el in accept['age'].unique():\n",
        "    accept.loc[accept['age'] == el, 'age'] = d_age.loc[el, 'WoE'] \n",
        "    reject.loc[reject['age'] == el, 'age'] = d_age.loc[el, 'WoE'] "
      ],
      "execution_count": 916,
      "outputs": []
    },
    {
      "cell_type": "code",
      "metadata": {
        "id": "S5VgXKMNFr_n"
      },
      "source": [
        "reject.loc[reject['age'] == 2, 'age'] = d_age.loc[8, 'WoE'] \n",
        "reject.loc[reject['age'] == 7, 'age'] = d_age.loc[8, 'WoE'] "
      ],
      "execution_count": 917,
      "outputs": []
    },
    {
      "cell_type": "code",
      "metadata": {
        "colab": {
          "base_uri": "https://localhost:8080/"
        },
        "id": "uP7rgkXSHSwh",
        "outputId": "9947887a-f601-4c7c-d05e-93c34c1bf01e"
      },
      "source": [
        "iv_age = np.sum((d_age['f(x|y=1)'] -  d_age['f(x|y=0)']) *  d_age['WoE'])\n",
        "iv_num['age'] = iv_age\n",
        "iv_age"
      ],
      "execution_count": 918,
      "outputs": [
        {
          "output_type": "execute_result",
          "data": {
            "text/plain": [
              "-0.04481629310245383"
            ]
          },
          "metadata": {
            "tags": []
          },
          "execution_count": 918
        }
      ]
    },
    {
      "cell_type": "code",
      "metadata": {
        "colab": {
          "base_uri": "https://localhost:8080/",
          "height": 545
        },
        "id": "CFgo65hoJsSy",
        "outputId": "b2187ff3-f593-467c-94cb-13f02ffb3885"
      },
      "source": [
        "d_count_mnth_act_passport = pd.DataFrame(index=accept['count_mnth_act_passport'].unique(), columns=['количество объектов', 'количество 1', 'f(x|y=1)', 'количество 0', 'f(x|y=0)', 'WoE'])\n",
        "d_count_mnth_act_passport.index.names = ['count_mnth_act_passport']\n",
        "\n",
        "\n",
        "for el in accept['count_mnth_act_passport'].unique():\n",
        "    d_count_mnth_act_passport.loc[el, 'количество объектов'] = accept.loc[accept['count_mnth_act_passport'] == el].shape[0]\n",
        "    d_count_mnth_act_passport.loc[el, 'количество 1'] = accept.loc[(accept['count_mnth_act_passport'] == el) & (accept['target'] == 1)].shape[0]\n",
        "    d_count_mnth_act_passport.loc[el, 'f(x|y=1)'] =  d_count_mnth_act_passport.loc[el, 'количество 1']  / accept.loc[accept['target'] == 1].shape[0]\n",
        "    d_count_mnth_act_passport.loc[el, 'количество 0'] = accept.loc[(accept['count_mnth_act_passport'] == el) & (accept['target'] == 0)].shape[0]\n",
        "    d_count_mnth_act_passport.loc[el, 'f(x|y=0)'] = d_count_mnth_act_passport.loc[el, 'количество 0']  / accept.loc[accept['target'] == 0].shape[0]\n",
        "    d_count_mnth_act_passport.loc[el, 'WoE'] = np.log(d_count_mnth_act_passport.loc[el, 'f(x|y=0)'] / (d_count_mnth_act_passport.loc[el, 'f(x|y=1)'] + 1e-6))\n",
        "\n",
        "d_count_mnth_act_passport"
      ],
      "execution_count": 919,
      "outputs": [
        {
          "output_type": "execute_result",
          "data": {
            "text/html": [
              "<div>\n",
              "<style scoped>\n",
              "    .dataframe tbody tr th:only-of-type {\n",
              "        vertical-align: middle;\n",
              "    }\n",
              "\n",
              "    .dataframe tbody tr th {\n",
              "        vertical-align: top;\n",
              "    }\n",
              "\n",
              "    .dataframe thead th {\n",
              "        text-align: right;\n",
              "    }\n",
              "</style>\n",
              "<table border=\"1\" class=\"dataframe\">\n",
              "  <thead>\n",
              "    <tr style=\"text-align: right;\">\n",
              "      <th></th>\n",
              "      <th>количество объектов</th>\n",
              "      <th>количество 1</th>\n",
              "      <th>f(x|y=1)</th>\n",
              "      <th>количество 0</th>\n",
              "      <th>f(x|y=0)</th>\n",
              "      <th>WoE</th>\n",
              "    </tr>\n",
              "    <tr>\n",
              "      <th>count_mnth_act_passport</th>\n",
              "      <th></th>\n",
              "      <th></th>\n",
              "      <th></th>\n",
              "      <th></th>\n",
              "      <th></th>\n",
              "      <th></th>\n",
              "    </tr>\n",
              "  </thead>\n",
              "  <tbody>\n",
              "    <tr>\n",
              "      <th>9.0</th>\n",
              "      <td>3533</td>\n",
              "      <td>50</td>\n",
              "      <td>0.125313</td>\n",
              "      <td>3483</td>\n",
              "      <td>0.162053</td>\n",
              "      <td>0.257097</td>\n",
              "    </tr>\n",
              "    <tr>\n",
              "      <th>7.0</th>\n",
              "      <td>1963</td>\n",
              "      <td>31</td>\n",
              "      <td>0.0776942</td>\n",
              "      <td>1932</td>\n",
              "      <td>0.0898897</td>\n",
              "      <td>0.14579</td>\n",
              "    </tr>\n",
              "    <tr>\n",
              "      <th>8.0</th>\n",
              "      <td>2675</td>\n",
              "      <td>34</td>\n",
              "      <td>0.085213</td>\n",
              "      <td>2641</td>\n",
              "      <td>0.122877</td>\n",
              "      <td>0.366019</td>\n",
              "    </tr>\n",
              "    <tr>\n",
              "      <th>5.0</th>\n",
              "      <td>1974</td>\n",
              "      <td>40</td>\n",
              "      <td>0.100251</td>\n",
              "      <td>1934</td>\n",
              "      <td>0.0899828</td>\n",
              "      <td>-0.108065</td>\n",
              "    </tr>\n",
              "    <tr>\n",
              "      <th>11.0</th>\n",
              "      <td>1146</td>\n",
              "      <td>18</td>\n",
              "      <td>0.0451128</td>\n",
              "      <td>1128</td>\n",
              "      <td>0.0524822</td>\n",
              "      <td>0.151286</td>\n",
              "    </tr>\n",
              "    <tr>\n",
              "      <th>10.0</th>\n",
              "      <td>2559</td>\n",
              "      <td>51</td>\n",
              "      <td>0.12782</td>\n",
              "      <td>2508</td>\n",
              "      <td>0.116689</td>\n",
              "      <td>-0.0911137</td>\n",
              "    </tr>\n",
              "    <tr>\n",
              "      <th>4.0</th>\n",
              "      <td>1452</td>\n",
              "      <td>28</td>\n",
              "      <td>0.0701754</td>\n",
              "      <td>1424</td>\n",
              "      <td>0.0662541</td>\n",
              "      <td>-0.0575148</td>\n",
              "    </tr>\n",
              "    <tr>\n",
              "      <th>6.0</th>\n",
              "      <td>1846</td>\n",
              "      <td>34</td>\n",
              "      <td>0.085213</td>\n",
              "      <td>1812</td>\n",
              "      <td>0.0843065</td>\n",
              "      <td>-0.0107069</td>\n",
              "    </tr>\n",
              "    <tr>\n",
              "      <th>3.0</th>\n",
              "      <td>1027</td>\n",
              "      <td>26</td>\n",
              "      <td>0.0651629</td>\n",
              "      <td>1001</td>\n",
              "      <td>0.0465733</td>\n",
              "      <td>-0.335878</td>\n",
              "    </tr>\n",
              "    <tr>\n",
              "      <th>2.0</th>\n",
              "      <td>1027</td>\n",
              "      <td>32</td>\n",
              "      <td>0.0802005</td>\n",
              "      <td>995</td>\n",
              "      <td>0.0462941</td>\n",
              "      <td>-0.549527</td>\n",
              "    </tr>\n",
              "    <tr>\n",
              "      <th>13.0</th>\n",
              "      <td>157</td>\n",
              "      <td>1</td>\n",
              "      <td>0.00250627</td>\n",
              "      <td>156</td>\n",
              "      <td>0.00725818</td>\n",
              "      <td>1.06294</td>\n",
              "    </tr>\n",
              "    <tr>\n",
              "      <th>0.0</th>\n",
              "      <td>1077</td>\n",
              "      <td>23</td>\n",
              "      <td>0.0576441</td>\n",
              "      <td>1054</td>\n",
              "      <td>0.0490392</td>\n",
              "      <td>-0.161685</td>\n",
              "    </tr>\n",
              "    <tr>\n",
              "      <th>1.0</th>\n",
              "      <td>1072</td>\n",
              "      <td>22</td>\n",
              "      <td>0.0551378</td>\n",
              "      <td>1050</td>\n",
              "      <td>0.0488531</td>\n",
              "      <td>-0.121036</td>\n",
              "    </tr>\n",
              "    <tr>\n",
              "      <th>12.0</th>\n",
              "      <td>339</td>\n",
              "      <td>9</td>\n",
              "      <td>0.0225564</td>\n",
              "      <td>330</td>\n",
              "      <td>0.0153538</td>\n",
              "      <td>-0.384697</td>\n",
              "    </tr>\n",
              "    <tr>\n",
              "      <th>14.0</th>\n",
              "      <td>45</td>\n",
              "      <td>0</td>\n",
              "      <td>0</td>\n",
              "      <td>45</td>\n",
              "      <td>0.0020937</td>\n",
              "      <td>7.64669</td>\n",
              "    </tr>\n",
              "  </tbody>\n",
              "</table>\n",
              "</div>"
            ],
            "text/plain": [
              "                        количество объектов количество 1  ...    f(x|y=0)        WoE\n",
              "count_mnth_act_passport                                   ...                       \n",
              "9.0                                    3533           50  ...    0.162053   0.257097\n",
              "7.0                                    1963           31  ...   0.0898897    0.14579\n",
              "8.0                                    2675           34  ...    0.122877   0.366019\n",
              "5.0                                    1974           40  ...   0.0899828  -0.108065\n",
              "11.0                                   1146           18  ...   0.0524822   0.151286\n",
              "10.0                                   2559           51  ...    0.116689 -0.0911137\n",
              "4.0                                    1452           28  ...   0.0662541 -0.0575148\n",
              "6.0                                    1846           34  ...   0.0843065 -0.0107069\n",
              "3.0                                    1027           26  ...   0.0465733  -0.335878\n",
              "2.0                                    1027           32  ...   0.0462941  -0.549527\n",
              "13.0                                    157            1  ...  0.00725818    1.06294\n",
              "0.0                                    1077           23  ...   0.0490392  -0.161685\n",
              "1.0                                    1072           22  ...   0.0488531  -0.121036\n",
              "12.0                                    339            9  ...   0.0153538  -0.384697\n",
              "14.0                                     45            0  ...   0.0020937    7.64669\n",
              "\n",
              "[15 rows x 6 columns]"
            ]
          },
          "metadata": {
            "tags": []
          },
          "execution_count": 919
        }
      ]
    },
    {
      "cell_type": "code",
      "metadata": {
        "colab": {
          "base_uri": "https://localhost:8080/",
          "height": 545
        },
        "id": "HaB8k5umnjTz",
        "outputId": "b433cca0-8071-4f91-9694-5ccfb22963bf"
      },
      "source": [
        "d_count_mnth_act_passport = pd.DataFrame(index=accept['count_mnth_act_passport'].unique(), columns=['количество объектов', 'количество 1', 'f(x|y=1)', 'количество 0', 'f(x|y=0)', 'WoE'])\n",
        "d_count_mnth_act_passport.index.names = ['count_mnth_act_passport']\n",
        "\n",
        "accept.loc[accept['count_mnth_act_passport'] ==  6, 'count_mnth_act_passport'] = 4\n",
        "accept.loc[accept['count_mnth_act_passport'] ==  10, 'count_mnth_act_passport'] = 5\n",
        "accept.loc[accept['count_mnth_act_passport'] ==  1, 'count_mnth_act_passport'] = 0\n",
        "accept.loc[accept['count_mnth_act_passport'] ==  5, 'count_mnth_act_passport'] = 4\n",
        "accept.loc[accept['count_mnth_act_passport'] ==  11, 'count_mnth_act_passport'] = 7\n",
        "accept.loc[accept['count_mnth_act_passport'] ==  12, 'count_mnth_act_passport'] = 3\n",
        "accept.loc[accept['count_mnth_act_passport'] ==  4, 'count_mnth_act_passport'] = 0\n",
        "\n",
        "reject.loc[reject['count_mnth_act_passport'] ==  6, 'count_mnth_act_passport'] = 4\n",
        "reject.loc[reject['count_mnth_act_passport'] ==  10, 'count_mnth_act_passport'] = 5\n",
        "reject.loc[reject['count_mnth_act_passport'] ==  1, 'count_mnth_act_passport'] = 0\n",
        "reject.loc[reject['count_mnth_act_passport'] ==  5, 'count_mnth_act_passport'] = 4\n",
        "reject.loc[reject['count_mnth_act_passport'] ==  11, 'count_mnth_act_passport'] = 7\n",
        "reject.loc[reject['count_mnth_act_passport'] ==  12, 'count_mnth_act_passport'] = 3\n",
        "reject.loc[reject['count_mnth_act_passport'] ==  4, 'count_mnth_act_passport'] = 0\n",
        "\n",
        "for el in accept['count_mnth_act_passport'].unique():\n",
        "    d_count_mnth_act_passport.loc[el, 'количество объектов'] = accept.loc[accept['count_mnth_act_passport'] == el].shape[0]\n",
        "    d_count_mnth_act_passport.loc[el, 'количество 1'] = accept.loc[(accept['count_mnth_act_passport'] == el) & (accept['target'] == 1)].shape[0]\n",
        "    d_count_mnth_act_passport.loc[el, 'f(x|y=1)'] =  d_count_mnth_act_passport.loc[el, 'количество 1']  / accept.loc[accept['target'] == 1].shape[0]\n",
        "    d_count_mnth_act_passport.loc[el, 'количество 0'] = accept.loc[(accept['count_mnth_act_passport'] == el) & (accept['target'] == 0)].shape[0]\n",
        "    d_count_mnth_act_passport.loc[el, 'f(x|y=0)'] = d_count_mnth_act_passport.loc[el, 'количество 0']  / accept.loc[accept['target'] == 0].shape[0]\n",
        "    d_count_mnth_act_passport.loc[el, 'WoE'] = np.log(d_count_mnth_act_passport.loc[el, 'f(x|y=0)'] / (d_count_mnth_act_passport.loc[el, 'f(x|y=1)'] + 1e-6))\n",
        "\n",
        "d_count_mnth_act_passport"
      ],
      "execution_count": 920,
      "outputs": [
        {
          "output_type": "execute_result",
          "data": {
            "text/html": [
              "<div>\n",
              "<style scoped>\n",
              "    .dataframe tbody tr th:only-of-type {\n",
              "        vertical-align: middle;\n",
              "    }\n",
              "\n",
              "    .dataframe tbody tr th {\n",
              "        vertical-align: top;\n",
              "    }\n",
              "\n",
              "    .dataframe thead th {\n",
              "        text-align: right;\n",
              "    }\n",
              "</style>\n",
              "<table border=\"1\" class=\"dataframe\">\n",
              "  <thead>\n",
              "    <tr style=\"text-align: right;\">\n",
              "      <th></th>\n",
              "      <th>количество объектов</th>\n",
              "      <th>количество 1</th>\n",
              "      <th>f(x|y=1)</th>\n",
              "      <th>количество 0</th>\n",
              "      <th>f(x|y=0)</th>\n",
              "      <th>WoE</th>\n",
              "    </tr>\n",
              "    <tr>\n",
              "      <th>count_mnth_act_passport</th>\n",
              "      <th></th>\n",
              "      <th></th>\n",
              "      <th></th>\n",
              "      <th></th>\n",
              "      <th></th>\n",
              "      <th></th>\n",
              "    </tr>\n",
              "  </thead>\n",
              "  <tbody>\n",
              "    <tr>\n",
              "      <th>9.0</th>\n",
              "      <td>3533</td>\n",
              "      <td>50</td>\n",
              "      <td>0.125313</td>\n",
              "      <td>3483</td>\n",
              "      <td>0.162053</td>\n",
              "      <td>0.257097</td>\n",
              "    </tr>\n",
              "    <tr>\n",
              "      <th>7.0</th>\n",
              "      <td>3109</td>\n",
              "      <td>49</td>\n",
              "      <td>0.122807</td>\n",
              "      <td>3060</td>\n",
              "      <td>0.142372</td>\n",
              "      <td>0.147821</td>\n",
              "    </tr>\n",
              "    <tr>\n",
              "      <th>8.0</th>\n",
              "      <td>2675</td>\n",
              "      <td>34</td>\n",
              "      <td>0.085213</td>\n",
              "      <td>2641</td>\n",
              "      <td>0.122877</td>\n",
              "      <td>0.366019</td>\n",
              "    </tr>\n",
              "    <tr>\n",
              "      <th>5.0</th>\n",
              "      <td>NaN</td>\n",
              "      <td>NaN</td>\n",
              "      <td>NaN</td>\n",
              "      <td>NaN</td>\n",
              "      <td>NaN</td>\n",
              "      <td>NaN</td>\n",
              "    </tr>\n",
              "    <tr>\n",
              "      <th>11.0</th>\n",
              "      <td>NaN</td>\n",
              "      <td>NaN</td>\n",
              "      <td>NaN</td>\n",
              "      <td>NaN</td>\n",
              "      <td>NaN</td>\n",
              "      <td>NaN</td>\n",
              "    </tr>\n",
              "    <tr>\n",
              "      <th>10.0</th>\n",
              "      <td>NaN</td>\n",
              "      <td>NaN</td>\n",
              "      <td>NaN</td>\n",
              "      <td>NaN</td>\n",
              "      <td>NaN</td>\n",
              "      <td>NaN</td>\n",
              "    </tr>\n",
              "    <tr>\n",
              "      <th>4.0</th>\n",
              "      <td>NaN</td>\n",
              "      <td>NaN</td>\n",
              "      <td>NaN</td>\n",
              "      <td>NaN</td>\n",
              "      <td>NaN</td>\n",
              "      <td>NaN</td>\n",
              "    </tr>\n",
              "    <tr>\n",
              "      <th>6.0</th>\n",
              "      <td>NaN</td>\n",
              "      <td>NaN</td>\n",
              "      <td>NaN</td>\n",
              "      <td>NaN</td>\n",
              "      <td>NaN</td>\n",
              "      <td>NaN</td>\n",
              "    </tr>\n",
              "    <tr>\n",
              "      <th>3.0</th>\n",
              "      <td>1366</td>\n",
              "      <td>35</td>\n",
              "      <td>0.0877193</td>\n",
              "      <td>1331</td>\n",
              "      <td>0.0619271</td>\n",
              "      <td>-0.348195</td>\n",
              "    </tr>\n",
              "    <tr>\n",
              "      <th>2.0</th>\n",
              "      <td>1027</td>\n",
              "      <td>32</td>\n",
              "      <td>0.0802005</td>\n",
              "      <td>995</td>\n",
              "      <td>0.0462941</td>\n",
              "      <td>-0.549527</td>\n",
              "    </tr>\n",
              "    <tr>\n",
              "      <th>13.0</th>\n",
              "      <td>157</td>\n",
              "      <td>1</td>\n",
              "      <td>0.00250627</td>\n",
              "      <td>156</td>\n",
              "      <td>0.00725818</td>\n",
              "      <td>1.06294</td>\n",
              "    </tr>\n",
              "    <tr>\n",
              "      <th>0.0</th>\n",
              "      <td>9980</td>\n",
              "      <td>198</td>\n",
              "      <td>0.496241</td>\n",
              "      <td>9782</td>\n",
              "      <td>0.455125</td>\n",
              "      <td>-0.086491</td>\n",
              "    </tr>\n",
              "    <tr>\n",
              "      <th>1.0</th>\n",
              "      <td>NaN</td>\n",
              "      <td>NaN</td>\n",
              "      <td>NaN</td>\n",
              "      <td>NaN</td>\n",
              "      <td>NaN</td>\n",
              "      <td>NaN</td>\n",
              "    </tr>\n",
              "    <tr>\n",
              "      <th>12.0</th>\n",
              "      <td>NaN</td>\n",
              "      <td>NaN</td>\n",
              "      <td>NaN</td>\n",
              "      <td>NaN</td>\n",
              "      <td>NaN</td>\n",
              "      <td>NaN</td>\n",
              "    </tr>\n",
              "    <tr>\n",
              "      <th>14.0</th>\n",
              "      <td>45</td>\n",
              "      <td>0</td>\n",
              "      <td>0</td>\n",
              "      <td>45</td>\n",
              "      <td>0.0020937</td>\n",
              "      <td>7.64669</td>\n",
              "    </tr>\n",
              "  </tbody>\n",
              "</table>\n",
              "</div>"
            ],
            "text/plain": [
              "                        количество объектов количество 1  ...    f(x|y=0)       WoE\n",
              "count_mnth_act_passport                                   ...                      \n",
              "9.0                                    3533           50  ...    0.162053  0.257097\n",
              "7.0                                    3109           49  ...    0.142372  0.147821\n",
              "8.0                                    2675           34  ...    0.122877  0.366019\n",
              "5.0                                     NaN          NaN  ...         NaN       NaN\n",
              "11.0                                    NaN          NaN  ...         NaN       NaN\n",
              "10.0                                    NaN          NaN  ...         NaN       NaN\n",
              "4.0                                     NaN          NaN  ...         NaN       NaN\n",
              "6.0                                     NaN          NaN  ...         NaN       NaN\n",
              "3.0                                    1366           35  ...   0.0619271 -0.348195\n",
              "2.0                                    1027           32  ...   0.0462941 -0.549527\n",
              "13.0                                    157            1  ...  0.00725818   1.06294\n",
              "0.0                                    9980          198  ...    0.455125 -0.086491\n",
              "1.0                                     NaN          NaN  ...         NaN       NaN\n",
              "12.0                                    NaN          NaN  ...         NaN       NaN\n",
              "14.0                                     45            0  ...   0.0020937   7.64669\n",
              "\n",
              "[15 rows x 6 columns]"
            ]
          },
          "metadata": {
            "tags": []
          },
          "execution_count": 920
        }
      ]
    },
    {
      "cell_type": "code",
      "metadata": {
        "id": "-myha4Dfpqzo"
      },
      "source": [
        "for el in accept['count_mnth_act_passport'].unique():\n",
        "    accept.loc[accept['count_mnth_act_passport'] == el, 'count_mnth_act_passport'] = d_count_mnth_act_passport.loc[el, 'WoE'] \n",
        "    reject.loc[reject['count_mnth_act_passport'] == el, 'count_mnth_act_passport'] = d_count_mnth_act_passport.loc[el, 'WoE']"
      ],
      "execution_count": 921,
      "outputs": []
    },
    {
      "cell_type": "code",
      "metadata": {
        "colab": {
          "base_uri": "https://localhost:8080/"
        },
        "id": "Al9dl0GtHS4e",
        "outputId": "89ae37e9-ab2c-40b2-a8e4-3708016d0808"
      },
      "source": [
        "iv_count_mnth_act_passport = np.sum((d_count_mnth_act_passport['f(x|y=1)'] -  d_count_mnth_act_passport['f(x|y=0)']) *  d_count_mnth_act_passport['WoE'])\n",
        "iv_num['count_mnth_act_passport'] = iv_count_mnth_act_passport\n",
        "iv_count_mnth_act_passport"
      ],
      "execution_count": 922,
      "outputs": [
        {
          "output_type": "execute_result",
          "data": {
            "text/plain": [
              "-0.07835371117251577"
            ]
          },
          "metadata": {
            "tags": []
          },
          "execution_count": 922
        }
      ]
    },
    {
      "cell_type": "code",
      "metadata": {
        "colab": {
          "base_uri": "https://localhost:8080/",
          "height": 545
        },
        "id": "_DU-DFmauHLc",
        "outputId": "30c05cf0-a063-4094-d4a0-7a63184491ce"
      },
      "source": [
        "d_experience = pd.DataFrame(index=accept['experience'].unique(), columns=['количество объектов', 'количество 1', 'f(x|y=1)', 'количество 0', 'f(x|y=0)', 'WoE'])\n",
        "d_experience.index.names = ['experience']\n",
        "\n",
        "for el in accept['experience'].unique():\n",
        "    d_experience.loc[el, 'количество объектов'] = accept.loc[accept['experience'] == el].shape[0]\n",
        "    d_experience.loc[el, 'количество 1'] = accept.loc[(accept['experience'] == el) & (accept['target'] == 1)].shape[0]\n",
        "    d_experience.loc[el, 'f(x|y=1)'] =  d_experience.loc[el, 'количество 1']  / accept.loc[accept['target'] == 1].shape[0]\n",
        "    d_experience.loc[el, 'количество 0'] = accept.loc[(accept['experience'] == el) & (accept['target'] == 0)].shape[0]\n",
        "    d_experience.loc[el, 'f(x|y=0)'] = d_experience.loc[el, 'количество 0']  / accept.loc[accept['target'] == 0].shape[0]\n",
        "    d_experience.loc[el, 'WoE'] = np.log(d_experience.loc[el, 'f(x|y=0)'] / (d_experience.loc[el, 'f(x|y=1)'] + 1e-6))\n",
        "\n",
        "d_experience"
      ],
      "execution_count": 923,
      "outputs": [
        {
          "output_type": "execute_result",
          "data": {
            "text/html": [
              "<div>\n",
              "<style scoped>\n",
              "    .dataframe tbody tr th:only-of-type {\n",
              "        vertical-align: middle;\n",
              "    }\n",
              "\n",
              "    .dataframe tbody tr th {\n",
              "        vertical-align: top;\n",
              "    }\n",
              "\n",
              "    .dataframe thead th {\n",
              "        text-align: right;\n",
              "    }\n",
              "</style>\n",
              "<table border=\"1\" class=\"dataframe\">\n",
              "  <thead>\n",
              "    <tr style=\"text-align: right;\">\n",
              "      <th></th>\n",
              "      <th>количество объектов</th>\n",
              "      <th>количество 1</th>\n",
              "      <th>f(x|y=1)</th>\n",
              "      <th>количество 0</th>\n",
              "      <th>f(x|y=0)</th>\n",
              "      <th>WoE</th>\n",
              "    </tr>\n",
              "    <tr>\n",
              "      <th>experience</th>\n",
              "      <th></th>\n",
              "      <th></th>\n",
              "      <th></th>\n",
              "      <th></th>\n",
              "      <th></th>\n",
              "      <th></th>\n",
              "    </tr>\n",
              "  </thead>\n",
              "  <tbody>\n",
              "    <tr>\n",
              "      <th>1.0</th>\n",
              "      <td>5159</td>\n",
              "      <td>108</td>\n",
              "      <td>0.270677</td>\n",
              "      <td>5051</td>\n",
              "      <td>0.235007</td>\n",
              "      <td>-0.141315</td>\n",
              "    </tr>\n",
              "    <tr>\n",
              "      <th>0.0</th>\n",
              "      <td>8800</td>\n",
              "      <td>203</td>\n",
              "      <td>0.508772</td>\n",
              "      <td>8597</td>\n",
              "      <td>0.399991</td>\n",
              "      <td>-0.240561</td>\n",
              "    </tr>\n",
              "    <tr>\n",
              "      <th>3.0</th>\n",
              "      <td>1692</td>\n",
              "      <td>23</td>\n",
              "      <td>0.0576441</td>\n",
              "      <td>1669</td>\n",
              "      <td>0.0776532</td>\n",
              "      <td>0.297947</td>\n",
              "    </tr>\n",
              "    <tr>\n",
              "      <th>5.0</th>\n",
              "      <td>516</td>\n",
              "      <td>5</td>\n",
              "      <td>0.0125313</td>\n",
              "      <td>511</td>\n",
              "      <td>0.0237752</td>\n",
              "      <td>0.640331</td>\n",
              "    </tr>\n",
              "    <tr>\n",
              "      <th>2.0</th>\n",
              "      <td>3477</td>\n",
              "      <td>42</td>\n",
              "      <td>0.105263</td>\n",
              "      <td>3435</td>\n",
              "      <td>0.159819</td>\n",
              "      <td>0.417572</td>\n",
              "    </tr>\n",
              "    <tr>\n",
              "      <th>6.0</th>\n",
              "      <td>401</td>\n",
              "      <td>2</td>\n",
              "      <td>0.00501253</td>\n",
              "      <td>399</td>\n",
              "      <td>0.0185642</td>\n",
              "      <td>1.30909</td>\n",
              "    </tr>\n",
              "    <tr>\n",
              "      <th>4.0</th>\n",
              "      <td>1061</td>\n",
              "      <td>8</td>\n",
              "      <td>0.0200501</td>\n",
              "      <td>1053</td>\n",
              "      <td>0.0489927</td>\n",
              "      <td>0.893386</td>\n",
              "    </tr>\n",
              "    <tr>\n",
              "      <th>7.0</th>\n",
              "      <td>286</td>\n",
              "      <td>2</td>\n",
              "      <td>0.00501253</td>\n",
              "      <td>284</td>\n",
              "      <td>0.0132136</td>\n",
              "      <td>0.969106</td>\n",
              "    </tr>\n",
              "    <tr>\n",
              "      <th>9.0</th>\n",
              "      <td>99</td>\n",
              "      <td>1</td>\n",
              "      <td>0.00250627</td>\n",
              "      <td>98</td>\n",
              "      <td>0.00455962</td>\n",
              "      <td>0.598047</td>\n",
              "    </tr>\n",
              "    <tr>\n",
              "      <th>10.0</th>\n",
              "      <td>79</td>\n",
              "      <td>0</td>\n",
              "      <td>0</td>\n",
              "      <td>79</td>\n",
              "      <td>0.00367562</td>\n",
              "      <td>8.20948</td>\n",
              "    </tr>\n",
              "    <tr>\n",
              "      <th>11.0</th>\n",
              "      <td>71</td>\n",
              "      <td>2</td>\n",
              "      <td>0.00501253</td>\n",
              "      <td>69</td>\n",
              "      <td>0.00321035</td>\n",
              "      <td>-0.445761</td>\n",
              "    </tr>\n",
              "    <tr>\n",
              "      <th>8.0</th>\n",
              "      <td>163</td>\n",
              "      <td>2</td>\n",
              "      <td>0.00501253</td>\n",
              "      <td>161</td>\n",
              "      <td>0.00749081</td>\n",
              "      <td>0.401537</td>\n",
              "    </tr>\n",
              "    <tr>\n",
              "      <th>13.0</th>\n",
              "      <td>27</td>\n",
              "      <td>0</td>\n",
              "      <td>0</td>\n",
              "      <td>27</td>\n",
              "      <td>0.00125622</td>\n",
              "      <td>7.13586</td>\n",
              "    </tr>\n",
              "    <tr>\n",
              "      <th>12.0</th>\n",
              "      <td>53</td>\n",
              "      <td>1</td>\n",
              "      <td>0.00250627</td>\n",
              "      <td>52</td>\n",
              "      <td>0.00241939</td>\n",
              "      <td>-0.0356764</td>\n",
              "    </tr>\n",
              "    <tr>\n",
              "      <th>14.0</th>\n",
              "      <td>8</td>\n",
              "      <td>0</td>\n",
              "      <td>0</td>\n",
              "      <td>8</td>\n",
              "      <td>0.000372214</td>\n",
              "      <td>5.91947</td>\n",
              "    </tr>\n",
              "  </tbody>\n",
              "</table>\n",
              "</div>"
            ],
            "text/plain": [
              "           количество объектов количество 1  ...     f(x|y=0)        WoE\n",
              "experience                                   ...                        \n",
              "1.0                       5159          108  ...     0.235007  -0.141315\n",
              "0.0                       8800          203  ...     0.399991  -0.240561\n",
              "3.0                       1692           23  ...    0.0776532   0.297947\n",
              "5.0                        516            5  ...    0.0237752   0.640331\n",
              "2.0                       3477           42  ...     0.159819   0.417572\n",
              "6.0                        401            2  ...    0.0185642    1.30909\n",
              "4.0                       1061            8  ...    0.0489927   0.893386\n",
              "7.0                        286            2  ...    0.0132136   0.969106\n",
              "9.0                         99            1  ...   0.00455962   0.598047\n",
              "10.0                        79            0  ...   0.00367562    8.20948\n",
              "11.0                        71            2  ...   0.00321035  -0.445761\n",
              "8.0                        163            2  ...   0.00749081   0.401537\n",
              "13.0                        27            0  ...   0.00125622    7.13586\n",
              "12.0                        53            1  ...   0.00241939 -0.0356764\n",
              "14.0                         8            0  ...  0.000372214    5.91947\n",
              "\n",
              "[15 rows x 6 columns]"
            ]
          },
          "metadata": {
            "tags": []
          },
          "execution_count": 923
        }
      ]
    },
    {
      "cell_type": "code",
      "metadata": {
        "colab": {
          "base_uri": "https://localhost:8080/",
          "height": 545
        },
        "id": "na0vUKJcuxBI",
        "outputId": "04e1290b-40c2-4bc0-e10b-879a9ee6676f"
      },
      "source": [
        "d_experience = pd.DataFrame(index=accept['experience'].unique(), columns=['количество объектов', 'количество 1', 'f(x|y=1)', 'количество 0', 'f(x|y=0)', 'WoE'])\n",
        "d_experience.index.names = ['experience']\n",
        "\n",
        "accept.loc[accept['experience'] == 7, 'experience'] = 4\n",
        "accept.loc[accept['experience'] == 8, 'experience'] = 2\n",
        "accept.loc[accept['experience'] == 13, 'experience'] = 10\n",
        "accept.loc[accept['experience'] == 9, 'experience'] = 5\n",
        "accept.loc[accept['experience'] == 1, 'experience'] = 0\n",
        "accept.loc[accept['experience'] == 5, 'experience'] = 2\n",
        "accept.loc[accept['experience'] == 3, 'experience'] = 2\n",
        "\n",
        "reject.loc[reject['experience'] == 7, 'experience'] = 4\n",
        "reject.loc[reject['experience'] == 8, 'experience'] = 2\n",
        "reject.loc[reject['experience'] == 13, 'experience'] = 10\n",
        "reject.loc[reject['experience'] == 9, 'experience'] = 5\n",
        "reject.loc[reject['experience'] == 1, 'experience'] = 0\n",
        "reject.loc[reject['experience'] == 5, 'experience'] = 2\n",
        "reject.loc[reject['experience'] == 3, 'experience'] = 2\n",
        "\n",
        "for el in accept['experience'].unique():\n",
        "    d_experience.loc[el, 'количество объектов'] = accept.loc[accept['experience'] == el].shape[0]\n",
        "    d_experience.loc[el, 'количество 1'] = accept.loc[(accept['experience'] == el) & (accept['target'] == 1)].shape[0]\n",
        "    d_experience.loc[el, 'f(x|y=1)'] =  d_experience.loc[el, 'количество 1']  / accept.loc[accept['target'] == 1].shape[0]\n",
        "    d_experience.loc[el, 'количество 0'] = accept.loc[(accept['experience'] == el) & (accept['target'] == 0)].shape[0]\n",
        "    d_experience.loc[el, 'f(x|y=0)'] = d_experience.loc[el, 'количество 0']  / accept.loc[accept['target'] == 0].shape[0]\n",
        "    d_experience.loc[el, 'WoE'] = np.log(d_experience.loc[el, 'f(x|y=0)'] / (d_experience.loc[el, 'f(x|y=1)'] + 1e-6))\n",
        "\n",
        "d_experience"
      ],
      "execution_count": 924,
      "outputs": [
        {
          "output_type": "execute_result",
          "data": {
            "text/html": [
              "<div>\n",
              "<style scoped>\n",
              "    .dataframe tbody tr th:only-of-type {\n",
              "        vertical-align: middle;\n",
              "    }\n",
              "\n",
              "    .dataframe tbody tr th {\n",
              "        vertical-align: top;\n",
              "    }\n",
              "\n",
              "    .dataframe thead th {\n",
              "        text-align: right;\n",
              "    }\n",
              "</style>\n",
              "<table border=\"1\" class=\"dataframe\">\n",
              "  <thead>\n",
              "    <tr style=\"text-align: right;\">\n",
              "      <th></th>\n",
              "      <th>количество объектов</th>\n",
              "      <th>количество 1</th>\n",
              "      <th>f(x|y=1)</th>\n",
              "      <th>количество 0</th>\n",
              "      <th>f(x|y=0)</th>\n",
              "      <th>WoE</th>\n",
              "    </tr>\n",
              "    <tr>\n",
              "      <th>experience</th>\n",
              "      <th></th>\n",
              "      <th></th>\n",
              "      <th></th>\n",
              "      <th></th>\n",
              "      <th></th>\n",
              "      <th></th>\n",
              "    </tr>\n",
              "  </thead>\n",
              "  <tbody>\n",
              "    <tr>\n",
              "      <th>1.0</th>\n",
              "      <td>NaN</td>\n",
              "      <td>NaN</td>\n",
              "      <td>NaN</td>\n",
              "      <td>NaN</td>\n",
              "      <td>NaN</td>\n",
              "      <td>NaN</td>\n",
              "    </tr>\n",
              "    <tr>\n",
              "      <th>0.0</th>\n",
              "      <td>13959</td>\n",
              "      <td>311</td>\n",
              "      <td>0.779449</td>\n",
              "      <td>13648</td>\n",
              "      <td>0.634997</td>\n",
              "      <td>-0.204967</td>\n",
              "    </tr>\n",
              "    <tr>\n",
              "      <th>3.0</th>\n",
              "      <td>NaN</td>\n",
              "      <td>NaN</td>\n",
              "      <td>NaN</td>\n",
              "      <td>NaN</td>\n",
              "      <td>NaN</td>\n",
              "      <td>NaN</td>\n",
              "    </tr>\n",
              "    <tr>\n",
              "      <th>5.0</th>\n",
              "      <td>NaN</td>\n",
              "      <td>NaN</td>\n",
              "      <td>NaN</td>\n",
              "      <td>NaN</td>\n",
              "      <td>NaN</td>\n",
              "      <td>NaN</td>\n",
              "    </tr>\n",
              "    <tr>\n",
              "      <th>2.0</th>\n",
              "      <td>5947</td>\n",
              "      <td>73</td>\n",
              "      <td>0.182957</td>\n",
              "      <td>5874</td>\n",
              "      <td>0.273298</td>\n",
              "      <td>0.401305</td>\n",
              "    </tr>\n",
              "    <tr>\n",
              "      <th>6.0</th>\n",
              "      <td>401</td>\n",
              "      <td>2</td>\n",
              "      <td>0.00501253</td>\n",
              "      <td>399</td>\n",
              "      <td>0.0185642</td>\n",
              "      <td>1.30909</td>\n",
              "    </tr>\n",
              "    <tr>\n",
              "      <th>4.0</th>\n",
              "      <td>1347</td>\n",
              "      <td>10</td>\n",
              "      <td>0.0250627</td>\n",
              "      <td>1337</td>\n",
              "      <td>0.0622063</td>\n",
              "      <td>0.909037</td>\n",
              "    </tr>\n",
              "    <tr>\n",
              "      <th>7.0</th>\n",
              "      <td>NaN</td>\n",
              "      <td>NaN</td>\n",
              "      <td>NaN</td>\n",
              "      <td>NaN</td>\n",
              "      <td>NaN</td>\n",
              "      <td>NaN</td>\n",
              "    </tr>\n",
              "    <tr>\n",
              "      <th>9.0</th>\n",
              "      <td>NaN</td>\n",
              "      <td>NaN</td>\n",
              "      <td>NaN</td>\n",
              "      <td>NaN</td>\n",
              "      <td>NaN</td>\n",
              "      <td>NaN</td>\n",
              "    </tr>\n",
              "    <tr>\n",
              "      <th>10.0</th>\n",
              "      <td>106</td>\n",
              "      <td>0</td>\n",
              "      <td>0</td>\n",
              "      <td>106</td>\n",
              "      <td>0.00493184</td>\n",
              "      <td>8.50347</td>\n",
              "    </tr>\n",
              "    <tr>\n",
              "      <th>11.0</th>\n",
              "      <td>71</td>\n",
              "      <td>2</td>\n",
              "      <td>0.00501253</td>\n",
              "      <td>69</td>\n",
              "      <td>0.00321035</td>\n",
              "      <td>-0.445761</td>\n",
              "    </tr>\n",
              "    <tr>\n",
              "      <th>8.0</th>\n",
              "      <td>NaN</td>\n",
              "      <td>NaN</td>\n",
              "      <td>NaN</td>\n",
              "      <td>NaN</td>\n",
              "      <td>NaN</td>\n",
              "      <td>NaN</td>\n",
              "    </tr>\n",
              "    <tr>\n",
              "      <th>13.0</th>\n",
              "      <td>NaN</td>\n",
              "      <td>NaN</td>\n",
              "      <td>NaN</td>\n",
              "      <td>NaN</td>\n",
              "      <td>NaN</td>\n",
              "      <td>NaN</td>\n",
              "    </tr>\n",
              "    <tr>\n",
              "      <th>12.0</th>\n",
              "      <td>53</td>\n",
              "      <td>1</td>\n",
              "      <td>0.00250627</td>\n",
              "      <td>52</td>\n",
              "      <td>0.00241939</td>\n",
              "      <td>-0.0356764</td>\n",
              "    </tr>\n",
              "    <tr>\n",
              "      <th>14.0</th>\n",
              "      <td>8</td>\n",
              "      <td>0</td>\n",
              "      <td>0</td>\n",
              "      <td>8</td>\n",
              "      <td>0.000372214</td>\n",
              "      <td>5.91947</td>\n",
              "    </tr>\n",
              "  </tbody>\n",
              "</table>\n",
              "</div>"
            ],
            "text/plain": [
              "           количество объектов количество 1  ...     f(x|y=0)        WoE\n",
              "experience                                   ...                        \n",
              "1.0                        NaN          NaN  ...          NaN        NaN\n",
              "0.0                      13959          311  ...     0.634997  -0.204967\n",
              "3.0                        NaN          NaN  ...          NaN        NaN\n",
              "5.0                        NaN          NaN  ...          NaN        NaN\n",
              "2.0                       5947           73  ...     0.273298   0.401305\n",
              "6.0                        401            2  ...    0.0185642    1.30909\n",
              "4.0                       1347           10  ...    0.0622063   0.909037\n",
              "7.0                        NaN          NaN  ...          NaN        NaN\n",
              "9.0                        NaN          NaN  ...          NaN        NaN\n",
              "10.0                       106            0  ...   0.00493184    8.50347\n",
              "11.0                        71            2  ...   0.00321035  -0.445761\n",
              "8.0                        NaN          NaN  ...          NaN        NaN\n",
              "13.0                       NaN          NaN  ...          NaN        NaN\n",
              "12.0                        53            1  ...   0.00241939 -0.0356764\n",
              "14.0                         8            0  ...  0.000372214    5.91947\n",
              "\n",
              "[15 rows x 6 columns]"
            ]
          },
          "metadata": {
            "tags": []
          },
          "execution_count": 924
        }
      ]
    },
    {
      "cell_type": "code",
      "metadata": {
        "id": "y9CI7De-uH4X"
      },
      "source": [
        "for el in accept['experience'].unique():\n",
        "    accept.loc[accept['experience'] == el, 'experience'] = d_experience.loc[el, 'WoE'] \n",
        "    reject.loc[reject['experience'] == el, 'experience'] = d_experience.loc[el, 'WoE'] "
      ],
      "execution_count": 925,
      "outputs": []
    },
    {
      "cell_type": "code",
      "metadata": {
        "colab": {
          "base_uri": "https://localhost:8080/"
        },
        "id": "a2ZxER7VuH9x",
        "outputId": "1315ef1a-fcc7-4387-dbd1-262eb703277a"
      },
      "source": [
        "iv_experience = np.sum((d_experience['f(x|y=1)'] -  d_experience['f(x|y=0)']) *  d_experience['WoE'])\n",
        "iv_num['experience'] = iv_experience\n",
        "iv_experience"
      ],
      "execution_count": 926,
      "outputs": [
        {
          "output_type": "execute_result",
          "data": {
            "text/plain": [
              "-0.1623148134001757"
            ]
          },
          "metadata": {
            "tags": []
          },
          "execution_count": 926
        }
      ]
    },
    {
      "cell_type": "markdown",
      "metadata": {
        "id": "lRZtx2brQjxL"
      },
      "source": [
        "Итого таблица с IV для каждого числового признака выглдяит так:"
      ]
    },
    {
      "cell_type": "code",
      "metadata": {
        "colab": {
          "base_uri": "https://localhost:8080/"
        },
        "id": "Ngdi--UPQgpz",
        "outputId": "86058ec3-4194-44c7-d694-2d9cbf1853bc"
      },
      "source": [
        "print(iv_num.to_markdown())"
      ],
      "execution_count": 927,
      "outputs": [
        {
          "output_type": "stream",
          "text": [
            "|    |     income |   CNT_MNTH_FROM_LAST_PMNT |        age |   count_mnth_act_passport |   experience |\n",
            "|:---|-----------:|--------------------------:|-----------:|--------------------------:|-------------:|\n",
            "| IV | -0.0492463 |               -0.00272269 | -0.0448163 |                -0.0783537 |    -0.162315 |\n"
          ],
          "name": "stdout"
        }
      ]
    },
    {
      "cell_type": "markdown",
      "metadata": {
        "id": "Twc0q1hPpyh7"
      },
      "source": [
        "3. "
      ]
    },
    {
      "cell_type": "code",
      "metadata": {
        "id": "PXDctnUBB1p7"
      },
      "source": [
        "res_cat = pd.DataFrame(index=['Доля пропушенных значений', 'Мода'], columns=cat_features)\n",
        "res_cat_r = pd.DataFrame(index=['Доля пропушенных значений', 'Мода'], columns=cat_features)"
      ],
      "execution_count": 928,
      "outputs": []
    },
    {
      "cell_type": "code",
      "metadata": {
        "id": "Y4WpumDrsLHU"
      },
      "source": [
        "for cat in cat_features:\n",
        "    res_cat.loc['Доля пропушенных значений', cat] = accept[cat].isnull().sum() / accept.shape[0]\n",
        "    res_cat.loc['Мода', cat] = accept[cat].mode().values[0]\n",
        "\n",
        "for cat in cat_features:\n",
        "    res_cat_r.loc['Доля пропушенных значений', cat] = reject[cat].isnull().sum() / reject.shape[0]\n",
        "    res_cat_r.loc['Мода', cat] = reject[cat].mode().values[0]"
      ],
      "execution_count": 929,
      "outputs": []
    },
    {
      "cell_type": "code",
      "metadata": {
        "colab": {
          "base_uri": "https://localhost:8080/"
        },
        "id": "sUC-Gdz1nE_M",
        "outputId": "b6ba59f3-82c4-47e2-f576-4e479a2e181c"
      },
      "source": [
        "print(res_cat.to_markdown())"
      ],
      "execution_count": 930,
      "outputs": [
        {
          "output_type": "stream",
          "text": [
            "|                           | INCOME_TYPE   | EDUCATION_   | CUSTOMER_CATEGORY_   |   DEPENDANT_NUMBER |   IS_EMPL |   COUNT_ACTIVE_CREDIT_NO_CC |   inquiry_14_day |   inquiry_21_day |\n",
            "|:--------------------------|:--------------|:-------------|:---------------------|-------------------:|----------:|----------------------------:|-----------------:|-----------------:|\n",
            "| Доля пропушенных значений | 0.0           | 0.0          | 0.6053809610816737   |         0.00114197 |         0 |                           0 |        0.0273159 |        0.0273159 |\n",
            "| Мода                      | OTHER         | elementary   | Corporate            |         0          |         0 |                           0 |        0         |        0         |\n"
          ],
          "name": "stdout"
        }
      ]
    },
    {
      "cell_type": "code",
      "metadata": {
        "colab": {
          "base_uri": "https://localhost:8080/"
        },
        "id": "ofxIHEGWHEHR",
        "outputId": "f1e8d998-06d3-4e2b-eec6-861153cb0087"
      },
      "source": [
        "print(res_cat_r.to_markdown())"
      ],
      "execution_count": 931,
      "outputs": [
        {
          "output_type": "stream",
          "text": [
            "|                           | INCOME_TYPE   | EDUCATION_   | CUSTOMER_CATEGORY_   |   DEPENDANT_NUMBER |   IS_EMPL |   COUNT_ACTIVE_CREDIT_NO_CC |   inquiry_14_day |   inquiry_21_day |\n",
            "|:--------------------------|:--------------|:-------------|:---------------------|-------------------:|----------:|----------------------------:|-----------------:|-----------------:|\n",
            "| Доля пропушенных значений | 0.0           | 0.0          | 0.4820936639118457   |        0.000590319 |         0 |                           0 |        0.0230224 |        0.0230224 |\n",
            "| Мода                      | OTHER         | elementary   | Corporate            |        0           |         1 |                           0 |        0         |        0         |\n"
          ],
          "name": "stdout"
        }
      ]
    },
    {
      "cell_type": "markdown",
      "metadata": {
        "id": "aJ7MRb7XUZYp"
      },
      "source": [
        "Теперь рассмотрим данные на предмет аномалий.\n"
      ]
    },
    {
      "cell_type": "code",
      "metadata": {
        "colab": {
          "base_uri": "https://localhost:8080/"
        },
        "id": "nd2rrLTCUdz7",
        "outputId": "98076306-b815-4748-bfc7-f00a0d3e9b5a"
      },
      "source": [
        "accept['CUSTOMER_CATEGORY_'] = accept['CUSTOMER_CATEGORY_'].astype(str)\n",
        "reject['CUSTOMER_CATEGORY_'] = reject['CUSTOMER_CATEGORY_'].astype(str)\n",
        "\n",
        "for cat in cat_features:\n",
        "    print('Уникальные значения признака', cat)\n",
        "    print(np.sort(accept[cat].unique()))"
      ],
      "execution_count": 932,
      "outputs": [
        {
          "output_type": "stream",
          "text": [
            "Уникальные значения признака INCOME_TYPE\n",
            "['2NDFL' 'OTHER']\n",
            "Уникальные значения признака EDUCATION_\n",
            "['advanced' 'beginner' 'elementary' 'high']\n",
            "Уникальные значения признака CUSTOMER_CATEGORY_\n",
            "['Corporate' 'VIP' 'nan']\n",
            "Уникальные значения признака DEPENDANT_NUMBER\n",
            "[ 0.  1.  2.  3.  4. nan]\n",
            "Уникальные значения признака IS_EMPL\n",
            "[0 1]\n",
            "Уникальные значения признака COUNT_ACTIVE_CREDIT_NO_CC\n",
            "[0. 1. 2. 3. 4. 5. 6. 7. 8.]\n",
            "Уникальные значения признака inquiry_14_day\n",
            "[ 0.  1.  2.  3.  4.  5.  6. nan]\n",
            "Уникальные значения признака inquiry_21_day\n",
            "[ 0.  1.  2.  3.  4.  5.  6.  7.  8. nan]\n"
          ],
          "name": "stdout"
        }
      ]
    },
    {
      "cell_type": "code",
      "metadata": {
        "colab": {
          "base_uri": "https://localhost:8080/",
          "height": 446
        },
        "id": "ag-czWxfUfm4",
        "outputId": "6c59a87f-830c-45e9-946c-bf7991a84bf0"
      },
      "source": [
        "total_axes = len(cat_features)\n",
        "plt.figure(figsize=(20, 30))\n",
        "\n",
        "sp = 1  \n",
        "for cat in cat_features:\n",
        "    plt.subplot(total_axes, 4, sp, title=cat)\n",
        "    plt.hist(accept[cat], color='deepskyblue')\n",
        "    plt.grid()\n",
        "    sp += 1\n"
      ],
      "execution_count": 933,
      "outputs": [
        {
          "output_type": "display_data",
          "data": {
            "image/png": "[encoded data removed]",
            "text/plain": [
              "<Figure size 1440x2160 with 8 Axes>"
            ]
          },
          "metadata": {
            "tags": [],
            "needs_background": "light"
          }
        }
      ]
    },
    {
      "cell_type": "markdown",
      "metadata": {
        "id": "AGkE37OvUnrR"
      },
      "source": [
        "Аномалии в данных не выявлены."
      ]
    },
    {
      "cell_type": "markdown",
      "metadata": {
        "id": "5yDhMvcdL1-W"
      },
      "source": [
        "Для корректного подсчета WoE заполним пропуски в категориальных признаках модой. "
      ]
    },
    {
      "cell_type": "code",
      "metadata": {
        "id": "dpk0wb0ARZd9"
      },
      "source": [
        "iv_cat = pd.DataFrame(index=['IV'])"
      ],
      "execution_count": 934,
      "outputs": []
    },
    {
      "cell_type": "code",
      "metadata": {
        "id": "QUccL03CL8HS"
      },
      "source": [
        "for cat in cat_features:\n",
        "    accept[cat] = accept[cat].fillna(value=accept[cat].mode().values[0])\n",
        "\n",
        "accept.loc[accept['CUSTOMER_CATEGORY_'] == 'nan', 'CUSTOMER_CATEGORY_'] = 'Corporate'\n",
        "\n",
        "for cat in cat_features:\n",
        "    reject[cat] = reject[cat].fillna(value=reject[cat].mode().values[0])\n",
        "\n",
        "reject.loc[reject['CUSTOMER_CATEGORY_'] == 'nan', 'CUSTOMER_CATEGORY_'] = 'Corporate'"
      ],
      "execution_count": 935,
      "outputs": []
    },
    {
      "cell_type": "markdown",
      "metadata": {
        "id": "eHJADg00K_Fl"
      },
      "source": [
        "Считаем WoE и IV для каждого признака"
      ]
    },
    {
      "cell_type": "code",
      "metadata": {
        "colab": {
          "base_uri": "https://localhost:8080/",
          "height": 111
        },
        "id": "WYcdHrnmK8SP",
        "outputId": "7282aea1-6c5e-4db7-8291-d1b9e0eda55a"
      },
      "source": [
        "d_INCOME_TYPE = pd.DataFrame(index=accept['INCOME_TYPE'].unique(), columns=['количество объектов', 'количество 1', 'f(x|y=1)', 'количество 0', 'f(x|y=0)', 'WoE'])\n",
        "\n",
        "for el in accept['INCOME_TYPE'].unique():\n",
        "    d_INCOME_TYPE.loc[el, 'количество объектов'] = accept.loc[accept['INCOME_TYPE'] == el].shape[0]\n",
        "    d_INCOME_TYPE.loc[el, 'количество 1'] = accept.loc[(accept['INCOME_TYPE'] == el) & (accept['target'] == 1)].shape[0]\n",
        "    d_INCOME_TYPE.loc[el, 'f(x|y=1)'] =  d_INCOME_TYPE.loc[el, 'количество 1']  / accept.loc[accept['target'] == 1].shape[0]\n",
        "    d_INCOME_TYPE.loc[el, 'количество 0'] = accept.loc[(accept['INCOME_TYPE'] == el) & (accept['target'] == 0)].shape[0]\n",
        "    d_INCOME_TYPE.loc[el, 'f(x|y=0)'] = d_INCOME_TYPE.loc[el, 'количество 0']  / accept.loc[accept['target'] == 0].shape[0]\n",
        "    d_INCOME_TYPE.loc[el, 'WoE'] = np.log(d_INCOME_TYPE.loc[el, 'f(x|y=0)'] / (d_INCOME_TYPE.loc[el, 'f(x|y=1)'] + 1e-6))\n",
        "\n",
        "d_INCOME_TYPE"
      ],
      "execution_count": 936,
      "outputs": [
        {
          "output_type": "execute_result",
          "data": {
            "text/html": [
              "<div>\n",
              "<style scoped>\n",
              "    .dataframe tbody tr th:only-of-type {\n",
              "        vertical-align: middle;\n",
              "    }\n",
              "\n",
              "    .dataframe tbody tr th {\n",
              "        vertical-align: top;\n",
              "    }\n",
              "\n",
              "    .dataframe thead th {\n",
              "        text-align: right;\n",
              "    }\n",
              "</style>\n",
              "<table border=\"1\" class=\"dataframe\">\n",
              "  <thead>\n",
              "    <tr style=\"text-align: right;\">\n",
              "      <th></th>\n",
              "      <th>количество объектов</th>\n",
              "      <th>количество 1</th>\n",
              "      <th>f(x|y=1)</th>\n",
              "      <th>количество 0</th>\n",
              "      <th>f(x|y=0)</th>\n",
              "      <th>WoE</th>\n",
              "    </tr>\n",
              "  </thead>\n",
              "  <tbody>\n",
              "    <tr>\n",
              "      <th>OTHER</th>\n",
              "      <td>15234</td>\n",
              "      <td>304</td>\n",
              "      <td>0.761905</td>\n",
              "      <td>14930</td>\n",
              "      <td>0.694645</td>\n",
              "      <td>-0.0924223</td>\n",
              "    </tr>\n",
              "    <tr>\n",
              "      <th>2NDFL</th>\n",
              "      <td>6658</td>\n",
              "      <td>95</td>\n",
              "      <td>0.238095</td>\n",
              "      <td>6563</td>\n",
              "      <td>0.305355</td>\n",
              "      <td>0.248801</td>\n",
              "    </tr>\n",
              "  </tbody>\n",
              "</table>\n",
              "</div>"
            ],
            "text/plain": [
              "      количество объектов количество 1  ...  f(x|y=0)        WoE\n",
              "OTHER               15234          304  ...  0.694645 -0.0924223\n",
              "2NDFL                6658           95  ...  0.305355   0.248801\n",
              "\n",
              "[2 rows x 6 columns]"
            ]
          },
          "metadata": {
            "tags": []
          },
          "execution_count": 936
        }
      ]
    },
    {
      "cell_type": "code",
      "metadata": {
        "id": "7fgS3BkZp1Ak"
      },
      "source": [
        "for el in accept['INCOME_TYPE'].unique():\n",
        "    accept.loc[accept['INCOME_TYPE'] == el, 'INCOME_TYPE'] = d_INCOME_TYPE.loc[el, 'WoE'] \n",
        "    reject.loc[reject['INCOME_TYPE'] == el, 'INCOME_TYPE'] = d_INCOME_TYPE.loc[el, 'WoE'] "
      ],
      "execution_count": 937,
      "outputs": []
    },
    {
      "cell_type": "code",
      "metadata": {
        "colab": {
          "base_uri": "https://localhost:8080/"
        },
        "id": "44ona4i8K8dL",
        "outputId": "96afd780-c1d5-4212-8a39-2f8a75568ee6"
      },
      "source": [
        "iv_INCOME_TYPE = np.sum((d_INCOME_TYPE['f(x|y=1)'] -  d_INCOME_TYPE['f(x|y=0)']) *  d_INCOME_TYPE['WoE'])\n",
        "iv_cat['INCOME_TYPE'] = iv_INCOME_TYPE\n",
        "iv_INCOME_TYPE"
      ],
      "execution_count": 938,
      "outputs": [
        {
          "output_type": "execute_result",
          "data": {
            "text/plain": [
              "-0.022950665370170917"
            ]
          },
          "metadata": {
            "tags": []
          },
          "execution_count": 938
        }
      ]
    },
    {
      "cell_type": "code",
      "metadata": {
        "colab": {
          "base_uri": "https://localhost:8080/",
          "height": 173
        },
        "id": "UFwVmHa8K8hI",
        "outputId": "82d19806-1d72-4027-83b6-56d756709590"
      },
      "source": [
        "d_EDUCATION_ = pd.DataFrame(index=accept['EDUCATION_'].unique(), columns=['количество объектов', 'количество 1', 'f(x|y=1)', 'количество 0', 'f(x|y=0)', 'WoE'])\n",
        "\n",
        "for el in accept['EDUCATION_'].unique():\n",
        "    d_EDUCATION_.loc[el, 'количество объектов'] = accept.loc[accept['EDUCATION_'] == el].shape[0]\n",
        "    d_EDUCATION_.loc[el, 'количество 1'] = accept.loc[(accept['EDUCATION_'] == el) & (accept['target'] == 1)].shape[0]\n",
        "    d_EDUCATION_.loc[el, 'f(x|y=1)'] =  d_EDUCATION_.loc[el, 'количество 1']  / accept.loc[accept['target'] == 1].shape[0]\n",
        "    d_EDUCATION_.loc[el, 'количество 0'] = accept.loc[(accept['EDUCATION_'] == el) & (accept['target'] == 0)].shape[0]\n",
        "    d_EDUCATION_.loc[el, 'f(x|y=0)'] = d_EDUCATION_.loc[el, 'количество 0']  / accept.loc[accept['target'] == 0].shape[0]\n",
        "    d_EDUCATION_.loc[el, 'WoE'] = np.log(d_EDUCATION_.loc[el, 'f(x|y=0)'] / (d_EDUCATION_.loc[el, 'f(x|y=1)'] + 1e-6))\n",
        "\n",
        "d_EDUCATION_"
      ],
      "execution_count": 939,
      "outputs": [
        {
          "output_type": "execute_result",
          "data": {
            "text/html": [
              "<div>\n",
              "<style scoped>\n",
              "    .dataframe tbody tr th:only-of-type {\n",
              "        vertical-align: middle;\n",
              "    }\n",
              "\n",
              "    .dataframe tbody tr th {\n",
              "        vertical-align: top;\n",
              "    }\n",
              "\n",
              "    .dataframe thead th {\n",
              "        text-align: right;\n",
              "    }\n",
              "</style>\n",
              "<table border=\"1\" class=\"dataframe\">\n",
              "  <thead>\n",
              "    <tr style=\"text-align: right;\">\n",
              "      <th></th>\n",
              "      <th>количество объектов</th>\n",
              "      <th>количество 1</th>\n",
              "      <th>f(x|y=1)</th>\n",
              "      <th>количество 0</th>\n",
              "      <th>f(x|y=0)</th>\n",
              "      <th>WoE</th>\n",
              "    </tr>\n",
              "  </thead>\n",
              "  <tbody>\n",
              "    <tr>\n",
              "      <th>elementary</th>\n",
              "      <td>14301</td>\n",
              "      <td>204</td>\n",
              "      <td>0.511278</td>\n",
              "      <td>14097</td>\n",
              "      <td>0.655888</td>\n",
              "      <td>0.249074</td>\n",
              "    </tr>\n",
              "    <tr>\n",
              "      <th>advanced</th>\n",
              "      <td>5663</td>\n",
              "      <td>159</td>\n",
              "      <td>0.398496</td>\n",
              "      <td>5504</td>\n",
              "      <td>0.256083</td>\n",
              "      <td>-0.442197</td>\n",
              "    </tr>\n",
              "    <tr>\n",
              "      <th>beginner</th>\n",
              "      <td>1098</td>\n",
              "      <td>10</td>\n",
              "      <td>0.0250627</td>\n",
              "      <td>1088</td>\n",
              "      <td>0.0506211</td>\n",
              "      <td>0.70295</td>\n",
              "    </tr>\n",
              "    <tr>\n",
              "      <th>high</th>\n",
              "      <td>830</td>\n",
              "      <td>26</td>\n",
              "      <td>0.0651629</td>\n",
              "      <td>804</td>\n",
              "      <td>0.0374075</td>\n",
              "      <td>-0.555034</td>\n",
              "    </tr>\n",
              "  </tbody>\n",
              "</table>\n",
              "</div>"
            ],
            "text/plain": [
              "           количество объектов количество 1  ...   f(x|y=0)       WoE\n",
              "elementary               14301          204  ...   0.655888  0.249074\n",
              "advanced                  5663          159  ...   0.256083 -0.442197\n",
              "beginner                  1098           10  ...  0.0506211   0.70295\n",
              "high                       830           26  ...  0.0374075 -0.555034\n",
              "\n",
              "[4 rows x 6 columns]"
            ]
          },
          "metadata": {
            "tags": []
          },
          "execution_count": 939
        }
      ]
    },
    {
      "cell_type": "code",
      "metadata": {
        "id": "J2ErfyI4p6OE"
      },
      "source": [
        "for el in accept['EDUCATION_'].unique():\n",
        "    accept.loc[accept['EDUCATION_'] == el, 'EDUCATION_'] = d_EDUCATION_.loc[el, 'WoE'] \n",
        "    reject.loc[reject['EDUCATION_'] == el, 'EDUCATION_'] = d_EDUCATION_.loc[el, 'WoE'] "
      ],
      "execution_count": 940,
      "outputs": []
    },
    {
      "cell_type": "code",
      "metadata": {
        "colab": {
          "base_uri": "https://localhost:8080/"
        },
        "id": "r6vPNQw_K8nb",
        "outputId": "0af42ae5-37f0-4889-bb23-edc19f89068b"
      },
      "source": [
        "iv_EDUCATION_ = np.sum((d_EDUCATION_['f(x|y=1)'] -  d_EDUCATION_['f(x|y=0)']) *  d_EDUCATION_['WoE'])\n",
        "iv_cat['EDUCATION_'] = iv_EDUCATION_\n",
        "iv_EDUCATION_"
      ],
      "execution_count": 941,
      "outputs": [
        {
          "output_type": "execute_result",
          "data": {
            "text/plain": [
              "-0.13236468120121922"
            ]
          },
          "metadata": {
            "tags": []
          },
          "execution_count": 941
        }
      ]
    },
    {
      "cell_type": "code",
      "metadata": {
        "colab": {
          "base_uri": "https://localhost:8080/",
          "height": 111
        },
        "id": "AaiWz2G6Lrn_",
        "outputId": "d9895813-15ce-4964-8219-d6508f12c517"
      },
      "source": [
        "d_CUSTOMER_CATEGORY_ = pd.DataFrame(index=accept['CUSTOMER_CATEGORY_'].unique(), columns=['количество объектов', 'количество 1', 'f(x|y=1)', 'количество 0', 'f(x|y=0)', 'WoE'])\n",
        "\n",
        "for el in accept['CUSTOMER_CATEGORY_'].unique():\n",
        "    d_CUSTOMER_CATEGORY_.loc[el, 'количество объектов'] = accept.loc[accept['CUSTOMER_CATEGORY_'] == el].shape[0]\n",
        "    d_CUSTOMER_CATEGORY_.loc[el, 'количество 1'] = accept.loc[(accept['CUSTOMER_CATEGORY_'] == el) & (accept['target'] == 1)].shape[0]\n",
        "    d_CUSTOMER_CATEGORY_.loc[el, 'f(x|y=1)'] =  d_CUSTOMER_CATEGORY_.loc[el, 'количество 1']  / accept.loc[accept['target'] == 1].shape[0]\n",
        "    d_CUSTOMER_CATEGORY_.loc[el, 'количество 0'] = accept.loc[(accept['CUSTOMER_CATEGORY_'] == el) & (accept['target'] == 0)].shape[0]\n",
        "    d_CUSTOMER_CATEGORY_.loc[el, 'f(x|y=0)'] = d_CUSTOMER_CATEGORY_.loc[el, 'количество 0']  / accept.loc[accept['target'] == 0].shape[0]\n",
        "    d_CUSTOMER_CATEGORY_.loc[el, 'WoE'] = np.log(d_CUSTOMER_CATEGORY_.loc[el, 'f(x|y=0)'] / (d_CUSTOMER_CATEGORY_.loc[el, 'f(x|y=1)'] + 1e-6))\n",
        "\n",
        "d_CUSTOMER_CATEGORY_"
      ],
      "execution_count": 942,
      "outputs": [
        {
          "output_type": "execute_result",
          "data": {
            "text/html": [
              "<div>\n",
              "<style scoped>\n",
              "    .dataframe tbody tr th:only-of-type {\n",
              "        vertical-align: middle;\n",
              "    }\n",
              "\n",
              "    .dataframe tbody tr th {\n",
              "        vertical-align: top;\n",
              "    }\n",
              "\n",
              "    .dataframe thead th {\n",
              "        text-align: right;\n",
              "    }\n",
              "</style>\n",
              "<table border=\"1\" class=\"dataframe\">\n",
              "  <thead>\n",
              "    <tr style=\"text-align: right;\">\n",
              "      <th></th>\n",
              "      <th>количество объектов</th>\n",
              "      <th>количество 1</th>\n",
              "      <th>f(x|y=1)</th>\n",
              "      <th>количество 0</th>\n",
              "      <th>f(x|y=0)</th>\n",
              "      <th>WoE</th>\n",
              "    </tr>\n",
              "  </thead>\n",
              "  <tbody>\n",
              "    <tr>\n",
              "      <th>Corporate</th>\n",
              "      <td>21573</td>\n",
              "      <td>395</td>\n",
              "      <td>0.989975</td>\n",
              "      <td>21178</td>\n",
              "      <td>0.985344</td>\n",
              "      <td>-0.00468975</td>\n",
              "    </tr>\n",
              "    <tr>\n",
              "      <th>VIP</th>\n",
              "      <td>319</td>\n",
              "      <td>4</td>\n",
              "      <td>0.0100251</td>\n",
              "      <td>315</td>\n",
              "      <td>0.0146559</td>\n",
              "      <td>0.379657</td>\n",
              "    </tr>\n",
              "  </tbody>\n",
              "</table>\n",
              "</div>"
            ],
            "text/plain": [
              "          количество объектов количество 1  ...   f(x|y=0)         WoE\n",
              "Corporate               21573          395  ...   0.985344 -0.00468975\n",
              "VIP                       319            4  ...  0.0146559    0.379657\n",
              "\n",
              "[2 rows x 6 columns]"
            ]
          },
          "metadata": {
            "tags": []
          },
          "execution_count": 942
        }
      ]
    },
    {
      "cell_type": "code",
      "metadata": {
        "id": "UNT-RJXEp-84"
      },
      "source": [
        "for el in accept['CUSTOMER_CATEGORY_'].unique():\n",
        "    accept.loc[accept['CUSTOMER_CATEGORY_'] == el, 'CUSTOMER_CATEGORY_'] = d_CUSTOMER_CATEGORY_.loc[el, 'WoE'] \n",
        "    reject.loc[reject['CUSTOMER_CATEGORY_'] == el, 'CUSTOMER_CATEGORY_'] = d_CUSTOMER_CATEGORY_.loc[el, 'WoE'] "
      ],
      "execution_count": 943,
      "outputs": []
    },
    {
      "cell_type": "code",
      "metadata": {
        "colab": {
          "base_uri": "https://localhost:8080/"
        },
        "id": "6Rr835rMLrtI",
        "outputId": "60ab8bd2-a562-4dd8-fea4-ab358f5be5f7"
      },
      "source": [
        "iv_CUSTOMER_CATEGORY_ = np.sum((d_CUSTOMER_CATEGORY_['f(x|y=1)'] -  d_CUSTOMER_CATEGORY_['f(x|y=0)']) *  d_CUSTOMER_CATEGORY_['WoE'])\n",
        "iv_cat['CUSTOMER_CATEGORY_'] = iv_CUSTOMER_CATEGORY_\n",
        "iv_CUSTOMER_CATEGORY_"
      ],
      "execution_count": 944,
      "outputs": [
        {
          "output_type": "execute_result",
          "data": {
            "text/plain": [
              "-0.0017798622603077084"
            ]
          },
          "metadata": {
            "tags": []
          },
          "execution_count": 944
        }
      ]
    },
    {
      "cell_type": "code",
      "metadata": {
        "colab": {
          "base_uri": "https://localhost:8080/",
          "height": 204
        },
        "id": "FB-rmRYaLsGc",
        "outputId": "29bd8e9f-addf-43bd-f92b-6d68ac18bfc9"
      },
      "source": [
        "d_DEPENDANT_NUMBER = pd.DataFrame(index=accept['DEPENDANT_NUMBER'].unique(), columns=['количество объектов', 'количество 1', 'f(x|y=1)', 'количество 0', 'f(x|y=0)', 'WoE'])\n",
        "\n",
        "for el in accept['DEPENDANT_NUMBER'].unique():\n",
        "    d_DEPENDANT_NUMBER.loc[el, 'количество объектов'] = accept.loc[accept['DEPENDANT_NUMBER'] == el].shape[0]\n",
        "    d_DEPENDANT_NUMBER.loc[el, 'количество 1'] = accept.loc[(accept['DEPENDANT_NUMBER'] == el) & (accept['target'] == 1)].shape[0]\n",
        "    d_DEPENDANT_NUMBER.loc[el, 'f(x|y=1)'] =  d_DEPENDANT_NUMBER.loc[el, 'количество 1']  / accept.loc[accept['target'] == 1].shape[0]\n",
        "    d_DEPENDANT_NUMBER.loc[el, 'количество 0'] = accept.loc[(accept['DEPENDANT_NUMBER'] == el) & (accept['target'] == 0)].shape[0]\n",
        "    d_DEPENDANT_NUMBER.loc[el, 'f(x|y=0)'] = d_DEPENDANT_NUMBER.loc[el, 'количество 0']  / accept.loc[accept['target'] == 0].shape[0]\n",
        "    d_DEPENDANT_NUMBER.loc[el, 'WoE'] = np.log(d_DEPENDANT_NUMBER.loc[el, 'f(x|y=0)'] / (d_DEPENDANT_NUMBER.loc[el, 'f(x|y=1)'] + 1e-6))\n",
        "\n",
        "d_DEPENDANT_NUMBER"
      ],
      "execution_count": 945,
      "outputs": [
        {
          "output_type": "execute_result",
          "data": {
            "text/html": [
              "<div>\n",
              "<style scoped>\n",
              "    .dataframe tbody tr th:only-of-type {\n",
              "        vertical-align: middle;\n",
              "    }\n",
              "\n",
              "    .dataframe tbody tr th {\n",
              "        vertical-align: top;\n",
              "    }\n",
              "\n",
              "    .dataframe thead th {\n",
              "        text-align: right;\n",
              "    }\n",
              "</style>\n",
              "<table border=\"1\" class=\"dataframe\">\n",
              "  <thead>\n",
              "    <tr style=\"text-align: right;\">\n",
              "      <th></th>\n",
              "      <th>количество объектов</th>\n",
              "      <th>количество 1</th>\n",
              "      <th>f(x|y=1)</th>\n",
              "      <th>количество 0</th>\n",
              "      <th>f(x|y=0)</th>\n",
              "      <th>WoE</th>\n",
              "    </tr>\n",
              "  </thead>\n",
              "  <tbody>\n",
              "    <tr>\n",
              "      <th>0.0</th>\n",
              "      <td>21756</td>\n",
              "      <td>397</td>\n",
              "      <td>0.994987</td>\n",
              "      <td>21359</td>\n",
              "      <td>0.993765</td>\n",
              "      <td>-0.00122997</td>\n",
              "    </tr>\n",
              "    <tr>\n",
              "      <th>1.0</th>\n",
              "      <td>105</td>\n",
              "      <td>2</td>\n",
              "      <td>0.00501253</td>\n",
              "      <td>103</td>\n",
              "      <td>0.00479226</td>\n",
              "      <td>-0.0451388</td>\n",
              "    </tr>\n",
              "    <tr>\n",
              "      <th>2.0</th>\n",
              "      <td>25</td>\n",
              "      <td>0</td>\n",
              "      <td>0</td>\n",
              "      <td>25</td>\n",
              "      <td>0.00116317</td>\n",
              "      <td>7.0589</td>\n",
              "    </tr>\n",
              "    <tr>\n",
              "      <th>3.0</th>\n",
              "      <td>5</td>\n",
              "      <td>0</td>\n",
              "      <td>0</td>\n",
              "      <td>5</td>\n",
              "      <td>0.000232634</td>\n",
              "      <td>5.44947</td>\n",
              "    </tr>\n",
              "    <tr>\n",
              "      <th>4.0</th>\n",
              "      <td>1</td>\n",
              "      <td>0</td>\n",
              "      <td>0</td>\n",
              "      <td>1</td>\n",
              "      <td>4.65268e-05</td>\n",
              "      <td>3.84003</td>\n",
              "    </tr>\n",
              "  </tbody>\n",
              "</table>\n",
              "</div>"
            ],
            "text/plain": [
              "    количество объектов количество 1  ...     f(x|y=0)         WoE\n",
              "0.0               21756          397  ...     0.993765 -0.00122997\n",
              "1.0                 105            2  ...   0.00479226  -0.0451388\n",
              "2.0                  25            0  ...   0.00116317      7.0589\n",
              "3.0                   5            0  ...  0.000232634     5.44947\n",
              "4.0                   1            0  ...  4.65268e-05     3.84003\n",
              "\n",
              "[5 rows x 6 columns]"
            ]
          },
          "metadata": {
            "tags": []
          },
          "execution_count": 945
        }
      ]
    },
    {
      "cell_type": "code",
      "metadata": {
        "id": "NNWR3PNyqc-R"
      },
      "source": [
        "for el in accept['DEPENDANT_NUMBER'].unique():\n",
        "    accept.loc[accept['DEPENDANT_NUMBER'] == el, 'DEPENDANT_NUMBER'] = d_DEPENDANT_NUMBER.loc[el, 'WoE'] \n",
        "    reject.loc[reject['DEPENDANT_NUMBER'] == el, 'DEPENDANT_NUMBER'] = d_DEPENDANT_NUMBER.loc[el, 'WoE'] "
      ],
      "execution_count": 946,
      "outputs": []
    },
    {
      "cell_type": "code",
      "metadata": {
        "colab": {
          "base_uri": "https://localhost:8080/"
        },
        "id": "ZmSfs69FLsLX",
        "outputId": "2d41266c-1c9b-447a-f546-3f2a431c1adb"
      },
      "source": [
        "iv_DEPENDANT_NUMBER = np.sum((d_DEPENDANT_NUMBER['f(x|y=1)'] -  d_DEPENDANT_NUMBER['f(x|y=0)']) *  d_DEPENDANT_NUMBER['WoE'])\n",
        "iv_cat['DEPENDANT_NUMBER'] = iv_DEPENDANT_NUMBER\n",
        "iv_DEPENDANT_NUMBER"
      ],
      "execution_count": 947,
      "outputs": [
        {
          "output_type": "execute_result",
          "data": {
            "text/plain": [
              "-0.009668541430893835"
            ]
          },
          "metadata": {
            "tags": []
          },
          "execution_count": 947
        }
      ]
    },
    {
      "cell_type": "code",
      "metadata": {
        "colab": {
          "base_uri": "https://localhost:8080/",
          "height": 111
        },
        "id": "FdsLNyGDLsQN",
        "outputId": "05208311-eda7-4c0e-fcee-faa6ae86088c"
      },
      "source": [
        "d_IS_EMPL = pd.DataFrame(index=accept['IS_EMPL'].unique(), columns=['количество объектов', 'количество 1', 'f(x|y=1)', 'количество 0', 'f(x|y=0)', 'WoE'])\n",
        "\n",
        "for el in accept['IS_EMPL'].unique():\n",
        "    d_IS_EMPL.loc[el, 'количество объектов'] = accept.loc[accept['IS_EMPL'] == el].shape[0]\n",
        "    d_IS_EMPL.loc[el, 'количество 1'] = accept.loc[(accept['IS_EMPL'] == el) & (accept['target'] == 1)].shape[0]\n",
        "    d_IS_EMPL.loc[el, 'f(x|y=1)'] =  d_IS_EMPL.loc[el, 'количество 1']  / accept.loc[accept['target'] == 1].shape[0]\n",
        "    d_IS_EMPL.loc[el, 'количество 0'] = accept.loc[(accept['IS_EMPL'] == el) & (accept['target'] == 0)].shape[0]\n",
        "    d_IS_EMPL.loc[el, 'f(x|y=0)'] = d_IS_EMPL.loc[el, 'количество 0']  / accept.loc[accept['target'] == 0].shape[0]\n",
        "    d_IS_EMPL.loc[el, 'WoE'] = np.log(d_IS_EMPL.loc[el, 'f(x|y=0)'] / (d_IS_EMPL.loc[el, 'f(x|y=1)'] + 1e-6))\n",
        "\n",
        "d_IS_EMPL"
      ],
      "execution_count": 948,
      "outputs": [
        {
          "output_type": "execute_result",
          "data": {
            "text/html": [
              "<div>\n",
              "<style scoped>\n",
              "    .dataframe tbody tr th:only-of-type {\n",
              "        vertical-align: middle;\n",
              "    }\n",
              "\n",
              "    .dataframe tbody tr th {\n",
              "        vertical-align: top;\n",
              "    }\n",
              "\n",
              "    .dataframe thead th {\n",
              "        text-align: right;\n",
              "    }\n",
              "</style>\n",
              "<table border=\"1\" class=\"dataframe\">\n",
              "  <thead>\n",
              "    <tr style=\"text-align: right;\">\n",
              "      <th></th>\n",
              "      <th>количество объектов</th>\n",
              "      <th>количество 1</th>\n",
              "      <th>f(x|y=1)</th>\n",
              "      <th>количество 0</th>\n",
              "      <th>f(x|y=0)</th>\n",
              "      <th>WoE</th>\n",
              "    </tr>\n",
              "  </thead>\n",
              "  <tbody>\n",
              "    <tr>\n",
              "      <th>0</th>\n",
              "      <td>13251</td>\n",
              "      <td>373</td>\n",
              "      <td>0.934837</td>\n",
              "      <td>12878</td>\n",
              "      <td>0.599172</td>\n",
              "      <td>-0.444825</td>\n",
              "    </tr>\n",
              "    <tr>\n",
              "      <th>1</th>\n",
              "      <td>8641</td>\n",
              "      <td>26</td>\n",
              "      <td>0.0651629</td>\n",
              "      <td>8615</td>\n",
              "      <td>0.400828</td>\n",
              "      <td>1.81663</td>\n",
              "    </tr>\n",
              "  </tbody>\n",
              "</table>\n",
              "</div>"
            ],
            "text/plain": [
              "  количество объектов количество 1   f(x|y=1) количество 0  f(x|y=0)       WoE\n",
              "0               13251          373   0.934837        12878  0.599172 -0.444825\n",
              "1                8641           26  0.0651629         8615  0.400828   1.81663"
            ]
          },
          "metadata": {
            "tags": []
          },
          "execution_count": 948
        }
      ]
    },
    {
      "cell_type": "code",
      "metadata": {
        "id": "wmnU2cT3qjXV"
      },
      "source": [
        "for el in accept['IS_EMPL'].unique():\n",
        "    accept.loc[accept['IS_EMPL'] == el, 'IS_EMPL'] = d_IS_EMPL.loc[el, 'WoE']\n",
        "    reject.loc[reject['IS_EMPL'] == el, 'IS_EMPL'] = d_IS_EMPL.loc[el, 'WoE']"
      ],
      "execution_count": 949,
      "outputs": []
    },
    {
      "cell_type": "code",
      "metadata": {
        "colab": {
          "base_uri": "https://localhost:8080/"
        },
        "id": "M8B9rR1-LsUT",
        "outputId": "14420040-7111-4cd9-8f75-6fc8af9d56e0"
      },
      "source": [
        "iv_IS_EMPL = np.sum((d_IS_EMPL['f(x|y=1)'] -  d_IS_EMPL['f(x|y=0)']) *  d_IS_EMPL['WoE'])\n",
        "iv_cat['IS_EMPL'] = iv_IS_EMPL\n",
        "iv_IS_EMPL"
      ],
      "execution_count": 950,
      "outputs": [
        {
          "output_type": "execute_result",
          "data": {
            "text/plain": [
              "-0.7590909101888957"
            ]
          },
          "metadata": {
            "tags": []
          },
          "execution_count": 950
        }
      ]
    },
    {
      "cell_type": "code",
      "metadata": {
        "colab": {
          "base_uri": "https://localhost:8080/",
          "height": 328
        },
        "id": "gjBV8lUyLsYx",
        "outputId": "66a476c5-b887-41c4-e803-fb6cce3f9271"
      },
      "source": [
        "d_COUNT_ACTIVE_CREDIT_NO_CC = pd.DataFrame(index=accept['COUNT_ACTIVE_CREDIT_NO_CC'].unique(), columns=['количество объектов', 'количество 1', 'f(x|y=1)', 'количество 0', 'f(x|y=0)', 'WoE'])\n",
        "\n",
        "for el in accept['COUNT_ACTIVE_CREDIT_NO_CC'].unique():\n",
        "    d_COUNT_ACTIVE_CREDIT_NO_CC.loc[el, 'количество объектов'] = accept.loc[accept['COUNT_ACTIVE_CREDIT_NO_CC'] == el].shape[0]\n",
        "    d_COUNT_ACTIVE_CREDIT_NO_CC.loc[el, 'количество 1'] = accept.loc[(accept['COUNT_ACTIVE_CREDIT_NO_CC'] == el) & (accept['target'] == 1)].shape[0]\n",
        "    d_COUNT_ACTIVE_CREDIT_NO_CC.loc[el, 'f(x|y=1)'] =  d_COUNT_ACTIVE_CREDIT_NO_CC.loc[el, 'количество 1']  / accept.loc[accept['target'] == 1].shape[0]\n",
        "    d_COUNT_ACTIVE_CREDIT_NO_CC.loc[el, 'количество 0'] = accept.loc[(accept['COUNT_ACTIVE_CREDIT_NO_CC'] == el) & (accept['target'] == 0)].shape[0]\n",
        "    d_COUNT_ACTIVE_CREDIT_NO_CC.loc[el, 'f(x|y=0)'] = d_COUNT_ACTIVE_CREDIT_NO_CC.loc[el, 'количество 0']  / accept.loc[accept['target'] == 0].shape[0]\n",
        "    d_COUNT_ACTIVE_CREDIT_NO_CC.loc[el, 'WoE'] = np.log(d_COUNT_ACTIVE_CREDIT_NO_CC.loc[el, 'f(x|y=0)'] + 1e-6 / (d_COUNT_ACTIVE_CREDIT_NO_CC.loc[el, 'f(x|y=1)'] + 1e-6))\n",
        "\n",
        "d_COUNT_ACTIVE_CREDIT_NO_CC"
      ],
      "execution_count": 951,
      "outputs": [
        {
          "output_type": "execute_result",
          "data": {
            "text/html": [
              "<div>\n",
              "<style scoped>\n",
              "    .dataframe tbody tr th:only-of-type {\n",
              "        vertical-align: middle;\n",
              "    }\n",
              "\n",
              "    .dataframe tbody tr th {\n",
              "        vertical-align: top;\n",
              "    }\n",
              "\n",
              "    .dataframe thead th {\n",
              "        text-align: right;\n",
              "    }\n",
              "</style>\n",
              "<table border=\"1\" class=\"dataframe\">\n",
              "  <thead>\n",
              "    <tr style=\"text-align: right;\">\n",
              "      <th></th>\n",
              "      <th>количество объектов</th>\n",
              "      <th>количество 1</th>\n",
              "      <th>f(x|y=1)</th>\n",
              "      <th>количество 0</th>\n",
              "      <th>f(x|y=0)</th>\n",
              "      <th>WoE</th>\n",
              "    </tr>\n",
              "  </thead>\n",
              "  <tbody>\n",
              "    <tr>\n",
              "      <th>0.0</th>\n",
              "      <td>10167</td>\n",
              "      <td>148</td>\n",
              "      <td>0.370927</td>\n",
              "      <td>10019</td>\n",
              "      <td>0.466152</td>\n",
              "      <td>-0.763238</td>\n",
              "    </tr>\n",
              "    <tr>\n",
              "      <th>1.0</th>\n",
              "      <td>8770</td>\n",
              "      <td>164</td>\n",
              "      <td>0.411028</td>\n",
              "      <td>8606</td>\n",
              "      <td>0.400409</td>\n",
              "      <td>-0.915262</td>\n",
              "    </tr>\n",
              "    <tr>\n",
              "      <th>2.0</th>\n",
              "      <td>2197</td>\n",
              "      <td>60</td>\n",
              "      <td>0.150376</td>\n",
              "      <td>2137</td>\n",
              "      <td>0.0994277</td>\n",
              "      <td>-2.30826</td>\n",
              "    </tr>\n",
              "    <tr>\n",
              "      <th>6.0</th>\n",
              "      <td>9</td>\n",
              "      <td>0</td>\n",
              "      <td>0</td>\n",
              "      <td>9</td>\n",
              "      <td>0.000418741</td>\n",
              "      <td>0.000418653</td>\n",
              "    </tr>\n",
              "    <tr>\n",
              "      <th>3.0</th>\n",
              "      <td>550</td>\n",
              "      <td>18</td>\n",
              "      <td>0.0451128</td>\n",
              "      <td>532</td>\n",
              "      <td>0.0247522</td>\n",
              "      <td>-3.69794</td>\n",
              "    </tr>\n",
              "    <tr>\n",
              "      <th>4.0</th>\n",
              "      <td>149</td>\n",
              "      <td>6</td>\n",
              "      <td>0.0150376</td>\n",
              "      <td>143</td>\n",
              "      <td>0.00665333</td>\n",
              "      <td>-5.00269</td>\n",
              "    </tr>\n",
              "    <tr>\n",
              "      <th>7.0</th>\n",
              "      <td>8</td>\n",
              "      <td>0</td>\n",
              "      <td>0</td>\n",
              "      <td>8</td>\n",
              "      <td>0.000372214</td>\n",
              "      <td>0.000372145</td>\n",
              "    </tr>\n",
              "    <tr>\n",
              "      <th>5.0</th>\n",
              "      <td>40</td>\n",
              "      <td>1</td>\n",
              "      <td>0.00250627</td>\n",
              "      <td>39</td>\n",
              "      <td>0.00181454</td>\n",
              "      <td>-6.11323</td>\n",
              "    </tr>\n",
              "    <tr>\n",
              "      <th>8.0</th>\n",
              "      <td>2</td>\n",
              "      <td>2</td>\n",
              "      <td>0.00501253</td>\n",
              "      <td>0</td>\n",
              "      <td>0</td>\n",
              "      <td>-8.5199</td>\n",
              "    </tr>\n",
              "  </tbody>\n",
              "</table>\n",
              "</div>"
            ],
            "text/plain": [
              "    количество объектов количество 1  ...     f(x|y=0)          WoE\n",
              "0.0               10167          148  ...     0.466152    -0.763238\n",
              "1.0                8770          164  ...     0.400409    -0.915262\n",
              "2.0                2197           60  ...    0.0994277     -2.30826\n",
              "6.0                   9            0  ...  0.000418741  0.000418653\n",
              "3.0                 550           18  ...    0.0247522     -3.69794\n",
              "4.0                 149            6  ...   0.00665333     -5.00269\n",
              "7.0                   8            0  ...  0.000372214  0.000372145\n",
              "5.0                  40            1  ...   0.00181454     -6.11323\n",
              "8.0                   2            2  ...            0      -8.5199\n",
              "\n",
              "[9 rows x 6 columns]"
            ]
          },
          "metadata": {
            "tags": []
          },
          "execution_count": 951
        }
      ]
    },
    {
      "cell_type": "code",
      "metadata": {
        "id": "WDteV_UIqpCD"
      },
      "source": [
        "for el in accept['COUNT_ACTIVE_CREDIT_NO_CC'].unique():\n",
        "    accept.loc[accept['COUNT_ACTIVE_CREDIT_NO_CC'] == el, 'COUNT_ACTIVE_CREDIT_NO_CC'] = d_COUNT_ACTIVE_CREDIT_NO_CC.loc[el, 'WoE'] \n",
        "    reject.loc[reject['COUNT_ACTIVE_CREDIT_NO_CC'] == el, 'COUNT_ACTIVE_CREDIT_NO_CC'] = d_COUNT_ACTIVE_CREDIT_NO_CC.loc[el, 'WoE'] "
      ],
      "execution_count": 952,
      "outputs": []
    },
    {
      "cell_type": "code",
      "metadata": {
        "colab": {
          "base_uri": "https://localhost:8080/"
        },
        "id": "wqYUu5kqLsc5",
        "outputId": "a7388174-0158-4359-ffda-497b87b1d873"
      },
      "source": [
        "iv_COUNT_ACTIVE_CREDIT_NO_CC = np.sum((d_COUNT_ACTIVE_CREDIT_NO_CC['f(x|y=1)'] - d_COUNT_ACTIVE_CREDIT_NO_CC['f(x|y=0)']) *  d_COUNT_ACTIVE_CREDIT_NO_CC['WoE'])\n",
        "iv_cat['COUNT_ACTIVE_CREDIT_NO_CC'] = iv_COUNT_ACTIVE_CREDIT_NO_CC\n",
        "iv_COUNT_ACTIVE_CREDIT_NO_CC"
      ],
      "execution_count": 953,
      "outputs": [
        {
          "output_type": "execute_result",
          "data": {
            "text/plain": [
              "-0.21881227666728695"
            ]
          },
          "metadata": {
            "tags": []
          },
          "execution_count": 953
        }
      ]
    },
    {
      "cell_type": "code",
      "metadata": {
        "colab": {
          "base_uri": "https://localhost:8080/",
          "height": 266
        },
        "id": "etEg-ziaLshR",
        "outputId": "1ecc8e12-74bb-4ce0-f62b-8b9ed79bc725"
      },
      "source": [
        "d_inquiry_14_day = pd.DataFrame(index=accept['inquiry_14_day'].unique(), columns=['количество объектов', 'количество 1', 'f(x|y=1)', 'количество 0', 'f(x|y=0)', 'WoE'])\n",
        "\n",
        "for el in accept['inquiry_14_day'].unique():\n",
        "    d_inquiry_14_day.loc[el, 'количество объектов'] = accept.loc[accept['inquiry_14_day'] == el].shape[0]\n",
        "    d_inquiry_14_day.loc[el, 'количество 1'] = accept.loc[(accept['inquiry_14_day'] == el) & (accept['target'] == 1)].shape[0]\n",
        "    d_inquiry_14_day.loc[el, 'f(x|y=1)'] =  d_inquiry_14_day.loc[el, 'количество 1']  / accept.loc[accept['target'] == 1].shape[0]\n",
        "    d_inquiry_14_day.loc[el, 'количество 0'] = accept.loc[(accept['inquiry_14_day'] == el) & (accept['target'] == 0)].shape[0]\n",
        "    d_inquiry_14_day.loc[el, 'f(x|y=0)'] = d_inquiry_14_day.loc[el, 'количество 0']  / accept.loc[accept['target'] == 0].shape[0]\n",
        "    d_inquiry_14_day.loc[el, 'WoE'] = np.log(d_inquiry_14_day.loc[el, 'f(x|y=0)'] + 1e-6 / (d_inquiry_14_day.loc[el, 'f(x|y=1)'] + 1e-6))\n",
        "\n",
        "d_inquiry_14_day"
      ],
      "execution_count": 954,
      "outputs": [
        {
          "output_type": "execute_result",
          "data": {
            "text/html": [
              "<div>\n",
              "<style scoped>\n",
              "    .dataframe tbody tr th:only-of-type {\n",
              "        vertical-align: middle;\n",
              "    }\n",
              "\n",
              "    .dataframe tbody tr th {\n",
              "        vertical-align: top;\n",
              "    }\n",
              "\n",
              "    .dataframe thead th {\n",
              "        text-align: right;\n",
              "    }\n",
              "</style>\n",
              "<table border=\"1\" class=\"dataframe\">\n",
              "  <thead>\n",
              "    <tr style=\"text-align: right;\">\n",
              "      <th></th>\n",
              "      <th>количество объектов</th>\n",
              "      <th>количество 1</th>\n",
              "      <th>f(x|y=1)</th>\n",
              "      <th>количество 0</th>\n",
              "      <th>f(x|y=0)</th>\n",
              "      <th>WoE</th>\n",
              "    </tr>\n",
              "  </thead>\n",
              "  <tbody>\n",
              "    <tr>\n",
              "      <th>0.0</th>\n",
              "      <td>15763</td>\n",
              "      <td>240</td>\n",
              "      <td>0.601504</td>\n",
              "      <td>15523</td>\n",
              "      <td>0.722235</td>\n",
              "      <td>-0.325402</td>\n",
              "    </tr>\n",
              "    <tr>\n",
              "      <th>1.0</th>\n",
              "      <td>5195</td>\n",
              "      <td>104</td>\n",
              "      <td>0.260652</td>\n",
              "      <td>5091</td>\n",
              "      <td>0.236868</td>\n",
              "      <td>-1.44024</td>\n",
              "    </tr>\n",
              "    <tr>\n",
              "      <th>2.0</th>\n",
              "      <td>771</td>\n",
              "      <td>36</td>\n",
              "      <td>0.0902256</td>\n",
              "      <td>735</td>\n",
              "      <td>0.0341972</td>\n",
              "      <td>-3.37529</td>\n",
              "    </tr>\n",
              "    <tr>\n",
              "      <th>4.0</th>\n",
              "      <td>30</td>\n",
              "      <td>6</td>\n",
              "      <td>0.0150376</td>\n",
              "      <td>24</td>\n",
              "      <td>0.00111664</td>\n",
              "      <td>-6.73958</td>\n",
              "    </tr>\n",
              "    <tr>\n",
              "      <th>3.0</th>\n",
              "      <td>126</td>\n",
              "      <td>9</td>\n",
              "      <td>0.0225564</td>\n",
              "      <td>117</td>\n",
              "      <td>0.00544363</td>\n",
              "      <td>-5.2052</td>\n",
              "    </tr>\n",
              "    <tr>\n",
              "      <th>5.0</th>\n",
              "      <td>4</td>\n",
              "      <td>1</td>\n",
              "      <td>0.00250627</td>\n",
              "      <td>3</td>\n",
              "      <td>0.00013958</td>\n",
              "      <td>-7.52687</td>\n",
              "    </tr>\n",
              "    <tr>\n",
              "      <th>6.0</th>\n",
              "      <td>3</td>\n",
              "      <td>3</td>\n",
              "      <td>0.0075188</td>\n",
              "      <td>0</td>\n",
              "      <td>0</td>\n",
              "      <td>-8.92529</td>\n",
              "    </tr>\n",
              "  </tbody>\n",
              "</table>\n",
              "</div>"
            ],
            "text/plain": [
              "    количество объектов количество 1  ...    f(x|y=0)       WoE\n",
              "0.0               15763          240  ...    0.722235 -0.325402\n",
              "1.0                5195          104  ...    0.236868  -1.44024\n",
              "2.0                 771           36  ...   0.0341972  -3.37529\n",
              "4.0                  30            6  ...  0.00111664  -6.73958\n",
              "3.0                 126            9  ...  0.00544363   -5.2052\n",
              "5.0                   4            1  ...  0.00013958  -7.52687\n",
              "6.0                   3            3  ...           0  -8.92529\n",
              "\n",
              "[7 rows x 6 columns]"
            ]
          },
          "metadata": {
            "tags": []
          },
          "execution_count": 954
        }
      ]
    },
    {
      "cell_type": "code",
      "metadata": {
        "id": "phvSQ3jmqvZm"
      },
      "source": [
        "for el in accept['inquiry_14_day'].unique():\n",
        "    accept.loc[accept['inquiry_14_day'] == el, 'inquiry_14_day'] = d_inquiry_14_day.loc[el, 'WoE'] \n",
        "    reject.loc[reject['inquiry_14_day'] == el, 'inquiry_14_day'] = d_inquiry_14_day.loc[el, 'WoE'] "
      ],
      "execution_count": 955,
      "outputs": []
    },
    {
      "cell_type": "code",
      "metadata": {
        "colab": {
          "base_uri": "https://localhost:8080/"
        },
        "id": "0MmcfHxgNNqC",
        "outputId": "40f55d26-de8a-41bf-82f7-0047174e6e9c"
      },
      "source": [
        "iv_inquiry_14_day = np.sum((d_inquiry_14_day['f(x|y=1)'] -  d_inquiry_14_day['f(x|y=0)']) *  d_inquiry_14_day['WoE'])\n",
        "iv_cat['inquiry_14_day'] = iv_inquiry_14_day\n",
        "iv_inquiry_14_day "
      ],
      "execution_count": 956,
      "outputs": [
        {
          "output_type": "execute_result",
          "data": {
            "text/plain": [
              "-0.4518979290298152"
            ]
          },
          "metadata": {
            "tags": []
          },
          "execution_count": 956
        }
      ]
    },
    {
      "cell_type": "code",
      "metadata": {
        "colab": {
          "base_uri": "https://localhost:8080/",
          "height": 328
        },
        "id": "A6iN6nTHNNwD",
        "outputId": "70511315-71a9-4bcc-d5af-cc86e79171ad"
      },
      "source": [
        "d_inquiry_21_day = pd.DataFrame(index=accept['inquiry_21_day'].unique(), columns=['количество объектов', 'количество 1', 'f(x|y=1)', 'количество 0', 'f(x|y=0)', 'WoE'])\n",
        "\n",
        "for el in accept['inquiry_21_day'].unique():\n",
        "    d_inquiry_21_day.loc[el, 'количество объектов'] = accept.loc[accept['inquiry_21_day'] == el].shape[0]\n",
        "    d_inquiry_21_day.loc[el, 'количество 1'] = accept.loc[(accept['inquiry_21_day'] == el) & (accept['target'] == 1)].shape[0]\n",
        "    d_inquiry_21_day.loc[el, 'f(x|y=1)'] =  d_inquiry_21_day.loc[el, 'количество 1']  / accept.loc[accept['target'] == 1].shape[0]\n",
        "    d_inquiry_21_day.loc[el, 'количество 0'] = accept.loc[(accept['inquiry_21_day'] == el) & (accept['target'] == 0)].shape[0]\n",
        "    d_inquiry_21_day.loc[el, 'f(x|y=0)'] = d_inquiry_21_day.loc[el, 'количество 0']  / accept.loc[accept['target'] == 0].shape[0]\n",
        "    d_inquiry_21_day.loc[el, 'WoE'] = np.log(d_inquiry_21_day.loc[el, 'f(x|y=0)'] + 1e-6 / (d_inquiry_21_day.loc[el, 'f(x|y=1)'] + 1e-6))\n",
        "\n",
        "d_inquiry_21_day"
      ],
      "execution_count": 957,
      "outputs": [
        {
          "output_type": "execute_result",
          "data": {
            "text/html": [
              "<div>\n",
              "<style scoped>\n",
              "    .dataframe tbody tr th:only-of-type {\n",
              "        vertical-align: middle;\n",
              "    }\n",
              "\n",
              "    .dataframe tbody tr th {\n",
              "        vertical-align: top;\n",
              "    }\n",
              "\n",
              "    .dataframe thead th {\n",
              "        text-align: right;\n",
              "    }\n",
              "</style>\n",
              "<table border=\"1\" class=\"dataframe\">\n",
              "  <thead>\n",
              "    <tr style=\"text-align: right;\">\n",
              "      <th></th>\n",
              "      <th>количество объектов</th>\n",
              "      <th>количество 1</th>\n",
              "      <th>f(x|y=1)</th>\n",
              "      <th>количество 0</th>\n",
              "      <th>f(x|y=0)</th>\n",
              "      <th>WoE</th>\n",
              "    </tr>\n",
              "  </thead>\n",
              "  <tbody>\n",
              "    <tr>\n",
              "      <th>0.0</th>\n",
              "      <td>14968</td>\n",
              "      <td>222</td>\n",
              "      <td>0.556391</td>\n",
              "      <td>14746</td>\n",
              "      <td>0.686084</td>\n",
              "      <td>-0.376753</td>\n",
              "    </tr>\n",
              "    <tr>\n",
              "      <th>1.0</th>\n",
              "      <td>5646</td>\n",
              "      <td>110</td>\n",
              "      <td>0.275689</td>\n",
              "      <td>5536</td>\n",
              "      <td>0.257572</td>\n",
              "      <td>-1.35644</td>\n",
              "    </tr>\n",
              "    <tr>\n",
              "      <th>2.0</th>\n",
              "      <td>993</td>\n",
              "      <td>38</td>\n",
              "      <td>0.0952381</td>\n",
              "      <td>955</td>\n",
              "      <td>0.0444331</td>\n",
              "      <td>-3.11353</td>\n",
              "    </tr>\n",
              "    <tr>\n",
              "      <th>3.0</th>\n",
              "      <td>201</td>\n",
              "      <td>16</td>\n",
              "      <td>0.0401003</td>\n",
              "      <td>185</td>\n",
              "      <td>0.00860745</td>\n",
              "      <td>-4.75223</td>\n",
              "    </tr>\n",
              "    <tr>\n",
              "      <th>4.0</th>\n",
              "      <td>63</td>\n",
              "      <td>7</td>\n",
              "      <td>0.0175439</td>\n",
              "      <td>56</td>\n",
              "      <td>0.0026055</td>\n",
              "      <td>-5.92849</td>\n",
              "    </tr>\n",
              "    <tr>\n",
              "      <th>5.0</th>\n",
              "      <td>14</td>\n",
              "      <td>2</td>\n",
              "      <td>0.00501253</td>\n",
              "      <td>12</td>\n",
              "      <td>0.000558321</td>\n",
              "      <td>-7.18512</td>\n",
              "    </tr>\n",
              "    <tr>\n",
              "      <th>7.0</th>\n",
              "      <td>2</td>\n",
              "      <td>1</td>\n",
              "      <td>0.00250627</td>\n",
              "      <td>1</td>\n",
              "      <td>4.65268e-05</td>\n",
              "      <td>-7.71661</td>\n",
              "    </tr>\n",
              "    <tr>\n",
              "      <th>6.0</th>\n",
              "      <td>4</td>\n",
              "      <td>2</td>\n",
              "      <td>0.00501253</td>\n",
              "      <td>2</td>\n",
              "      <td>9.30536e-05</td>\n",
              "      <td>-8.137</td>\n",
              "    </tr>\n",
              "    <tr>\n",
              "      <th>8.0</th>\n",
              "      <td>1</td>\n",
              "      <td>1</td>\n",
              "      <td>0.00250627</td>\n",
              "      <td>0</td>\n",
              "      <td>0</td>\n",
              "      <td>-7.82695</td>\n",
              "    </tr>\n",
              "  </tbody>\n",
              "</table>\n",
              "</div>"
            ],
            "text/plain": [
              "    количество объектов количество 1  ...     f(x|y=0)       WoE\n",
              "0.0               14968          222  ...     0.686084 -0.376753\n",
              "1.0                5646          110  ...     0.257572  -1.35644\n",
              "2.0                 993           38  ...    0.0444331  -3.11353\n",
              "3.0                 201           16  ...   0.00860745  -4.75223\n",
              "4.0                  63            7  ...    0.0026055  -5.92849\n",
              "5.0                  14            2  ...  0.000558321  -7.18512\n",
              "7.0                   2            1  ...  4.65268e-05  -7.71661\n",
              "6.0                   4            2  ...  9.30536e-05    -8.137\n",
              "8.0                   1            1  ...            0  -7.82695\n",
              "\n",
              "[9 rows x 6 columns]"
            ]
          },
          "metadata": {
            "tags": []
          },
          "execution_count": 957
        }
      ]
    },
    {
      "cell_type": "code",
      "metadata": {
        "id": "ukbtgMiYq0H4"
      },
      "source": [
        "for el in accept['inquiry_21_day'].unique():\n",
        "    accept.loc[accept['inquiry_21_day'] == el, 'inquiry_21_day'] = d_inquiry_21_day.loc[el, 'WoE'] \n",
        "    reject.loc[reject['inquiry_21_day'] == el, 'inquiry_21_day'] = d_inquiry_21_day.loc[el, 'WoE']"
      ],
      "execution_count": 958,
      "outputs": []
    },
    {
      "cell_type": "code",
      "metadata": {
        "colab": {
          "base_uri": "https://localhost:8080/"
        },
        "id": "nra8ES-_NN0m",
        "outputId": "0b436eb8-121a-4e53-e230-dc65b50ac347"
      },
      "source": [
        "iv_inquiry_21_day = np.sum((d_inquiry_21_day['f(x|y=1)'] -  d_inquiry_21_day['f(x|y=0)']) *  d_inquiry_21_day['WoE'])\n",
        "iv_cat['inquiry_21_day'] = iv_inquiry_21_day\n",
        "iv_inquiry_21_day"
      ],
      "execution_count": 959,
      "outputs": [
        {
          "output_type": "execute_result",
          "data": {
            "text/plain": [
              "-0.48274982202530464"
            ]
          },
          "metadata": {
            "tags": []
          },
          "execution_count": 959
        }
      ]
    },
    {
      "cell_type": "markdown",
      "metadata": {
        "id": "A2mq1A4DSMbR"
      },
      "source": [
        "Итого IV для каждого категориального признака выглдяит следующим образом:"
      ]
    },
    {
      "cell_type": "code",
      "metadata": {
        "colab": {
          "base_uri": "https://localhost:8080/"
        },
        "id": "w4RLgoXxNN7T",
        "outputId": "6c981725-200a-472d-a782-572eeba6516f"
      },
      "source": [
        "print(iv_cat.to_markdown())"
      ],
      "execution_count": 960,
      "outputs": [
        {
          "output_type": "stream",
          "text": [
            "|    |   INCOME_TYPE |   EDUCATION_ |   CUSTOMER_CATEGORY_ |   DEPENDANT_NUMBER |   IS_EMPL |   COUNT_ACTIVE_CREDIT_NO_CC |   inquiry_14_day |   inquiry_21_day |\n",
            "|:---|--------------:|-------------:|---------------------:|-------------------:|----------:|----------------------------:|-----------------:|-----------------:|\n",
            "| IV |    -0.0229507 |    -0.132365 |          -0.00177986 |        -0.00966854 | -0.759091 |                   -0.218812 |        -0.451898 |         -0.48275 |\n"
          ],
          "name": "stdout"
        }
      ]
    },
    {
      "cell_type": "markdown",
      "metadata": {
        "id": "C1rnsiJUt4CI"
      },
      "source": [
        "4. Построим логистическую регрессию на преобразованных признаках."
      ]
    },
    {
      "cell_type": "code",
      "metadata": {
        "id": "occignJ4_xCv",
        "colab": {
          "base_uri": "https://localhost:8080/",
          "height": 419
        },
        "outputId": "a36bc30c-623e-4d9f-df59-ca37fb37fedc"
      },
      "source": [
        "accept"
      ],
      "execution_count": 962,
      "outputs": [
        {
          "output_type": "execute_result",
          "data": {
            "text/html": [
              "<div>\n",
              "<style scoped>\n",
              "    .dataframe tbody tr th:only-of-type {\n",
              "        vertical-align: middle;\n",
              "    }\n",
              "\n",
              "    .dataframe tbody tr th {\n",
              "        vertical-align: top;\n",
              "    }\n",
              "\n",
              "    .dataframe thead th {\n",
              "        text-align: right;\n",
              "    }\n",
              "</style>\n",
              "<table border=\"1\" class=\"dataframe\">\n",
              "  <thead>\n",
              "    <tr style=\"text-align: right;\">\n",
              "      <th></th>\n",
              "      <th>target</th>\n",
              "      <th>INCOME_TYPE</th>\n",
              "      <th>EDUCATION_</th>\n",
              "      <th>CUSTOMER_CATEGORY_</th>\n",
              "      <th>income</th>\n",
              "      <th>DEPENDANT_NUMBER</th>\n",
              "      <th>IS_EMPL</th>\n",
              "      <th>COUNT_ACTIVE_CREDIT_NO_CC</th>\n",
              "      <th>CNT_MNTH_FROM_LAST_PMNT</th>\n",
              "      <th>age</th>\n",
              "      <th>experience</th>\n",
              "      <th>inquiry_14_day</th>\n",
              "      <th>inquiry_21_day</th>\n",
              "      <th>count_mnth_act_passport</th>\n",
              "    </tr>\n",
              "  </thead>\n",
              "  <tbody>\n",
              "    <tr>\n",
              "      <th>1</th>\n",
              "      <td>0</td>\n",
              "      <td>-0.0924223</td>\n",
              "      <td>0.249074</td>\n",
              "      <td>-0.00468975</td>\n",
              "      <td>0.380861</td>\n",
              "      <td>-0.00123</td>\n",
              "      <td>-0.444825</td>\n",
              "      <td>-0.763238</td>\n",
              "      <td>-0.000700</td>\n",
              "      <td>-0.148752</td>\n",
              "      <td>-0.204967</td>\n",
              "      <td>-0.325402</td>\n",
              "      <td>-0.376753</td>\n",
              "      <td>0.257097</td>\n",
              "    </tr>\n",
              "    <tr>\n",
              "      <th>2</th>\n",
              "      <td>0</td>\n",
              "      <td>-0.0924223</td>\n",
              "      <td>0.249074</td>\n",
              "      <td>-0.00468975</td>\n",
              "      <td>0.380861</td>\n",
              "      <td>-0.00123</td>\n",
              "      <td>1.816627</td>\n",
              "      <td>-0.915262</td>\n",
              "      <td>-0.000700</td>\n",
              "      <td>0.053218</td>\n",
              "      <td>-0.204967</td>\n",
              "      <td>-1.440237</td>\n",
              "      <td>-1.356441</td>\n",
              "      <td>0.147821</td>\n",
              "    </tr>\n",
              "    <tr>\n",
              "      <th>4</th>\n",
              "      <td>0</td>\n",
              "      <td>-0.0924223</td>\n",
              "      <td>0.249074</td>\n",
              "      <td>-0.00468975</td>\n",
              "      <td>0.380861</td>\n",
              "      <td>-0.00123</td>\n",
              "      <td>1.816627</td>\n",
              "      <td>-2.308257</td>\n",
              "      <td>-0.000700</td>\n",
              "      <td>0.107513</td>\n",
              "      <td>-0.204967</td>\n",
              "      <td>-0.325402</td>\n",
              "      <td>-0.376753</td>\n",
              "      <td>0.366019</td>\n",
              "    </tr>\n",
              "    <tr>\n",
              "      <th>6</th>\n",
              "      <td>0</td>\n",
              "      <td>-0.0924223</td>\n",
              "      <td>0.249074</td>\n",
              "      <td>-0.00468975</td>\n",
              "      <td>-0.050946</td>\n",
              "      <td>-0.00123</td>\n",
              "      <td>1.816627</td>\n",
              "      <td>-0.763238</td>\n",
              "      <td>-0.197876</td>\n",
              "      <td>0.053218</td>\n",
              "      <td>-0.204967</td>\n",
              "      <td>-1.440237</td>\n",
              "      <td>-1.356441</td>\n",
              "      <td>-0.086491</td>\n",
              "    </tr>\n",
              "    <tr>\n",
              "      <th>11</th>\n",
              "      <td>0</td>\n",
              "      <td>0.248801</td>\n",
              "      <td>0.249074</td>\n",
              "      <td>-0.00468975</td>\n",
              "      <td>0.380861</td>\n",
              "      <td>-0.00123</td>\n",
              "      <td>-0.444825</td>\n",
              "      <td>-0.763238</td>\n",
              "      <td>-0.000700</td>\n",
              "      <td>0.107513</td>\n",
              "      <td>-0.204967</td>\n",
              "      <td>-1.440237</td>\n",
              "      <td>-1.356441</td>\n",
              "      <td>0.147821</td>\n",
              "    </tr>\n",
              "    <tr>\n",
              "      <th>...</th>\n",
              "      <td>...</td>\n",
              "      <td>...</td>\n",
              "      <td>...</td>\n",
              "      <td>...</td>\n",
              "      <td>...</td>\n",
              "      <td>...</td>\n",
              "      <td>...</td>\n",
              "      <td>...</td>\n",
              "      <td>...</td>\n",
              "      <td>...</td>\n",
              "      <td>...</td>\n",
              "      <td>...</td>\n",
              "      <td>...</td>\n",
              "      <td>...</td>\n",
              "    </tr>\n",
              "    <tr>\n",
              "      <th>32540</th>\n",
              "      <td>1</td>\n",
              "      <td>-0.0924223</td>\n",
              "      <td>-0.555034</td>\n",
              "      <td>-0.00468975</td>\n",
              "      <td>-0.050946</td>\n",
              "      <td>-0.00123</td>\n",
              "      <td>-0.444825</td>\n",
              "      <td>-0.915262</td>\n",
              "      <td>-0.000700</td>\n",
              "      <td>0.053218</td>\n",
              "      <td>-0.204967</td>\n",
              "      <td>-0.325402</td>\n",
              "      <td>-1.356441</td>\n",
              "      <td>-0.086491</td>\n",
              "    </tr>\n",
              "    <tr>\n",
              "      <th>32545</th>\n",
              "      <td>1</td>\n",
              "      <td>-0.0924223</td>\n",
              "      <td>0.249074</td>\n",
              "      <td>-0.00468975</td>\n",
              "      <td>-0.050946</td>\n",
              "      <td>-0.00123</td>\n",
              "      <td>-0.444825</td>\n",
              "      <td>-0.915262</td>\n",
              "      <td>-0.000700</td>\n",
              "      <td>-0.266136</td>\n",
              "      <td>-0.204967</td>\n",
              "      <td>-1.440237</td>\n",
              "      <td>-1.356441</td>\n",
              "      <td>-0.086491</td>\n",
              "    </tr>\n",
              "    <tr>\n",
              "      <th>32548</th>\n",
              "      <td>1</td>\n",
              "      <td>-0.0924223</td>\n",
              "      <td>-0.442197</td>\n",
              "      <td>-0.00468975</td>\n",
              "      <td>-0.050946</td>\n",
              "      <td>-0.00123</td>\n",
              "      <td>-0.444825</td>\n",
              "      <td>-0.915262</td>\n",
              "      <td>-0.000700</td>\n",
              "      <td>0.053218</td>\n",
              "      <td>-0.204967</td>\n",
              "      <td>-1.440237</td>\n",
              "      <td>-1.356441</td>\n",
              "      <td>0.147821</td>\n",
              "    </tr>\n",
              "    <tr>\n",
              "      <th>32549</th>\n",
              "      <td>1</td>\n",
              "      <td>-0.0924223</td>\n",
              "      <td>-0.442197</td>\n",
              "      <td>-0.00468975</td>\n",
              "      <td>-0.050946</td>\n",
              "      <td>-0.00123</td>\n",
              "      <td>-0.444825</td>\n",
              "      <td>-0.763238</td>\n",
              "      <td>-0.000700</td>\n",
              "      <td>0.301714</td>\n",
              "      <td>-0.204967</td>\n",
              "      <td>-1.440237</td>\n",
              "      <td>-1.356441</td>\n",
              "      <td>0.257097</td>\n",
              "    </tr>\n",
              "    <tr>\n",
              "      <th>32550</th>\n",
              "      <td>1</td>\n",
              "      <td>0.248801</td>\n",
              "      <td>0.249074</td>\n",
              "      <td>-0.00468975</td>\n",
              "      <td>-0.050946</td>\n",
              "      <td>-0.00123</td>\n",
              "      <td>-0.444825</td>\n",
              "      <td>-0.915262</td>\n",
              "      <td>-0.000700</td>\n",
              "      <td>-0.266136</td>\n",
              "      <td>-0.204967</td>\n",
              "      <td>-1.440237</td>\n",
              "      <td>-1.356441</td>\n",
              "      <td>-0.086491</td>\n",
              "    </tr>\n",
              "  </tbody>\n",
              "</table>\n",
              "<p>21892 rows × 14 columns</p>\n",
              "</div>"
            ],
            "text/plain": [
              "       target INCOME_TYPE  ... inquiry_21_day count_mnth_act_passport\n",
              "1           0  -0.0924223  ...      -0.376753                0.257097\n",
              "2           0  -0.0924223  ...      -1.356441                0.147821\n",
              "4           0  -0.0924223  ...      -0.376753                0.366019\n",
              "6           0  -0.0924223  ...      -1.356441               -0.086491\n",
              "11          0    0.248801  ...      -1.356441                0.147821\n",
              "...       ...         ...  ...            ...                     ...\n",
              "32540       1  -0.0924223  ...      -1.356441               -0.086491\n",
              "32545       1  -0.0924223  ...      -1.356441               -0.086491\n",
              "32548       1  -0.0924223  ...      -1.356441                0.147821\n",
              "32549       1  -0.0924223  ...      -1.356441                0.257097\n",
              "32550       1    0.248801  ...      -1.356441               -0.086491\n",
              "\n",
              "[21892 rows x 14 columns]"
            ]
          },
          "metadata": {
            "tags": []
          },
          "execution_count": 962
        }
      ]
    },
    {
      "cell_type": "code",
      "metadata": {
        "colab": {
          "base_uri": "https://localhost:8080/"
        },
        "id": "Hg--e8BbrSNM",
        "outputId": "9c8d1b31-12e8-4be1-cfe9-8e989215c222"
      },
      "source": [
        "accept.isna().sum(axis=0)"
      ],
      "execution_count": 963,
      "outputs": [
        {
          "output_type": "execute_result",
          "data": {
            "text/plain": [
              "target                       0\n",
              "INCOME_TYPE                  0\n",
              "EDUCATION_                   0\n",
              "CUSTOMER_CATEGORY_           0\n",
              "income                       0\n",
              "DEPENDANT_NUMBER             0\n",
              "IS_EMPL                      0\n",
              "COUNT_ACTIVE_CREDIT_NO_CC    0\n",
              "CNT_MNTH_FROM_LAST_PMNT      0\n",
              "age                          0\n",
              "experience                   0\n",
              "inquiry_14_day               0\n",
              "inquiry_21_day               0\n",
              "count_mnth_act_passport      0\n",
              "dtype: int64"
            ]
          },
          "metadata": {
            "tags": []
          },
          "execution_count": 963
        }
      ]
    },
    {
      "cell_type": "markdown",
      "metadata": {
        "id": "HLBoJ6QUwFbX"
      },
      "source": [
        "Теперь разделим наши данные на обучающую и тестовую выборку, для более корректного определения результатов. "
      ]
    },
    {
      "cell_type": "code",
      "metadata": {
        "id": "FGCcilAUwOKo"
      },
      "source": [
        "X_train, X_test, y_train, y_test = train_test_split(accept.drop(columns=['target']), accept['target'], test_size=0.2, random_state=42)"
      ],
      "execution_count": 964,
      "outputs": []
    },
    {
      "cell_type": "markdown",
      "metadata": {
        "id": "scztxaKBv4ca"
      },
      "source": [
        "Наконец построим логистическую регрессию по WoE. "
      ]
    },
    {
      "cell_type": "code",
      "metadata": {
        "id": "imAd46v5_xF6"
      },
      "source": [
        "model = LogisticRegression(penalty='l2', random_state=42)\n",
        "model.fit(X_train, y_train) \n",
        "y_pred = model.predict_proba(X_test)\n",
        "y_pred = y_pred[:, 1]\n",
        "labels = (y_pred < 0.99).astype(int)"
      ],
      "execution_count": 965,
      "outputs": []
    },
    {
      "cell_type": "markdown",
      "metadata": {
        "id": "5mxnlULuwI5G"
      },
      "source": [
        "Нарисуем ROC кривую для наглядности."
      ]
    },
    {
      "cell_type": "code",
      "metadata": {
        "id": "wpHicoDN_xI4",
        "colab": {
          "base_uri": "https://localhost:8080/",
          "height": 523
        },
        "outputId": "65e7c49e-b187-4977-f986-bc0c362d4922"
      },
      "source": [
        "plt.figure(figsize=(8, 8))\n",
        "fpr, tpr, thresholds = roc_curve(y_test, y_pred, pos_label=1)\n",
        "plt.plot(fpr, tpr, color='c')\n",
        "plt.plot([0, 1], [0, 1], 'r--', color='palevioletred')\n",
        "plt.xlim([0.0, 1.0])\n",
        "plt.ylim([0.0, 1.0])\n",
        "plt.xlabel('False Positive Rate', size=15)\n",
        "plt.ylabel('True Positive Rate', size=15)\n",
        "plt.title('ROC curve', size=20)\n",
        "plt.show()"
      ],
      "execution_count": 966,
      "outputs": [
        {
          "output_type": "display_data",
          "data": {
            "image/png": "[encoded data removed]",
            "text/plain": [
              "<Figure size 576x576 with 1 Axes>"
            ]
          },
          "metadata": {
            "tags": [],
            "needs_background": "light"
          }
        }
      ]
    },
    {
      "cell_type": "markdown",
      "metadata": {
        "id": "BLOYehGlx06B"
      },
      "source": [
        "Теперь посчитаем значение коэффициента Gini и F1-меры. Для этого напишем функцию, вычисляющую значение коэффициента Gini через площадь под ROC кривой."
      ]
    },
    {
      "cell_type": "code",
      "metadata": {
        "id": "zQqYk91x_xNN"
      },
      "source": [
        "def gini(true, pred):\n",
        "    return 2 * roc_auc_score(true, pred) - 1"
      ],
      "execution_count": 967,
      "outputs": []
    },
    {
      "cell_type": "code",
      "metadata": {
        "id": "zyh910fW_xP9",
        "colab": {
          "base_uri": "https://localhost:8080/"
        },
        "outputId": "44128567-c755-44ea-81a9-3ef620b0fbef"
      },
      "source": [
        "print('Значение коэффициента Gini для регрессии на одобренных заявках = ', gini(y_test, y_pred))\n",
        "print('Значение F1-меры для регрессии на одобренных заявках = ', f1_score(y_test, labels))"
      ],
      "execution_count": 968,
      "outputs": [
        {
          "output_type": "stream",
          "text": [
            "Значение коэффициента Gini для регрессии на одобренных заявках =  0.6667604791026458\n",
            "Значение F1-меры для регрессии на одобренных заявках =  0.04115410422724222\n"
          ],
          "name": "stdout"
        }
      ]
    },
    {
      "cell_type": "markdown",
      "metadata": {
        "id": "fQICYIkC1Kg1"
      },
      "source": [
        "5. Проведем Reject Inference. И посмотрим на долю отказанных заявок. \n",
        "\n",
        "Таблицу reject по accept мы уже заполнили в коде выше. Осталось обучить модель."
      ]
    },
    {
      "cell_type": "code",
      "metadata": {
        "id": "l3NVt3S2U07q"
      },
      "source": [
        "acc = pd.read_csv('/content/gdrive/My Drive/10_accept.csv')\n",
        "rej = pd.read_csv('/content/gdrive/My Drive/10_reject.csv')"
      ],
      "execution_count": 1013,
      "outputs": []
    },
    {
      "cell_type": "code",
      "metadata": {
        "colab": {
          "base_uri": "https://localhost:8080/"
        },
        "id": "b586JbdY6V9p",
        "outputId": "9dcb8ead-5140-48f5-e4d8-d31820600309"
      },
      "source": [
        "print('Доля отказынных заявок = ', rej.shape[0] / (acc.shape[0] + rej.shape[0]))"
      ],
      "execution_count": 1014,
      "outputs": [
        {
          "output_type": "stream",
          "text": [
            "Доля отказынных заявок =  0.24725414479617083\n"
          ],
          "name": "stdout"
        }
      ]
    },
    {
      "cell_type": "markdown",
      "metadata": {
        "id": "DlSEuL2WIkVM"
      },
      "source": [
        "Восстановим таргет в reject, при помощи предсказаний логистической регрессии, обученной на accept"
      ]
    },
    {
      "cell_type": "code",
      "metadata": {
        "id": "s0bSdkWg_Q4F"
      },
      "source": [
        "y_pred = model.predict_proba(reject)\n",
        "y_pred = y_pred[:, 1]\n",
        "labels = (y_pred < 0.99).astype(int)"
      ],
      "execution_count": 970,
      "outputs": []
    },
    {
      "cell_type": "markdown",
      "metadata": {
        "id": "c-Ok_2d2KCt_"
      },
      "source": [
        "Возьмем в качестве порога 1%"
      ]
    },
    {
      "cell_type": "code",
      "metadata": {
        "id": "H0DHuNGM_RAs"
      },
      "source": [
        "reject['target'] = (y_pred < 0.01).astype(int)"
      ],
      "execution_count": 972,
      "outputs": []
    },
    {
      "cell_type": "markdown",
      "metadata": {
        "id": "p4CsPUfrL8cG"
      },
      "source": [
        "Объеденим все в один дата фрейм и пересчитаем IV."
      ]
    },
    {
      "cell_type": "code",
      "metadata": {
        "id": "vi0-VA3BRtPk"
      },
      "source": [
        "res = pd.concat([accept, reject])"
      ],
      "execution_count": 996,
      "outputs": []
    },
    {
      "cell_type": "code",
      "metadata": {
        "id": "KlbKhAtoM-40"
      },
      "source": [
        "iv_res_num = pd.DataFrame(index=['IV'])\n",
        "iv_res_cat = pd.DataFrame(index=['IV'])"
      ],
      "execution_count": 1035,
      "outputs": []
    },
    {
      "cell_type": "code",
      "metadata": {
        "id": "u6_aAAb8Mwbw"
      },
      "source": [
        "for f in num_features:\n",
        "    d_cur = pd.DataFrame(index=res[f].unique(), columns=['количество объектов', 'количество 1', 'f(x|y=1)', 'количество 0', 'f(x|y=0)', 'WoE'])\n",
        "\n",
        "    for el in res[f].unique():\n",
        "        d_cur.loc[el, 'количество объектов'] = res.loc[res[f] == el].shape[0]\n",
        "        d_cur.loc[el, 'количество 1'] = res.loc[(res[f] == el) & (res['target'] == 1)].shape[0]\n",
        "        d_cur.loc[el, 'f(x|y=1)'] =  d_cur.loc[el, 'количество 1']  / (res.loc[res['target'] == 1].shape[0])\n",
        "        d_cur.loc[el, 'количество 0'] = res.loc[(res[f] == el) & (res['target'] == 0)].shape[0]\n",
        "        d_cur.loc[el, 'f(x|y=0)'] = d_cur.loc[el, 'количество 0']  / (res.loc[res['target'] == 0].shape[0])\n",
        "        d_cur.loc[el, 'WoE'] = el\n",
        "\n",
        "\n",
        "    iv_cur = np.sum((d_cur['f(x|y=1)'] - d_cur['f(x|y=0)']) * d_cur['WoE'])\n",
        "    iv_res_num[f] = iv_cur"
      ],
      "execution_count": 1036,
      "outputs": []
    },
    {
      "cell_type": "code",
      "metadata": {
        "id": "9EREh1Z5from"
      },
      "source": [
        "for f in cat_features:\n",
        "    d_cur = pd.DataFrame(index=res[f].unique(), columns=['количество объектов', 'количество 1', 'f(x|y=1)', 'количество 0', 'f(x|y=0)', 'WoE'])\n",
        "\n",
        "    for el in res[f].unique():\n",
        "        d_cur.loc[el, 'количество объектов'] = res.loc[res[f] == el].shape[0]\n",
        "        d_cur.loc[el, 'количество 1'] = res.loc[(res[f] == el) & (res['target'] == 1)].shape[0]\n",
        "        d_cur.loc[el, 'f(x|y=1)'] =  d_cur.loc[el, 'количество 1']  / (res.loc[res['target'] == 1].shape[0])\n",
        "        d_cur.loc[el, 'количество 0'] = res.loc[(res[f] == el) & (res['target'] == 0)].shape[0]\n",
        "        d_cur.loc[el, 'f(x|y=0)'] = d_cur.loc[el, 'количество 0']  / (res.loc[res['target'] == 0].shape[0])\n",
        "        d_cur.loc[el, 'WoE'] = el\n",
        "\n",
        "\n",
        "    iv_cur = np.sum((d_cur['f(x|y=1)'] - d_cur['f(x|y=0)']) * d_cur['WoE'])\n",
        "    iv_res_cat[f] = iv_cur"
      ],
      "execution_count": 1037,
      "outputs": []
    },
    {
      "cell_type": "code",
      "metadata": {
        "colab": {
          "base_uri": "https://localhost:8080/"
        },
        "id": "TSWG7XCVL7Lr",
        "outputId": "43d68da4-fa1f-4784-a953-54501c88b344"
      },
      "source": [
        "print(iv_res_num.to_markdown())"
      ],
      "execution_count": 1038,
      "outputs": [
        {
          "output_type": "stream",
          "text": [
            "|    |     income |   CNT_MNTH_FROM_LAST_PMNT |       age |   count_mnth_act_passport |   experience |\n",
            "|:---|-----------:|--------------------------:|----------:|--------------------------:|-------------:|\n",
            "| IV | -0.0698674 |               -0.00607779 | 0.0184554 |                 -0.246041 |    -0.243327 |\n"
          ],
          "name": "stdout"
        }
      ]
    },
    {
      "cell_type": "code",
      "metadata": {
        "colab": {
          "base_uri": "https://localhost:8080/"
        },
        "id": "yTZP0yKcL7Ut",
        "outputId": "b75e2407-2c16-4c05-a77d-3f47edf7b967"
      },
      "source": [
        "print(iv_res_cat.to_markdown())"
      ],
      "execution_count": 1040,
      "outputs": [
        {
          "output_type": "stream",
          "text": [
            "|    |   INCOME_TYPE |   EDUCATION_ |   CUSTOMER_CATEGORY_ |   DEPENDANT_NUMBER |   IS_EMPL |   COUNT_ACTIVE_CREDIT_NO_CC |   inquiry_14_day |   inquiry_21_day |\n",
            "|:---|--------------:|-------------:|---------------------:|-------------------:|----------:|----------------------------:|-----------------:|-----------------:|\n",
            "| IV |    -0.0585968 |    -0.059291 |            -0.004762 |        -0.00645561 |   1.14323 |                   0.0397387 |         0.169064 |         0.165502 |\n"
          ],
          "name": "stdout"
        }
      ]
    },
    {
      "cell_type": "markdown",
      "metadata": {
        "id": "-KPbk_9Fzxor"
      },
      "source": [
        "6. А теперь построим регрессию на всех данных."
      ]
    },
    {
      "cell_type": "code",
      "metadata": {
        "id": "GL3HcTPeSsXw"
      },
      "source": [
        "X_train, X_test, y_train, y_test = train_test_split(res.drop(columns=['target']), res['target'], test_size=0.2, random_state=42)"
      ],
      "execution_count": 1042,
      "outputs": []
    },
    {
      "cell_type": "code",
      "metadata": {
        "id": "-948D4IF_xY5"
      },
      "source": [
        "model = LogisticRegression(penalty='l2', random_state=42)\n",
        "model.fit(X_train, y_train) \n",
        "y_pred = model.predict_proba(X_test)\n",
        "y_pred = y_pred[:, 1]\n",
        "labels = (y_pred < 0.99).astype(int)"
      ],
      "execution_count": 1043,
      "outputs": []
    },
    {
      "cell_type": "code",
      "metadata": {
        "id": "xigM7Olu_xbC",
        "colab": {
          "base_uri": "https://localhost:8080/"
        },
        "outputId": "996f21ed-7f37-4134-b376-0fb87f1eb4ec"
      },
      "source": [
        "print('Значение коэффициента Gini для регрессии на всех заявках =', gini(y_test, y_pred))\n",
        "print('Значение F1-меры для регрессии на всех заявках =', f1_score(y_test, labels))"
      ],
      "execution_count": 1044,
      "outputs": [
        {
          "output_type": "stream",
          "text": [
            "Значение коэффициента Gini для регрессии на всех заявках = 0.7869848423441677\n",
            "Значение F1-меры для регрессии на всех заявках = 0.21505376344086022\n"
          ],
          "name": "stdout"
        }
      ]
    },
    {
      "cell_type": "markdown",
      "metadata": {
        "id": "Rc82HZ-wTDsu"
      },
      "source": [
        "Как можно заметить, увеличилось как значение коэффициента Джини, так и F1-меры. То есть качество модели стало выше."
      ]
    },
    {
      "cell_type": "markdown",
      "metadata": {
        "id": "RNwrsprT1ZPR"
      },
      "source": [
        "7. А теперь проанализируем полученные результаты и подумаем над тем, какую модель было бы логичнее внедрить в продуктивную среду."
      ]
    },
    {
      "cell_type": "markdown",
      "metadata": {
        "id": "Xn0lDgNTg0qv"
      },
      "source": [
        "Как мы знаем, че больше значение коэффициента Gini и F1 меры, тем выше качество классификации. В нашем случае значения данных метрик вышли выше для модели на объедененной выборке, то есть содержащей в себе как одобренные заявки, так и отклоненные. Вывод отсюда можно сделать такой, что очевидно, что отклоненные заявки также несут в себе информацию о клиентах банка, поэтому полезны при построении скоринговой модели. Ведь при использовании моедли в дальнейшем нам придется обрабатывать как потенциально \"хорошие\" заявки, так и потенциально \"плохие\" (которым нужно отказать), поэтому важно понимать особенности отклоненных ранее заявок при построении скоринговой модели.Единственная проблема, которая тут возникает - на моменте Reject Inference при восстановлении меток таргета у отклоненных заявок. Как мне кажется, тот метод, который использовали мы не очень корректен на наших данных, так как среди отклоненных заявок есть такие значения признаков, которые вообще не встречаются среди одобренных (например, возраст), таким образом бинаризация происходит не полностью корректно, из-за чего качество будущей модели (в нашем случае логистической регресси) хуже, чем могло быть. Мне кажется, что при более граммотном выполнении Reject Inference модель на объедененной выборке дала бы еще более хорошее часество (все-таки значение F1 меры 0.22 - это довольно посредственно).\n",
        "\n",
        "Так что, как мне кажется, логичнее внедрить в продуктивную среду было бы модель, построенную на всех заявках, а не только на принятых. "
      ]
    }
  ]
}